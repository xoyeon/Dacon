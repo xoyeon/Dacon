{
  "nbformat": 4,
  "nbformat_minor": 0,
  "metadata": {
    "colab": {
      "name": "Lv1_전처리_5/14_isdecimal()",
      "provenance": [],
      "collapsed_sections": [
        "YLKidTge4gsx"
      ],
      "include_colab_link": true
    },
    "kernelspec": {
      "name": "python3",
      "display_name": "Python 3"
    },
    "language_info": {
      "name": "python"
    }
  },
  "cells": [
    {
      "cell_type": "markdown",
      "metadata": {
        "id": "view-in-github",
        "colab_type": "text"
      },
      "source": [
        "<a href=\"https://colab.research.google.com/github/xoyeon/Dacon-Daily-Python-Camp/blob/main/Lv1_%EC%A0%84%EC%B2%98%EB%A6%AC_5_14_isdecimal().ipynb\" target=\"_parent\"><img src=\"https://colab.research.google.com/assets/colab-badge.svg\" alt=\"Open In Colab\"/></a>"
      ]
    },
    {
      "cell_type": "markdown",
      "metadata": {
        "id": "vIpjpOEXsoW0"
      },
      "source": [
        "# [↩️ 리스트로 돌아가기](https://dacon.io/competitions/open/235698/overview/description)"
      ]
    },
    {
      "cell_type": "markdown",
      "metadata": {
        "id": "Y8EsppNShcez"
      },
      "source": [
        "# 셀을 실행할 때 팝업이 뜨면 `무시하고 계속하기` 를 눌러주세요\n"
      ]
    },
    {
      "cell_type": "markdown",
      "metadata": {
        "id": "pzyM8mXR39O0"
      },
      "source": [
        "isdecimal()는 해당 문자열이 0~9까지의 수로 이루어진 것인지 검사합니다. 다시 말해, int로 바로 변환할 수 있는 수 인지를 검사합니다.\n",
        "\n",
        "따라서 문자열이 0~9까지의 수로 이뤄져있을 경우 True를 반환하고, 그렇지 않으면 False를 반환합니다.\n",
        "\n",
        "사용방법은 저번 시간에 배운 isalnum()과 동일합니다."
      ]
    },
    {
      "cell_type": "markdown",
      "metadata": {
        "id": "J1Is2vFL4cxY"
      },
      "source": [
        "## 실습\n",
        "---\n"
      ]
    },
    {
      "cell_type": "code",
      "metadata": {
        "id": "j7rIX3r0S_zo",
        "outputId": "669c3af1-a0be-4edc-937e-9cb103b8343d",
        "colab": {
          "base_uri": "https://localhost:8080/"
        }
      },
      "source": [
        "# isdecimal() 메소드를 이용해 output에 해당하는 값이 출력 되도록 특정 문자열을 제거 해보세요.\n",
        "\n",
        "string=\"1-2$3%4 5a\"\n",
        "\n",
        "# output : 12345\n",
        "\n",
        "isdecimal_list = []\n",
        "\n",
        "for i in string:\n",
        "  if i.isdecimal():\n",
        "    isdecimal_list.append(i)\n",
        "\n",
        "string_isdecimal = ''.join(isdecimal_list)\n",
        "print(string_isdecimal)"
      ],
      "execution_count": 1,
      "outputs": [
        {
          "output_type": "stream",
          "name": "stdout",
          "text": [
            "12345\n"
          ]
        }
      ]
    },
    {
      "cell_type": "markdown",
      "metadata": {
        "id": "YLKidTge4gsx"
      },
      "source": [
        "## 정답\n",
        "---\n",
        "스스로 실습 코드를 작성 한 후 정답 코드를 확인해 보세요."
      ]
    },
    {
      "cell_type": "code",
      "metadata": {
        "id": "xmE4w_2PRqQO"
      },
      "source": [
        "# isdecimal 메소드를 이용해 output에 해당하는 값이 출력 되도록 특정 문자열을 제거 해보세요.\n",
        "\n",
        "string=\"1-2$3%4 5a\"\n",
        "\n",
        "# output : 12345\n",
        "\n",
        "#isdecimal를 이용해 알파벳값만 담을 리스트\n",
        "isdecimal_list = []\n",
        "\n",
        "for c in string:\n",
        "  #isdecimal()를 이용해 알파벳값인지 판별\n",
        "    if c.isdecimal():\n",
        "      isdecimal_list.append(c)\n",
        "\n",
        "#join()메소드를 이용해 알파벳값 만 담긴 리스트를 결합\n",
        "string_isdecimal = ''.join(isdecimal_list)\n",
        "print(string_isdecimal)"
      ],
      "execution_count": null,
      "outputs": []
    },
    {
      "cell_type": "markdown",
      "metadata": {
        "id": "K8YgC54VtiB7"
      },
      "source": [
        "# [↩️ 리스트로 돌아가기](https://dacon.io/competitions/open/235698/overview/description)"
      ]
    }
  ]
}