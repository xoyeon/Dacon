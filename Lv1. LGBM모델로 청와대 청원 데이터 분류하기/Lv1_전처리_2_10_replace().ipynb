{
  "nbformat": 4,
  "nbformat_minor": 0,
  "metadata": {
    "colab": {
      "name": "Lv1_전처리_2/10_replace()",
      "provenance": [],
      "collapsed_sections": [
        "YLKidTge4gsx"
      ],
      "include_colab_link": true
    },
    "kernelspec": {
      "name": "python3",
      "display_name": "Python 3"
    },
    "language_info": {
      "name": "python"
    }
  },
  "cells": [
    {
      "cell_type": "markdown",
      "metadata": {
        "id": "view-in-github",
        "colab_type": "text"
      },
      "source": [
        "<a href=\"https://colab.research.google.com/github/xoyeon/Dacon-Daily-Python-Camp/blob/main/Lv1_%EC%A0%84%EC%B2%98%EB%A6%AC_2_10_replace().ipynb\" target=\"_parent\"><img src=\"https://colab.research.google.com/assets/colab-badge.svg\" alt=\"Open In Colab\"/></a>"
      ]
    },
    {
      "cell_type": "markdown",
      "metadata": {
        "id": "vIpjpOEXsoW0"
      },
      "source": [
        "# [↩️ 리스트로 돌아가기](https://dacon.io/competitions/open/235698/overview/description)"
      ]
    },
    {
      "cell_type": "markdown",
      "metadata": {
        "id": "Y8EsppNShcez"
      },
      "source": [
        "# 셀을 실행할 때 팝업이 뜨면 `무시하고 계속하기` 를 눌러주세요\n"
      ]
    },
    {
      "cell_type": "markdown",
      "metadata": {
        "id": "eYmcIiJDIj03"
      },
      "source": [
        "💫 replace()\n",
        "\n",
        "\n",
        "첫번째로 알아 볼 방법은 replace() 메소드를 사용하는 방법입니다.\n",
        "\n",
        "replace() 메소드는 특정 문자를 새로운 문자로 변경(제거)하는 기능을 가지고 있습니다. \n",
        "\n",
        "사용방법은 문자열.replace(old, new, [count]) 형식으로 사용 할 수 있습니다.\n",
        "\n",
        "- old : 현재 문자열에서 변경하고 싶은 문자\n",
        "\n",
        "- new : 새로 바꿀 문자\n",
        "\n",
        "- count : 변경할 횟수\n",
        "\n",
        "\n",
        "\n",
        "※ 횟수를 입력하지 않으면 old의 문자열 전체를 변경합니다. 또한 문자열에서 특정 문자열을 제거하고 싶다면 new 에 ''를 넣어주면 됩니다.※"
      ]
    },
    {
      "cell_type": "markdown",
      "metadata": {
        "id": "J1Is2vFL4cxY"
      },
      "source": [
        "## 실습\n",
        "---\n",
        "replace() 메소드를 이용해 주어지는 문자열을 변경해 보세요 !"
      ]
    },
    {
      "cell_type": "code",
      "metadata": {
        "id": "YdvozqoZ4uhk",
        "outputId": "014ed6f3-7337-404f-9c8c-5115913de016",
        "colab": {
          "base_uri": "https://localhost:8080/",
          "height": 34
        }
      },
      "source": [
        "# string 문자열을 replace()메소드를 이용해 hi python 으로 변경해 보세요.\n",
        "string = 'hello python'\n",
        "\n",
        "string_replace = string.replace('hello','hi')\n",
        "string_replace"
      ],
      "execution_count": 2,
      "outputs": [
        {
          "output_type": "execute_result",
          "data": {
            "application/vnd.google.colaboratory.intrinsic+json": {
              "type": "string"
            },
            "text/plain": [
              "'hi python'"
            ]
          },
          "metadata": {},
          "execution_count": 2
        }
      ]
    },
    {
      "cell_type": "code",
      "metadata": {
        "id": "j7rIX3r0S_zo",
        "outputId": "a972ba7d-a59b-4cec-a6b7-c960fefc4f7b",
        "colab": {
          "base_uri": "https://localhost:8080/"
        }
      },
      "source": [
        "# replace() 메소드를 이용해 해당 하는 출력값이 나오도록 문자열을 변경해 보세요.\n",
        "\n",
        "string = '123,456,789'\n",
        "\n",
        "# 출력값 : 123456,789 \n",
        "print(string.replace(',','', 1))\n",
        "\n",
        "# 출력값 : 123456789 \n",
        "print(string.replace(string, '123456789', 1))   ## 오잉? 이것도 되네\n",
        "print(\"원래 정답은 : \", string.replace(',',''))"
      ],
      "execution_count": 4,
      "outputs": [
        {
          "output_type": "stream",
          "name": "stdout",
          "text": [
            "123456,789\n",
            "123456789\n",
            "원래 정답은 :  123456789\n"
          ]
        }
      ]
    },
    {
      "cell_type": "markdown",
      "metadata": {
        "id": "YLKidTge4gsx"
      },
      "source": [
        "## 정답\n",
        "---\n",
        "스스로 실습 코드를 작성 한 후 정답 코드를 확인해 보세요."
      ]
    },
    {
      "cell_type": "code",
      "metadata": {
        "id": "xmE4w_2PRqQO"
      },
      "source": [
        "# string 문자열을 replace()메소드를 이용해 hi python 으로 변경해 보세요.\n",
        "string = 'hello python'\n",
        "\n",
        "string_replace = string.replace('hello','hi')\n",
        "\n",
        "print(string_replace)"
      ],
      "execution_count": null,
      "outputs": []
    },
    {
      "cell_type": "code",
      "metadata": {
        "id": "pwmVdXlzTTw3"
      },
      "source": [
        "# replace() 메소드를 이용해 해당 하는 출력값이 나오도록 문자열을 변경해 보세요.\n",
        "string = '123,456,789'\n",
        "\n",
        "# 출력값 : 123456,789 \n",
        "print(string.replace(',','',1))\n",
        "\n",
        "# 출력값 : 123456789 \n",
        "print(string.replace(',',''))"
      ],
      "execution_count": null,
      "outputs": []
    },
    {
      "cell_type": "markdown",
      "metadata": {
        "id": "K8YgC54VtiB7"
      },
      "source": [
        "# [↩️ 리스트로 돌아가기](https://dacon.io/competitions/open/235698/overview/description)"
      ]
    }
  ]
}