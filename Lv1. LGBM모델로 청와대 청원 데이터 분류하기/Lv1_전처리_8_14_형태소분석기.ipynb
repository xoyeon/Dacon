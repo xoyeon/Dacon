{
  "nbformat": 4,
  "nbformat_minor": 0,
  "metadata": {
    "colab": {
      "name": "Lv1_전처리_8/14_형태소분석기",
      "provenance": [],
      "collapsed_sections": [
        "YLKidTge4gsx"
      ],
      "include_colab_link": true
    },
    "kernelspec": {
      "name": "python3",
      "display_name": "Python 3"
    },
    "language_info": {
      "name": "python"
    }
  },
  "cells": [
    {
      "cell_type": "markdown",
      "metadata": {
        "id": "view-in-github",
        "colab_type": "text"
      },
      "source": [
        "<a href=\"https://colab.research.google.com/github/xoyeon/Dacon-Daily-Python-Camp/blob/main/Lv1_%EC%A0%84%EC%B2%98%EB%A6%AC_8_14_%ED%98%95%ED%83%9C%EC%86%8C%EB%B6%84%EC%84%9D%EA%B8%B0.ipynb\" target=\"_parent\"><img src=\"https://colab.research.google.com/assets/colab-badge.svg\" alt=\"Open In Colab\"/></a>"
      ]
    },
    {
      "cell_type": "markdown",
      "metadata": {
        "id": "vIpjpOEXsoW0"
      },
      "source": [
        "# [↩️ 리스트로 돌아가기](https://dacon.io/competitions/open/235698/overview/description)"
      ]
    },
    {
      "cell_type": "markdown",
      "metadata": {
        "id": "Y8EsppNShcez"
      },
      "source": [
        "# 셀을 실행할 때 팝업이 뜨면 `무시하고 계속하기` 를 눌러주세요\n"
      ]
    },
    {
      "cell_type": "markdown",
      "metadata": {
        "id": "Qrqt6yxA6h0a"
      },
      "source": [
        "한글 텍스트의 형태소를 분석해주는 형태소 분석기로는 Okt, Komoran, Kkma, Mecab 등이 있습니다.\n",
        "\n",
        "형태소 분석기를 이용해 형태소를 분석하는 방법은 다음과 같습니다.\n",
        "\n",
        "1. 라이브러리 설치\n",
        "2. 형태소 분석기 정의\n",
        "3. 형태소 분석\n"
      ]
    },
    {
      "cell_type": "markdown",
      "metadata": {
        "id": "J1Is2vFL4cxY"
      },
      "source": [
        "## 실습\n",
        "---\n"
      ]
    },
    {
      "cell_type": "code",
      "metadata": {
        "id": "EHMCVSlEbT3r",
        "outputId": "c64a9d1f-512e-478d-f24a-7f8cc94e0896",
        "colab": {
          "base_uri": "https://localhost:8080/"
        }
      },
      "source": [
        "# 라이브러리 설치\n",
        "# Okt, Komoran, Kkma 은 모두 konlpy 라이브러리에서 불러올 수 있다.\n",
        "!pip install konlpy"
      ],
      "execution_count": 1,
      "outputs": [
        {
          "output_type": "stream",
          "name": "stdout",
          "text": [
            "Collecting konlpy\n",
            "  Downloading konlpy-0.5.2-py2.py3-none-any.whl (19.4 MB)\n",
            "\u001b[K     |████████████████████████████████| 19.4 MB 129 kB/s \n",
            "\u001b[?25hRequirement already satisfied: tweepy>=3.7.0 in /usr/local/lib/python3.7/dist-packages (from konlpy) (3.10.0)\n",
            "Collecting JPype1>=0.7.0\n",
            "  Downloading JPype1-1.3.0-cp37-cp37m-manylinux_2_5_x86_64.manylinux1_x86_64.whl (448 kB)\n",
            "\u001b[K     |████████████████████████████████| 448 kB 49.0 MB/s \n",
            "\u001b[?25hRequirement already satisfied: numpy>=1.6 in /usr/local/lib/python3.7/dist-packages (from konlpy) (1.19.5)\n",
            "Requirement already satisfied: lxml>=4.1.0 in /usr/local/lib/python3.7/dist-packages (from konlpy) (4.2.6)\n",
            "Collecting beautifulsoup4==4.6.0\n",
            "  Downloading beautifulsoup4-4.6.0-py3-none-any.whl (86 kB)\n",
            "\u001b[K     |████████████████████████████████| 86 kB 5.3 MB/s \n",
            "\u001b[?25hCollecting colorama\n",
            "  Downloading colorama-0.4.4-py2.py3-none-any.whl (16 kB)\n",
            "Requirement already satisfied: typing-extensions in /usr/local/lib/python3.7/dist-packages (from JPype1>=0.7.0->konlpy) (3.7.4.3)\n",
            "Requirement already satisfied: requests[socks]>=2.11.1 in /usr/local/lib/python3.7/dist-packages (from tweepy>=3.7.0->konlpy) (2.23.0)\n",
            "Requirement already satisfied: requests-oauthlib>=0.7.0 in /usr/local/lib/python3.7/dist-packages (from tweepy>=3.7.0->konlpy) (1.3.0)\n",
            "Requirement already satisfied: six>=1.10.0 in /usr/local/lib/python3.7/dist-packages (from tweepy>=3.7.0->konlpy) (1.15.0)\n",
            "Requirement already satisfied: oauthlib>=3.0.0 in /usr/local/lib/python3.7/dist-packages (from requests-oauthlib>=0.7.0->tweepy>=3.7.0->konlpy) (3.1.1)\n",
            "Requirement already satisfied: urllib3!=1.25.0,!=1.25.1,<1.26,>=1.21.1 in /usr/local/lib/python3.7/dist-packages (from requests[socks]>=2.11.1->tweepy>=3.7.0->konlpy) (1.24.3)\n",
            "Requirement already satisfied: certifi>=2017.4.17 in /usr/local/lib/python3.7/dist-packages (from requests[socks]>=2.11.1->tweepy>=3.7.0->konlpy) (2021.5.30)\n",
            "Requirement already satisfied: idna<3,>=2.5 in /usr/local/lib/python3.7/dist-packages (from requests[socks]>=2.11.1->tweepy>=3.7.0->konlpy) (2.10)\n",
            "Requirement already satisfied: chardet<4,>=3.0.2 in /usr/local/lib/python3.7/dist-packages (from requests[socks]>=2.11.1->tweepy>=3.7.0->konlpy) (3.0.4)\n",
            "Requirement already satisfied: PySocks!=1.5.7,>=1.5.6 in /usr/local/lib/python3.7/dist-packages (from requests[socks]>=2.11.1->tweepy>=3.7.0->konlpy) (1.7.1)\n",
            "Installing collected packages: JPype1, colorama, beautifulsoup4, konlpy\n",
            "  Attempting uninstall: beautifulsoup4\n",
            "    Found existing installation: beautifulsoup4 4.6.3\n",
            "    Uninstalling beautifulsoup4-4.6.3:\n",
            "      Successfully uninstalled beautifulsoup4-4.6.3\n",
            "Successfully installed JPype1-1.3.0 beautifulsoup4-4.6.0 colorama-0.4.4 konlpy-0.5.2\n"
          ]
        }
      ]
    },
    {
      "cell_type": "code",
      "metadata": {
        "id": "7dDyIInhADLm"
      },
      "source": [
        "#형태소를 분석할 텍스트 정의\n",
        "text = '마음에 꽂힌 칼한자루 보다 마음에 꽂힌 꽃한송이가 더 아파서 잠이 오지 않는다'"
      ],
      "execution_count": 2,
      "outputs": []
    },
    {
      "cell_type": "code",
      "metadata": {
        "id": "9K8zbEcpcbOU"
      },
      "source": [
        "from konlpy.tag import Kkma, Komoran, Okt\n",
        "\n",
        "# 형태소 분석기 정의\n",
        "okt = Okt()\n",
        "komoran = Komoran()\n",
        "kkma = Kkma()"
      ],
      "execution_count": 3,
      "outputs": []
    },
    {
      "cell_type": "code",
      "metadata": {
        "id": "-dpDpY_u-fxX",
        "outputId": "b3c23b24-6073-44be-8703-5daad891e8ca",
        "colab": {
          "base_uri": "https://localhost:8080/"
        }
      },
      "source": [
        "# 형태소 분석기의 pos메소드를 이용해 형태소를 분석 \n",
        "# Komoran\n",
        "komoran.pos(text)"
      ],
      "execution_count": 8,
      "outputs": [
        {
          "output_type": "execute_result",
          "data": {
            "text/plain": [
              "[('마음', 'NNG'),\n",
              " ('에', 'JKB'),\n",
              " ('꽂히', 'VV'),\n",
              " ('ㄴ', 'ETM'),\n",
              " ('칼', 'NNG'),\n",
              " ('한자', 'NNP'),\n",
              " ('루', 'JKB'),\n",
              " ('보다', 'MAG'),\n",
              " ('마음', 'NNG'),\n",
              " ('에', 'JKB'),\n",
              " ('꽂히', 'VV'),\n",
              " ('ㄴ', 'ETM'),\n",
              " ('꽃', 'NNG'),\n",
              " ('한송이', 'NNP'),\n",
              " ('가', 'JKS'),\n",
              " ('더', 'MAG'),\n",
              " ('아파서', 'NNP'),\n",
              " ('잠', 'NNG'),\n",
              " ('이', 'JKS'),\n",
              " ('오', 'VV'),\n",
              " ('지', 'EC'),\n",
              " ('않', 'VX'),\n",
              " ('는다', 'EC')]"
            ]
          },
          "metadata": {},
          "execution_count": 8
        }
      ]
    },
    {
      "cell_type": "code",
      "metadata": {
        "id": "VZjSFNl--gg2",
        "outputId": "c0974361-8725-422c-f78f-1fc908d27bd1",
        "colab": {
          "base_uri": "https://localhost:8080/"
        }
      },
      "source": [
        "# 형태소 분석기의 pos메소드를 이용해 형태소를 분석 \n",
        "# Kkma\n",
        "kkma.pos(text)"
      ],
      "execution_count": 5,
      "outputs": [
        {
          "output_type": "execute_result",
          "data": {
            "text/plain": [
              "[('마음', 'NNG'),\n",
              " ('에', 'JKM'),\n",
              " ('꽂히', 'VV'),\n",
              " ('ㄴ', 'ETD'),\n",
              " ('칼', 'NNG'),\n",
              " ('한자', 'NNG'),\n",
              " ('로', 'JKM'),\n",
              " ('보다', 'MAG'),\n",
              " ('마음', 'NNG'),\n",
              " ('에', 'JKM'),\n",
              " ('꽂히', 'VV'),\n",
              " ('ㄴ', 'ETD'),\n",
              " ('꽃', 'NNG'),\n",
              " ('한', 'MDN'),\n",
              " ('송이', 'NNG'),\n",
              " ('가', 'JKS'),\n",
              " ('더', 'MAG'),\n",
              " ('아프', 'VA'),\n",
              " ('아서', 'ECD'),\n",
              " ('잠', 'NNG'),\n",
              " ('이', 'JKS'),\n",
              " ('오', 'VV'),\n",
              " ('지', 'ECD'),\n",
              " ('않', 'VXV'),\n",
              " ('는', 'EPT'),\n",
              " ('다', 'EFN')]"
            ]
          },
          "metadata": {},
          "execution_count": 5
        }
      ]
    },
    {
      "cell_type": "code",
      "metadata": {
        "id": "ffmGLnqK-jwO",
        "outputId": "4ae02cb4-5c6f-488b-de92-d9774eca364c",
        "colab": {
          "base_uri": "https://localhost:8080/"
        }
      },
      "source": [
        "# 형태소 분석기의 pos메소드를 이용해 형태소를 분석 \n",
        "# Okt\n",
        "okt.pos(text, norm=True, stem=True)"
      ],
      "execution_count": 6,
      "outputs": [
        {
          "output_type": "execute_result",
          "data": {
            "text/plain": [
              "[('마음', 'Noun'),\n",
              " ('에', 'Josa'),\n",
              " ('꽂히다', 'Verb'),\n",
              " ('칼', 'Noun'),\n",
              " ('한', 'Determiner'),\n",
              " ('자루', 'Noun'),\n",
              " ('보다', 'Verb'),\n",
              " ('마음', 'Noun'),\n",
              " ('에', 'Josa'),\n",
              " ('꽂히다', 'Verb'),\n",
              " ('꽃', 'Noun'),\n",
              " ('한송이', 'Noun'),\n",
              " ('가', 'Josa'),\n",
              " ('더', 'Noun'),\n",
              " ('아프다', 'Adjective'),\n",
              " ('잠', 'Noun'),\n",
              " ('이', 'Josa'),\n",
              " ('오지', 'Noun'),\n",
              " ('않다', 'Verb')]"
            ]
          },
          "metadata": {},
          "execution_count": 6
        }
      ]
    },
    {
      "cell_type": "markdown",
      "metadata": {
        "id": "RzFYp0L27y_O"
      },
      "source": [
        "분석 결과를 보았을 때, Kkma와 Komoran이 okt 보다 더 구체적으로 형태소에 따라 단어를 쪼개는 것을 알 수 있습니다. \n",
        "\n",
        "또한 Okt는 stem=True, norm = True의 파라미터가 존재해서, 단어들을 알아서 정규화 해주고, 오타도 수정해주는 기능을 가지고 있습니다. 위예시에서 꽂힌 을 꽂히다 로 아파서 를 아프다 로 바꿨습니다."
      ]
    },
    {
      "cell_type": "markdown",
      "metadata": {
        "id": "YLKidTge4gsx"
      },
      "source": [
        "## 정답\n",
        "---\n",
        "스스로 실습 코드를 작성 한 후 정답 코드를 확인해 보세요."
      ]
    },
    {
      "cell_type": "code",
      "metadata": {
        "id": "xmE4w_2PRqQO"
      },
      "source": [
        "from konlpy.tag import Kkma, Komoran, Okt\n",
        "\n",
        "# 형태소 분석기 정의\n",
        "okt = Okt()\n",
        "kkm = Kkma()\n",
        "kom = Komoran()"
      ],
      "execution_count": null,
      "outputs": []
    },
    {
      "cell_type": "code",
      "metadata": {
        "id": "P6Pw7x8w_xy2"
      },
      "source": [
        "# 형태소 분석기의 pos메소드를 이용해 형태소를 분석 \n",
        "# Komoran\n",
        "kom.pos(text)"
      ],
      "execution_count": null,
      "outputs": []
    },
    {
      "cell_type": "code",
      "metadata": {
        "id": "-dRoey20_xqz"
      },
      "source": [
        "# 형태소 분석기의 pos메소드를 이용해 형태소를 분석 \n",
        "# Kkma\n",
        "kkm.pos(text)"
      ],
      "execution_count": null,
      "outputs": []
    },
    {
      "cell_type": "code",
      "metadata": {
        "id": "8LTnoNHu_xj4"
      },
      "source": [
        "# 형태소 분석기의 pos메소드를 이용해 형태소를 분석 \n",
        "# Okt\n",
        "okt.pos(text,norm=True, stem=True)"
      ],
      "execution_count": null,
      "outputs": []
    },
    {
      "cell_type": "markdown",
      "metadata": {
        "id": "K8YgC54VtiB7"
      },
      "source": [
        "# [↩️ 리스트로 돌아가기](https://dacon.io/competitions/open/235698/overview/description)"
      ]
    }
  ]
}