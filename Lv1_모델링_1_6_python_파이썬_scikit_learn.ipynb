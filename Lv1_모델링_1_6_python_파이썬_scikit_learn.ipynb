{
  "nbformat": 4,
  "nbformat_minor": 0,
  "metadata": {
    "colab": {
      "name": "Lv1 모델링 1/6 python 파이썬 scikit-learn.ipynb",
      "provenance": [],
      "collapsed_sections": [
        "t-qCW125KLu6"
      ],
      "include_colab_link": true
    },
    "kernelspec": {
      "name": "python3",
      "display_name": "Python 3"
    },
    "language_info": {
      "name": "python"
    }
  },
  "cells": [
    {
      "cell_type": "markdown",
      "metadata": {
        "id": "view-in-github",
        "colab_type": "text"
      },
      "source": [
        "<a href=\"https://colab.research.google.com/github/xoyeon/Dacon-Daily-Python-Camp_follow/blob/main/Lv1_%EB%AA%A8%EB%8D%B8%EB%A7%81_1_6_python_%ED%8C%8C%EC%9D%B4%EC%8D%AC_scikit_learn.ipynb\" target=\"_parent\"><img src=\"https://colab.research.google.com/assets/colab-badge.svg\" alt=\"Open In Colab\"/></a>"
      ]
    },
    {
      "cell_type": "markdown",
      "metadata": {
        "id": "vIpjpOEXsoW0"
      },
      "source": [
        "# [↩️ 리스트로 돌아가기](https://dacon.io/competitions/open/235698/overview/description)"
      ]
    },
    {
      "cell_type": "markdown",
      "metadata": {
        "id": "GotxHcH8LMds"
      },
      "source": [
        "> 셀을 실행할 때 팝업이 뜨면 `무시하고 계속하기` 를 눌러주세요"
      ]
    },
    {
      "cell_type": "markdown",
      "metadata": {
        "id": "1OIvTDZSq5-8"
      },
      "source": [
        "# 실습\n",
        "---\n",
        "먼저 scikit-learn 라이브러리를 사용해 모델링을 시작해볼 것입니다."
      ]
    },
    {
      "cell_type": "code",
      "metadata": {
        "id": "fDNz5epMK6Gb"
      },
      "source": [
        "import [라이브러리] as [사용할 이름]"
      ],
      "execution_count": null,
      "outputs": []
    },
    {
      "cell_type": "code",
      "metadata": {
        "id": "g-AY9M-yO_Nr"
      },
      "source": [
        "import sklearn\n",
        "from sklearn.tree import DecisionTreeClassifier"
      ],
      "execution_count": 1,
      "outputs": []
    },
    {
      "cell_type": "markdown",
      "metadata": {
        "id": "N9k58LrZBLSC"
      },
      "source": [
        "* scikit-learn 공식 홈페이지에 있는 다양한 ML 종류들을 살펴봅시다. https://scikit-learn.org/stable/ "
      ]
    },
    {
      "cell_type": "markdown",
      "metadata": {
        "id": "t-qCW125KLu6"
      },
      "source": [
        "## 정답 (`숨겨진 셀 n개` 를 누르세요.)\n",
        "---\n",
        "질문사항을 얼마든지 [게시글](https://dacon.io/competitions/open/235698/talkboard/403540?page=1&dtype=recent)에 남겨주세요 😉 <br>\n",
        "궁금한 것, 이해가 안 되는 것, 원리, 확장개념, 참고 등등 모든 범위에서 얼마든지 질문을 달아주세요 🙋"
      ]
    },
    {
      "cell_type": "code",
      "metadata": {
        "id": "DBXB7jICq0_g"
      },
      "source": [
        "import sklearn\n",
        "from sklearn.tree import DecisionTreeClassifier"
      ],
      "execution_count": null,
      "outputs": []
    },
    {
      "cell_type": "markdown",
      "metadata": {
        "id": "_LsmZP1xteCS"
      },
      "source": [
        "# [↩️ 리스트로 돌아가기](https://dacon.io/competitions/open/235698/overview/description)"
      ]
    }
  ]
}