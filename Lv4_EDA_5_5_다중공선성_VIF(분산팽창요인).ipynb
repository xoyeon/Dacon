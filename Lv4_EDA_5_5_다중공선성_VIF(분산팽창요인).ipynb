{
  "nbformat": 4,
  "nbformat_minor": 0,
  "metadata": {
    "colab": {
      "name": "Lv4 EDA 5/5 다중공선성 VIF(분산팽창요인)",
      "provenance": [],
      "collapsed_sections": [
        "J1Is2vFL4cxY"
      ],
      "include_colab_link": true
    },
    "kernelspec": {
      "name": "python3",
      "display_name": "Python 3"
    },
    "language_info": {
      "name": "python"
    }
  },
  "cells": [
    {
      "cell_type": "markdown",
      "metadata": {
        "id": "view-in-github",
        "colab_type": "text"
      },
      "source": [
        "<a href=\"https://colab.research.google.com/github/xoyeon/Dacon-Daily-Python-Camp_follow/blob/main/Lv4_EDA_5_5_%EB%8B%A4%EC%A4%91%EA%B3%B5%EC%84%A0%EC%84%B1_VIF(%EB%B6%84%EC%82%B0%ED%8C%BD%EC%B0%BD%EC%9A%94%EC%9D%B8).ipynb\" target=\"_parent\"><img src=\"https://colab.research.google.com/assets/colab-badge.svg\" alt=\"Open In Colab\"/></a>"
      ]
    },
    {
      "cell_type": "markdown",
      "metadata": {
        "id": "vIpjpOEXsoW0"
      },
      "source": [
        "# [↩️ 리스트로 돌아가기](https://dacon.io/competitions/open/235698/overview/description)"
      ]
    },
    {
      "cell_type": "markdown",
      "metadata": {
        "id": "cdkhATahdXka"
      },
      "source": [
        "# 셀을 실행할 때 팝업이 뜨면 `무시하고 계속하기` 를 눌러주세요\n"
      ]
    },
    {
      "cell_type": "markdown",
      "metadata": {
        "id": "Njt0HrWtCfg2"
      },
      "source": [
        "## 데이터 다운로드\n",
        "---\n",
        "아래 셀을 실행시켜 데이터를 colab 에 불러옵니다.\n",
        "셀 실행은 Ctrl + Enter 를 이용해 실행시킬 수 있습니다."
      ]
    },
    {
      "cell_type": "code",
      "metadata": {
        "id": "AEAqDnUPCtNT",
        "colab": {
          "base_uri": "https://localhost:8080/"
        },
        "outputId": "1718fe72-ad12-40ed-c46a-33eacc656a66"
      },
      "source": [
        "# 데이터 다운로드 링크로 데이터를 코랩에 불러옵니다.\n",
        "\n",
        "!wget 'https://bit.ly/3i4n1QB'\n",
        "\n",
        "import zipfile\n",
        "with zipfile.ZipFile('3i4n1QB', 'r') as existing_zip:\n",
        "    existing_zip.extractall('data')"
      ],
      "execution_count": 1,
      "outputs": [
        {
          "output_type": "stream",
          "text": [
            "--2021-08-25 03:12:05--  https://bit.ly/3i4n1QB\n",
            "Resolving bit.ly (bit.ly)... 67.199.248.10, 67.199.248.11\n",
            "Connecting to bit.ly (bit.ly)|67.199.248.10|:443... connected.\n",
            "HTTP request sent, awaiting response... 301 Moved Permanently\n",
            "Location: https://drive.google.com/uc?export=download&id=1emLrrpFWT8dCoj5BJb12-5QMG2-nruUw [following]\n",
            "--2021-08-25 03:12:05--  https://drive.google.com/uc?export=download&id=1emLrrpFWT8dCoj5BJb12-5QMG2-nruUw\n",
            "Resolving drive.google.com (drive.google.com)... 142.250.145.138, 142.250.145.101, 142.250.145.113, ...\n",
            "Connecting to drive.google.com (drive.google.com)|142.250.145.138|:443... connected.\n",
            "HTTP request sent, awaiting response... 302 Moved Temporarily\n",
            "Location: https://doc-10-10-docs.googleusercontent.com/docs/securesc/ha0ro937gcuc7l7deffksulhg5h7mbp1/v8qk61no0q7mb3se0v9ggi1ci8j4ccfs/1629861075000/17946651057176172524/*/1emLrrpFWT8dCoj5BJb12-5QMG2-nruUw?e=download [following]\n",
            "Warning: wildcards not supported in HTTP.\n",
            "--2021-08-25 03:12:06--  https://doc-10-10-docs.googleusercontent.com/docs/securesc/ha0ro937gcuc7l7deffksulhg5h7mbp1/v8qk61no0q7mb3se0v9ggi1ci8j4ccfs/1629861075000/17946651057176172524/*/1emLrrpFWT8dCoj5BJb12-5QMG2-nruUw?e=download\n",
            "Resolving doc-10-10-docs.googleusercontent.com (doc-10-10-docs.googleusercontent.com)... 108.177.127.132, 2a00:1450:4013:c07::84\n",
            "Connecting to doc-10-10-docs.googleusercontent.com (doc-10-10-docs.googleusercontent.com)|108.177.127.132|:443... connected.\n",
            "HTTP request sent, awaiting response... 200 OK\n",
            "Length: 137694 (134K) [application/zip]\n",
            "Saving to: ‘3i4n1QB’\n",
            "\n",
            "3i4n1QB             100%[===================>] 134.47K  --.-KB/s    in 0.002s  \n",
            "\n",
            "2021-08-25 03:12:06 (55.4 MB/s) - ‘3i4n1QB’ saved [137694/137694]\n",
            "\n"
          ],
          "name": "stdout"
        }
      ]
    },
    {
      "cell_type": "code",
      "metadata": {
        "id": "GqVbFVMCGJzT",
        "colab": {
          "base_uri": "https://localhost:8080/"
        },
        "outputId": "1141f31f-164b-4844-e57b-711c28770f0e"
      },
      "source": [
        "# 라이브러리 불러오기\n",
        "import seaborn as sns\n",
        "import pandas as pd\n",
        "\n",
        "# VIF기능을 제공하는 라이브러리 불러오기\n",
        "from statsmodels.stats.outliers_influence import variance_inflation_factor"
      ],
      "execution_count": 2,
      "outputs": [
        {
          "output_type": "stream",
          "text": [
            "/usr/local/lib/python3.7/dist-packages/statsmodels/tools/_testing.py:19: FutureWarning: pandas.util.testing is deprecated. Use the functions in the public API at pandas.testing instead.\n",
            "  import pandas.util.testing as tm\n"
          ],
          "name": "stderr"
        }
      ]
    },
    {
      "cell_type": "code",
      "metadata": {
        "id": "Cc10QSz6eyPa"
      },
      "source": [
        "train = pd.read_csv('data/train.csv')\n",
        "\n",
        "# 범주형 변수 제거(type)\n",
        "train.drop('type',inplace = True,axis=1)"
      ],
      "execution_count": 3,
      "outputs": []
    },
    {
      "cell_type": "markdown",
      "metadata": {
        "id": "ZksEbPou52yW"
      },
      "source": [
        "## 👋 실습\n",
        "---\n",
        "피처마다의 VIF 계수를 출력합니다."
      ]
    },
    {
      "cell_type": "markdown",
      "metadata": {
        "id": "VDlvo4siTaxA"
      },
      "source": [
        "이번에는 변수의 다중공선성을 확인하는 방법 중 하나인 **VIF(Variance Inflation Factors, 분산팽창요인)**에대해 알아 보겠습니다. 👋\n",
        "\n",
        "* VIF는 변수간의 다중공선성을 진단하는 수치이며 범위 1부터 무한대입니다.\n",
        "> 통계학에서는 VIF 값이 10이상이면 해당 변수가 다중공선성이 잇는 것으로 판단 합니다. \n",
        "\n",
        "* VIF를 구하는 수식은 VIFk = 1 / (1 - Rj2) 입니다.\n",
        "> 여기서 VIFk 는 k번째 변수의 VIF 값을 의미하고, Rj2 는 회귀분석에서 사용하는 결정계수 입니다."
      ]
    },
    {
      "cell_type": "code",
      "metadata": {
        "id": "qYn-_DQIxLcK",
        "outputId": "7b2a81e9-81ba-443e-ea2e-160e8026f71b",
        "colab": {
          "base_uri": "https://localhost:8080/"
        }
      },
      "source": [
        "# 결과값을 저장할 VIF라는 이름의 리스트 생성\n",
        "VIF = []\n",
        "\n",
        "# values atribution(속성) 이용해 train 데이터의 값만 추출\n",
        "train_val = train.values\n",
        "\n",
        "#  variance_inflation_factor 함수에 인자로 train_val (train 데이터의 값)과 인덱스 번호 지정  - for 반복문 이용\n",
        "for i in range(len(train.columns)):\n",
        "  VIF.append(variance_inflation_factor(train_val, i))\n",
        "\n",
        "VIF"
      ],
      "execution_count": 4,
      "outputs": [
        {
          "output_type": "execute_result",
          "data": {
            "text/plain": [
              "[4.007175138928272,\n",
              " 64.10743200252591,\n",
              " 59.14918709853955,\n",
              " 9.610687118796196,\n",
              " 9.273443884294641,\n",
              " 3.616414435307183,\n",
              " 5.715980882977762,\n",
              " 8.420882621285777,\n",
              " 14.833789006276412,\n",
              " 945.3239910887048,\n",
              " 583.5011867251005,\n",
              " 18.535849630077276,\n",
              " 131.12669981396292]"
            ]
          },
          "metadata": {},
          "execution_count": 4
        }
      ]
    },
    {
      "cell_type": "code",
      "metadata": {
        "id": "Cnvszqr5xMCa",
        "outputId": "69644d37-b7c5-41b4-9f7f-57c1cd7bba8c",
        "colab": {
          "base_uri": "https://localhost:8080/",
          "height": 457
        }
      },
      "source": [
        "# 데이터 프레임 형식으로 바꿔 가독성 높이기! (보너스 문제)\n",
        "vif_dataframe = pd.DataFrame()\n",
        "vif_dataframe['columns'] = train.columns\n",
        "vif_dataframe['VIF'] = VIF\n",
        "vif_dataframe"
      ],
      "execution_count": 6,
      "outputs": [
        {
          "output_type": "execute_result",
          "data": {
            "text/html": [
              "<div>\n",
              "<style scoped>\n",
              "    .dataframe tbody tr th:only-of-type {\n",
              "        vertical-align: middle;\n",
              "    }\n",
              "\n",
              "    .dataframe tbody tr th {\n",
              "        vertical-align: top;\n",
              "    }\n",
              "\n",
              "    .dataframe thead th {\n",
              "        text-align: right;\n",
              "    }\n",
              "</style>\n",
              "<table border=\"1\" class=\"dataframe\">\n",
              "  <thead>\n",
              "    <tr style=\"text-align: right;\">\n",
              "      <th></th>\n",
              "      <th>columns</th>\n",
              "      <th>VIF</th>\n",
              "    </tr>\n",
              "  </thead>\n",
              "  <tbody>\n",
              "    <tr>\n",
              "      <th>0</th>\n",
              "      <td>index</td>\n",
              "      <td>4.007175</td>\n",
              "    </tr>\n",
              "    <tr>\n",
              "      <th>1</th>\n",
              "      <td>quality</td>\n",
              "      <td>64.107432</td>\n",
              "    </tr>\n",
              "    <tr>\n",
              "      <th>2</th>\n",
              "      <td>fixed acidity</td>\n",
              "      <td>59.149187</td>\n",
              "    </tr>\n",
              "    <tr>\n",
              "      <th>3</th>\n",
              "      <td>volatile acidity</td>\n",
              "      <td>9.610687</td>\n",
              "    </tr>\n",
              "    <tr>\n",
              "      <th>4</th>\n",
              "      <td>citric acid</td>\n",
              "      <td>9.273444</td>\n",
              "    </tr>\n",
              "    <tr>\n",
              "      <th>5</th>\n",
              "      <td>residual sugar</td>\n",
              "      <td>3.616414</td>\n",
              "    </tr>\n",
              "    <tr>\n",
              "      <th>6</th>\n",
              "      <td>chlorides</td>\n",
              "      <td>5.715981</td>\n",
              "    </tr>\n",
              "    <tr>\n",
              "      <th>7</th>\n",
              "      <td>free sulfur dioxide</td>\n",
              "      <td>8.420883</td>\n",
              "    </tr>\n",
              "    <tr>\n",
              "      <th>8</th>\n",
              "      <td>total sulfur dioxide</td>\n",
              "      <td>14.833789</td>\n",
              "    </tr>\n",
              "    <tr>\n",
              "      <th>9</th>\n",
              "      <td>density</td>\n",
              "      <td>945.323991</td>\n",
              "    </tr>\n",
              "    <tr>\n",
              "      <th>10</th>\n",
              "      <td>pH</td>\n",
              "      <td>583.501187</td>\n",
              "    </tr>\n",
              "    <tr>\n",
              "      <th>11</th>\n",
              "      <td>sulphates</td>\n",
              "      <td>18.535850</td>\n",
              "    </tr>\n",
              "    <tr>\n",
              "      <th>12</th>\n",
              "      <td>alcohol</td>\n",
              "      <td>131.126700</td>\n",
              "    </tr>\n",
              "  </tbody>\n",
              "</table>\n",
              "</div>"
            ],
            "text/plain": [
              "                 columns         VIF\n",
              "0                  index    4.007175\n",
              "1                quality   64.107432\n",
              "2          fixed acidity   59.149187\n",
              "3       volatile acidity    9.610687\n",
              "4            citric acid    9.273444\n",
              "5         residual sugar    3.616414\n",
              "6              chlorides    5.715981\n",
              "7    free sulfur dioxide    8.420883\n",
              "8   total sulfur dioxide   14.833789\n",
              "9                density  945.323991\n",
              "10                    pH  583.501187\n",
              "11             sulphates   18.535850\n",
              "12               alcohol  131.126700"
            ]
          },
          "metadata": {},
          "execution_count": 6
        }
      ]
    },
    {
      "cell_type": "markdown",
      "metadata": {
        "id": "J1Is2vFL4cxY"
      },
      "source": [
        "## 정답\n",
        "---"
      ]
    },
    {
      "cell_type": "code",
      "metadata": {
        "id": "Kv5k0RW-w0td"
      },
      "source": [
        "# 피처마다의 VIF 계수를 출력합니다.\n",
        "\n",
        "\n",
        "# 결과값을 저장할 VIF라는 이름의 리스트 생성\n",
        "vif = []\n",
        "\n",
        "# values atribution(속성) 이용해 train 데이터의 값만 추출\n",
        "train_val = train.values\n",
        "\n",
        "#  variance_inflation_factor 함수에 인자로 train_val (train 데이터의 값)과 인덱스 번호 지정  \n",
        "# for문 이용\n",
        "for i in range(len(train.columns)):\n",
        "  vif.append(variance_inflation_factor(train_val, i))\n",
        "\n",
        "\n",
        "vif"
      ],
      "execution_count": null,
      "outputs": []
    },
    {
      "cell_type": "code",
      "metadata": {
        "id": "dJxCiap-vwm1",
        "colab": {
          "base_uri": "https://localhost:8080/",
          "height": 457
        },
        "outputId": "7b4c53f5-cdef-4624-df72-dd1d2a5b7a3f"
      },
      "source": [
        "# 데이터 프레임 형식으로 바꿔 가독성 높이기! (보너스 문제)\n",
        "\n",
        "vif_dataframe = pd.DataFrame()\n",
        "vif_dataframe['columns'] = train.columns\n",
        "vif_dataframe['VIF'] = vif\n",
        "vif_dataframe"
      ],
      "execution_count": null,
      "outputs": [
        {
          "output_type": "execute_result",
          "data": {
            "text/html": [
              "<div>\n",
              "<style scoped>\n",
              "    .dataframe tbody tr th:only-of-type {\n",
              "        vertical-align: middle;\n",
              "    }\n",
              "\n",
              "    .dataframe tbody tr th {\n",
              "        vertical-align: top;\n",
              "    }\n",
              "\n",
              "    .dataframe thead th {\n",
              "        text-align: right;\n",
              "    }\n",
              "</style>\n",
              "<table border=\"1\" class=\"dataframe\">\n",
              "  <thead>\n",
              "    <tr style=\"text-align: right;\">\n",
              "      <th></th>\n",
              "      <th>columns</th>\n",
              "      <th>VIF</th>\n",
              "    </tr>\n",
              "  </thead>\n",
              "  <tbody>\n",
              "    <tr>\n",
              "      <th>0</th>\n",
              "      <td>index</td>\n",
              "      <td>1.002273</td>\n",
              "    </tr>\n",
              "    <tr>\n",
              "      <th>1</th>\n",
              "      <td>quality</td>\n",
              "      <td>1.416090</td>\n",
              "    </tr>\n",
              "    <tr>\n",
              "      <th>2</th>\n",
              "      <td>fixed acidity</td>\n",
              "      <td>4.859317</td>\n",
              "    </tr>\n",
              "    <tr>\n",
              "      <th>3</th>\n",
              "      <td>volatile acidity</td>\n",
              "      <td>2.276673</td>\n",
              "    </tr>\n",
              "    <tr>\n",
              "      <th>4</th>\n",
              "      <td>citric acid</td>\n",
              "      <td>1.608087</td>\n",
              "    </tr>\n",
              "    <tr>\n",
              "      <th>5</th>\n",
              "      <td>residual sugar</td>\n",
              "      <td>9.562219</td>\n",
              "    </tr>\n",
              "    <tr>\n",
              "      <th>6</th>\n",
              "      <td>chlorides</td>\n",
              "      <td>1.679695</td>\n",
              "    </tr>\n",
              "    <tr>\n",
              "      <th>7</th>\n",
              "      <td>free sulfur dioxide</td>\n",
              "      <td>2.218200</td>\n",
              "    </tr>\n",
              "    <tr>\n",
              "      <th>8</th>\n",
              "      <td>total sulfur dioxide</td>\n",
              "      <td>4.047706</td>\n",
              "    </tr>\n",
              "    <tr>\n",
              "      <th>9</th>\n",
              "      <td>density</td>\n",
              "      <td>21.796236</td>\n",
              "    </tr>\n",
              "    <tr>\n",
              "      <th>10</th>\n",
              "      <td>pH</td>\n",
              "      <td>2.506080</td>\n",
              "    </tr>\n",
              "    <tr>\n",
              "      <th>11</th>\n",
              "      <td>sulphates</td>\n",
              "      <td>1.577468</td>\n",
              "    </tr>\n",
              "    <tr>\n",
              "      <th>12</th>\n",
              "      <td>alcohol</td>\n",
              "      <td>5.592810</td>\n",
              "    </tr>\n",
              "  </tbody>\n",
              "</table>\n",
              "</div>"
            ],
            "text/plain": [
              "                 columns        VIF\n",
              "0                  index   1.002273\n",
              "1                quality   1.416090\n",
              "2          fixed acidity   4.859317\n",
              "3       volatile acidity   2.276673\n",
              "4            citric acid   1.608087\n",
              "5         residual sugar   9.562219\n",
              "6              chlorides   1.679695\n",
              "7    free sulfur dioxide   2.218200\n",
              "8   total sulfur dioxide   4.047706\n",
              "9                density  21.796236\n",
              "10                    pH   2.506080\n",
              "11             sulphates   1.577468\n",
              "12               alcohol   5.592810"
            ]
          },
          "metadata": {
            "tags": []
          },
          "execution_count": 24
        }
      ]
    },
    {
      "cell_type": "markdown",
      "metadata": {
        "id": "K8YgC54VtiB7"
      },
      "source": [
        "# [↩️ 리스트로 돌아가기](https://dacon.io/competitions/open/235698/overview/description)"
      ]
    }
  ]
}