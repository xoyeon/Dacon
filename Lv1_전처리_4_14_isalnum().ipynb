{
  "nbformat": 4,
  "nbformat_minor": 0,
  "metadata": {
    "colab": {
      "name": "Lv1_전처리_4/14_isalnum()",
      "provenance": [],
      "collapsed_sections": [
        "YLKidTge4gsx"
      ],
      "include_colab_link": true
    },
    "kernelspec": {
      "name": "python3",
      "display_name": "Python 3"
    },
    "language_info": {
      "name": "python"
    }
  },
  "cells": [
    {
      "cell_type": "markdown",
      "metadata": {
        "id": "view-in-github",
        "colab_type": "text"
      },
      "source": [
        "<a href=\"https://colab.research.google.com/github/xoyeon/Dacon-Daily-Python-Camp/blob/main/Lv1_%EC%A0%84%EC%B2%98%EB%A6%AC_4_14_isalnum().ipynb\" target=\"_parent\"><img src=\"https://colab.research.google.com/assets/colab-badge.svg\" alt=\"Open In Colab\"/></a>"
      ]
    },
    {
      "cell_type": "markdown",
      "metadata": {
        "id": "vIpjpOEXsoW0"
      },
      "source": [
        "# [↩️ 리스트로 돌아가기](https://dacon.io/competitions/open/235698/overview/description)"
      ]
    },
    {
      "cell_type": "markdown",
      "metadata": {
        "id": "Y8EsppNShcez"
      },
      "source": [
        "# 셀을 실행할 때 팝업이 뜨면 `무시하고 계속하기` 를 눌러주세요\n"
      ]
    },
    {
      "cell_type": "markdown",
      "metadata": {
        "id": "xJu0-x_LzkEY"
      },
      "source": [
        "💫 **isalnum()**   \n",
        "isalpha() 메소드는 문자열의 문자가 알파벳(A to z) 및 숫자(0~9) 인지 확인하는데 사용됩니다.\n",
        "\n",
        "문자열에 알파벳 혹은 숫자가 포함된 경우 True 값이 반환 됩니다.\n",
        "\n",
        "**사용방법은 저번 시간에 배운 isalpha()와 동일합니다.**"
      ]
    },
    {
      "cell_type": "markdown",
      "metadata": {
        "id": "J1Is2vFL4cxY"
      },
      "source": [
        "## 실습\n",
        "---\n"
      ]
    },
    {
      "cell_type": "code",
      "metadata": {
        "id": "j7rIX3r0S_zo",
        "outputId": "eaafd08d-308e-4dc8-8c0b-cdf6485f2e31",
        "colab": {
          "base_uri": "https://localhost:8080/"
        }
      },
      "source": [
        "# isalnum 메소드를 이용해 output에 해당하는 값이 출력 되도록 특정 문자열을 제거 해보세요.\n",
        "\n",
        "string=\"year : 2021, month : 09, day : 24\"\n",
        "\n",
        "# output : year2021month09day24\n",
        "\n",
        "isalnum_list = []\n",
        "\n",
        "for i in string:\n",
        "  if i.isalnum():\n",
        "    isalnum_list.append(i)\n",
        "\n",
        "string_isalnum = ''.join(isalnum_list)\n",
        "print(string_isalnum)"
      ],
      "execution_count": 4,
      "outputs": [
        {
          "output_type": "stream",
          "name": "stdout",
          "text": [
            "year2021month09day24\n"
          ]
        }
      ]
    },
    {
      "cell_type": "markdown",
      "metadata": {
        "id": "YLKidTge4gsx"
      },
      "source": [
        "## 정답\n",
        "---\n",
        "스스로 실습 코드를 작성 한 후 정답 코드를 확인해 보세요."
      ]
    },
    {
      "cell_type": "code",
      "metadata": {
        "id": "xmE4w_2PRqQO",
        "colab": {
          "base_uri": "https://localhost:8080/"
        },
        "outputId": "598b2810-41c5-40fc-e376-ee071e783fba"
      },
      "source": [
        "# isalnum 메소드를 이용해 output에 해당하는 값이 출력 되도록 특정 문자열을 제거 해보세요.\n",
        "\n",
        "string=\"year : 2021, month : 09, day : 24\"\n",
        "\n",
        "# output : year2021month09day24\n",
        "\n",
        "#isalnum를 이용해 알파벳값만 담을 리스트\n",
        "isalnum_list = []\n",
        "\n",
        "for c in string:\n",
        "  #isalnum()를 이용해 알파벳값인지 판별\n",
        "    if c.isalnum():\n",
        "      isalnum_list.append(c)\n",
        "\n",
        "#join()메소드를 이용해 알파벳값 만 담긴 리스트를 결합\n",
        "string_isalnum = ''.join(isalnum_list)\n",
        "print(string_isalnum)"
      ],
      "execution_count": null,
      "outputs": [
        {
          "output_type": "stream",
          "name": "stdout",
          "text": [
            "year2021month09day24\n"
          ]
        }
      ]
    },
    {
      "cell_type": "markdown",
      "metadata": {
        "id": "K8YgC54VtiB7"
      },
      "source": [
        "# [↩️ 리스트로 돌아가기](https://dacon.io/competitions/open/235698/overview/description)"
      ]
    }
  ]
}