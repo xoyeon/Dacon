{
  "nbformat": 4,
  "nbformat_minor": 0,
  "metadata": {
    "colab": {
      "name": "Lv1 모델링 4/6 모델훈련(의사결정나무)",
      "provenance": [],
      "collapsed_sections": [
        "AUk_fCmVhtIc"
      ],
      "include_colab_link": true
    },
    "kernelspec": {
      "name": "python3",
      "display_name": "Python 3"
    },
    "language_info": {
      "name": "python"
    }
  },
  "cells": [
    {
      "cell_type": "markdown",
      "metadata": {
        "id": "view-in-github",
        "colab_type": "text"
      },
      "source": [
        "<a href=\"https://colab.research.google.com/github/xoyeon/Dacon-Daily-Python-Camp_follow/blob/main/Lv1_%EB%AA%A8%EB%8D%B8%EB%A7%81_4_6_%EB%AA%A8%EB%8D%B8%ED%9B%88%EB%A0%A8(%EC%9D%98%EC%82%AC%EA%B2%B0%EC%A0%95%EB%82%98%EB%AC%B4).ipynb\" target=\"_parent\"><img src=\"https://colab.research.google.com/assets/colab-badge.svg\" alt=\"Open In Colab\"/></a>"
      ]
    },
    {
      "cell_type": "markdown",
      "metadata": {
        "id": "-Xk4YBNFhkPe"
      },
      "source": [
        "# 셀을 실행할 때 팝업이 뜨면 `무시하고 계속하기` 를 눌러주세요\n"
      ]
    },
    {
      "cell_type": "markdown",
      "metadata": {
        "id": "7A1_NrpnNgI0"
      },
      "source": [
        "## 데이터 다운로드\n",
        "--- \n",
        "아래 셀을 실행시켜 데이터를 colab에 불러옵니다.  \n",
        "셀 실행은 Ctrl + Enter 를 이용해 실행 시킬 수 있습니다. "
      ]
    },
    {
      "cell_type": "code",
      "metadata": {
        "id": "a3VxvpLvhnap",
        "outputId": "2b28e303-40d9-4f60-eb3b-d42e9ecf86ef",
        "colab": {
          "base_uri": "https://localhost:8080/"
        }
      },
      "source": [
        "# 데이터 다운로드 링크로 데이터를 코랩에 불러옵니다.\n",
        "\n",
        "!wget 'https://bit.ly/3gLj0Q6'\n",
        "\n",
        "import zipfile\n",
        "with zipfile.ZipFile('3gLj0Q6', 'r') as existing_zip:\n",
        "    existing_zip.extractall('data')"
      ],
      "execution_count": 1,
      "outputs": [
        {
          "output_type": "stream",
          "text": [
            "--2021-08-19 01:46:35--  https://bit.ly/3gLj0Q6\n",
            "Resolving bit.ly (bit.ly)... 67.199.248.10, 67.199.248.11\n",
            "Connecting to bit.ly (bit.ly)|67.199.248.10|:443... connected.\n",
            "HTTP request sent, awaiting response... 301 Moved Permanently\n",
            "Location: https://drive.google.com/uc?export=download&id=1or_QN1ksv81DNog6Tu_kWcZ5jJWf5W9E [following]\n",
            "--2021-08-19 01:46:35--  https://drive.google.com/uc?export=download&id=1or_QN1ksv81DNog6Tu_kWcZ5jJWf5W9E\n",
            "Resolving drive.google.com (drive.google.com)... 173.194.210.100, 173.194.210.139, 173.194.210.138, ...\n",
            "Connecting to drive.google.com (drive.google.com)|173.194.210.100|:443... connected.\n",
            "HTTP request sent, awaiting response... 302 Moved Temporarily\n",
            "Location: https://doc-0c-10-docs.googleusercontent.com/docs/securesc/ha0ro937gcuc7l7deffksulhg5h7mbp1/nmaqgkaf206nh5q63kgr4s1944ujqcd6/1629337575000/17946651057176172524/*/1or_QN1ksv81DNog6Tu_kWcZ5jJWf5W9E?e=download [following]\n",
            "Warning: wildcards not supported in HTTP.\n",
            "--2021-08-19 01:46:36--  https://doc-0c-10-docs.googleusercontent.com/docs/securesc/ha0ro937gcuc7l7deffksulhg5h7mbp1/nmaqgkaf206nh5q63kgr4s1944ujqcd6/1629337575000/17946651057176172524/*/1or_QN1ksv81DNog6Tu_kWcZ5jJWf5W9E?e=download\n",
            "Resolving doc-0c-10-docs.googleusercontent.com (doc-0c-10-docs.googleusercontent.com)... 74.125.141.132, 2607:f8b0:400c:c06::84\n",
            "Connecting to doc-0c-10-docs.googleusercontent.com (doc-0c-10-docs.googleusercontent.com)|74.125.141.132|:443... connected.\n",
            "HTTP request sent, awaiting response... 200 OK\n",
            "Length: 39208 (38K) [application/zip]\n",
            "Saving to: ‘3gLj0Q6’\n",
            "\n",
            "3gLj0Q6             100%[===================>]  38.29K  --.-KB/s    in 0s      \n",
            "\n",
            "2021-08-19 01:46:36 (79.4 MB/s) - ‘3gLj0Q6’ saved [39208/39208]\n",
            "\n"
          ],
          "name": "stdout"
        }
      ]
    },
    {
      "cell_type": "markdown",
      "metadata": {
        "id": "gx8XCXCxeQk8"
      },
      "source": [
        "## 라이브러리 불러오기\n",
        "---\n",
        "아래 셀을 실행시켜 pandas 와 DecisionTreeClassifier 를 불러옵니다."
      ]
    },
    {
      "cell_type": "code",
      "metadata": {
        "id": "kt_IKrkPeNwQ"
      },
      "source": [
        "import pandas as pd\n",
        "from sklearn.tree import DecisionTreeRegressor"
      ],
      "execution_count": 2,
      "outputs": []
    },
    {
      "cell_type": "markdown",
      "metadata": {
        "id": "VxC2pa2-rgat"
      },
      "source": [
        "## 데이터 불러오기\n",
        "---\n",
        "아래 셀을 실행시켜 csv 파일 데이터를 DataFrame 객체로 불러옵니다."
      ]
    },
    {
      "cell_type": "code",
      "metadata": {
        "id": "V6wTaK4sfnms"
      },
      "source": [
        "train = pd.read_csv('data/train.csv') \n",
        "test = pd.read_csv('data/test.csv')"
      ],
      "execution_count": 3,
      "outputs": []
    },
    {
      "cell_type": "markdown",
      "metadata": {
        "id": "w_PwM9kF7Pbi"
      },
      "source": [
        "## 결측치 제거하기\n",
        "---\n",
        "결측치를 제거하고, 결측치가 모두 제거됐는지 확인합니다."
      ]
    },
    {
      "cell_type": "code",
      "metadata": {
        "id": "ryKlHfLWqgjY",
        "outputId": "ab79b75a-d278-48e1-82f0-7f05f7d8915a",
        "colab": {
          "base_uri": "https://localhost:8080/"
        }
      },
      "source": [
        "test = test.dropna()\n",
        "train = train.dropna()\n",
        "\n",
        "print(train.isnull().sum())"
      ],
      "execution_count": 4,
      "outputs": [
        {
          "output_type": "stream",
          "text": [
            "id                        0\n",
            "hour                      0\n",
            "hour_bef_temperature      0\n",
            "hour_bef_precipitation    0\n",
            "hour_bef_windspeed        0\n",
            "hour_bef_humidity         0\n",
            "hour_bef_visibility       0\n",
            "hour_bef_ozone            0\n",
            "hour_bef_pm10             0\n",
            "hour_bef_pm2.5            0\n",
            "count                     0\n",
            "dtype: int64\n"
          ],
          "name": "stdout"
        }
      ]
    },
    {
      "cell_type": "markdown",
      "metadata": {
        "id": "67TP6NNuGexN"
      },
      "source": [
        "✅ X 데이터는 예측에 사용되는 변수들이고\n",
        "✅ Y 데이터는 예측결과 변수여야 한다"
      ]
    },
    {
      "cell_type": "markdown",
      "metadata": {
        "id": "Q453R09NhqYM"
      },
      "source": [
        "## 👋 실습(1/2)\n",
        "---\n",
        "train 데이터중 <br>\n",
        "예측해야할 `count` 피쳐를 drop()함수를 사용하고, axis=1 옵션을 사용해 해당 열을 제외한 데이터들을 `X_train` 이라는 이름의 DataFrame 객체로 만들고 <br>\n",
        "`count` 피쳐만을 데이터로 갖는 `Y_train` 이라는 이름의 DataFrame 객체로 만드는 코드를 아래에 작성하세요\n"
      ]
    },
    {
      "cell_type": "code",
      "metadata": {
        "id": "GL3L-9YRGMql"
      },
      "source": [
        "X_train = train.drop(['제외할컬럼명'], axis=1)   # X 데이터는 train data 에서 drop([‘제외할컬럼명’], axis=1) 함수를 이용해 예측할 피쳐를 제외할 수 있습니다.\n",
        "Y_train = train['예측할컬럼명']                  # Y 데이터는 train[‘예측할컬럼명'] 으로 인덱싱할 수 있습니다."
      ],
      "execution_count": null,
      "outputs": []
    },
    {
      "cell_type": "code",
      "metadata": {
        "id": "zAnhzBdphqBA"
      },
      "source": [
        "X_train = train.drop(['count'], axis=1)\n",
        "Y_train = train['count']"
      ],
      "execution_count": 5,
      "outputs": []
    },
    {
      "cell_type": "markdown",
      "metadata": {
        "id": "WRpo8HijGvC0"
      },
      "source": [
        " 💪 이제 모델을 선언하고, fit() 함수를 이용해 모델을 훈련시킬 수 있습니다."
      ]
    },
    {
      "cell_type": "markdown",
      "metadata": {
        "id": "Moz8EBWwE1wo"
      },
      "source": [
        "## 👋 실습(2/2)\n",
        "---\n",
        "`model` 변수명으로 모델을 선언하고, fit() 함수를 사용해서, `X_train` 을 input 으로 삼고, `Y_train` 을 output 으로 삼아 모델을 훈련시키는 코드를 아래에 작성하세요"
      ]
    },
    {
      "cell_type": "code",
      "metadata": {
        "id": "HyIStHZ8G0FS",
        "outputId": "5add1506-0c70-409c-8406-cf95f62c2703",
        "colab": {
          "base_uri": "https://localhost:8080/"
        }
      },
      "source": [
        "model = DecisionTreeRegressor()\n",
        "model.fit(X_train, Y_train)"
      ],
      "execution_count": 8,
      "outputs": [
        {
          "output_type": "execute_result",
          "data": {
            "text/plain": [
              "DecisionTreeRegressor(ccp_alpha=0.0, criterion='mse', max_depth=None,\n",
              "                      max_features=None, max_leaf_nodes=None,\n",
              "                      min_impurity_decrease=0.0, min_impurity_split=None,\n",
              "                      min_samples_leaf=1, min_samples_split=2,\n",
              "                      min_weight_fraction_leaf=0.0, presort='deprecated',\n",
              "                      random_state=None, splitter='best')"
            ]
          },
          "metadata": {},
          "execution_count": 8
        }
      ]
    },
    {
      "cell_type": "markdown",
      "metadata": {
        "id": "AUk_fCmVhtIc"
      },
      "source": [
        "## 정답 (`숨겨진 셀 n개` 를 누르세요.)\n",
        "---\n",
        "질문사항을 얼마든지 [게시글](https://dacon.io/competitions/open/235698/talkboard/403540?page=2&dtype=recent)에 남겨주세요 😉 <br>\n",
        "궁금한 것, 이해가 안 되는 것, 원리, 확장개념, 참고 등등 모든 범위에서 얼마든지 질문을 달아주세요 🙋"
      ]
    },
    {
      "cell_type": "code",
      "metadata": {
        "id": "6EcxVzdNfwLR"
      },
      "source": [
        "X_train = train.drop(['count'], axis=1)\n",
        "Y_train = train['count']"
      ],
      "execution_count": null,
      "outputs": []
    },
    {
      "cell_type": "code",
      "metadata": {
        "id": "CNOaDnbYfloy"
      },
      "source": [
        "model = DecisionTreeRegressor()\n",
        "model.fit(X_train, Y_train)"
      ],
      "execution_count": null,
      "outputs": []
    }
  ]
}