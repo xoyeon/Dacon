{
  "nbformat": 4,
  "nbformat_minor": 0,
  "metadata": {
    "colab": {
      "name": "Lv1_모델링_LGBM",
      "provenance": [],
      "collapsed_sections": [
        "YLKidTge4gsx"
      ],
      "include_colab_link": true
    },
    "kernelspec": {
      "name": "python3",
      "display_name": "Python 3"
    },
    "language_info": {
      "name": "python"
    }
  },
  "cells": [
    {
      "cell_type": "markdown",
      "metadata": {
        "id": "view-in-github",
        "colab_type": "text"
      },
      "source": [
        "<a href=\"https://colab.research.google.com/github/xoyeon/Dacon-Daily-Python-Camp/blob/main/Lv1_%EB%AA%A8%EB%8D%B8%EB%A7%81_LGBM.ipynb\" target=\"_parent\"><img src=\"https://colab.research.google.com/assets/colab-badge.svg\" alt=\"Open In Colab\"/></a>"
      ]
    },
    {
      "cell_type": "markdown",
      "metadata": {
        "id": "vIpjpOEXsoW0"
      },
      "source": [
        "# [↩️ 리스트로 돌아가기](https://dacon.io/competitions/open/235698/overview/description)"
      ]
    },
    {
      "cell_type": "markdown",
      "metadata": {
        "id": "Y8EsppNShcez"
      },
      "source": [
        "# 셀을 실행할 때 팝업이 뜨면 `무시하고 계속하기` 를 눌러주세요\n"
      ]
    },
    {
      "cell_type": "markdown",
      "metadata": {
        "id": "FqodyLxg4RLu"
      },
      "source": [
        "## 데이터 다운로드\n",
        "--- \n",
        "아래 셀을 실행시켜 데이터를 colab에 불러옵니다.  \n",
        "셀 실행은 <br>Windows: `Ctrl` + `Enter`<br>\n",
        "Mac: `Shift` + `Enter` <br>\n",
        "를 이용해 실행 시킬 수 있습니다. "
      ]
    },
    {
      "cell_type": "code",
      "metadata": {
        "id": "by55dpRPfTwZ",
        "outputId": "c62c1fca-c836-477c-8680-cdc31687ee58",
        "colab": {
          "base_uri": "https://localhost:8080/"
        }
      },
      "source": [
        "# 데이터 다운로드 링크로 데이터를 코랩에 불러옵니다.\n",
        "\n",
        "!wget 'https://bit.ly/3l6g8j3'\n",
        "\n",
        "import zipfile\n",
        "with zipfile.ZipFile('3l6g8j3', 'r') as existing_zip:\n",
        "    existing_zip.extractall('data')"
      ],
      "execution_count": 1,
      "outputs": [
        {
          "output_type": "stream",
          "name": "stdout",
          "text": [
            "--2021-10-25 06:43:00--  https://bit.ly/3l6g8j3\n",
            "Resolving bit.ly (bit.ly)... 67.199.248.10, 67.199.248.11\n",
            "Connecting to bit.ly (bit.ly)|67.199.248.10|:443... connected.\n",
            "HTTP request sent, awaiting response... 301 Moved Permanently\n",
            "Location: https://docs.google.com/uc?export=download&id=1n-cTWLp385P-DmmNuMAg6zJDw8MNAPwu [following]\n",
            "--2021-10-25 06:43:00--  https://docs.google.com/uc?export=download&id=1n-cTWLp385P-DmmNuMAg6zJDw8MNAPwu\n",
            "Resolving docs.google.com (docs.google.com)... 172.217.204.102, 172.217.204.138, 172.217.204.101, ...\n",
            "Connecting to docs.google.com (docs.google.com)|172.217.204.102|:443... connected.\n",
            "HTTP request sent, awaiting response... 302 Moved Temporarily\n",
            "Location: https://doc-0g-10-docs.googleusercontent.com/docs/securesc/ha0ro937gcuc7l7deffksulhg5h7mbp1/37eg8vd4b0rirs7u9cfmk4t7dpbth9l8/1635144150000/17946651057176172524/*/1n-cTWLp385P-DmmNuMAg6zJDw8MNAPwu?e=download [following]\n",
            "Warning: wildcards not supported in HTTP.\n",
            "--2021-10-25 06:43:07--  https://doc-0g-10-docs.googleusercontent.com/docs/securesc/ha0ro937gcuc7l7deffksulhg5h7mbp1/37eg8vd4b0rirs7u9cfmk4t7dpbth9l8/1635144150000/17946651057176172524/*/1n-cTWLp385P-DmmNuMAg6zJDw8MNAPwu?e=download\n",
            "Resolving doc-0g-10-docs.googleusercontent.com (doc-0g-10-docs.googleusercontent.com)... 172.217.204.132, 2607:f8b0:400c:c15::84\n",
            "Connecting to doc-0g-10-docs.googleusercontent.com (doc-0g-10-docs.googleusercontent.com)|172.217.204.132|:443... connected.\n",
            "HTTP request sent, awaiting response... 200 OK\n",
            "Length: 22312699 (21M) [application/x-zip-compressed]\n",
            "Saving to: ‘3l6g8j3’\n",
            "\n",
            "3l6g8j3             100%[===================>]  21.28M   120MB/s    in 0.2s    \n",
            "\n",
            "2021-10-25 06:43:07 (120 MB/s) - ‘3l6g8j3’ saved [22312699/22312699]\n",
            "\n"
          ]
        }
      ]
    },
    {
      "cell_type": "code",
      "metadata": {
        "id": "DmDU-A_HPeEb"
      },
      "source": [
        "import pandas as pd\n",
        "\n",
        "train = pd.read_csv('data/train.csv',usecols = ['category','data'])\n",
        "test = pd.read_csv('data/test.csv',usecols = ['data'])"
      ],
      "execution_count": 2,
      "outputs": []
    },
    {
      "cell_type": "code",
      "metadata": {
        "id": "4Cc1TtCoDAwl"
      },
      "source": [
        "# train,test 데이터에서  '\\\\n' 단어 제거\n",
        "\n",
        "train['data'] = train['data'].apply(lambda x : str(x).replace('\\\\n',' ')) # 텍스트 데이터에서 '\\\\n' 문자열을 ' '로 변경\n",
        "test['data'] = test['data'].apply(lambda x : str(x).replace('\\\\n',' ')) # 텍스트 데이터에서 '\\\\n' 문자열을 ' '로 변경"
      ],
      "execution_count": 3,
      "outputs": []
    },
    {
      "cell_type": "code",
      "metadata": {
        "id": "p5Psv8eCDArE",
        "outputId": "4863512e-8d74-445a-f750-c3afb106e66e",
        "colab": {
          "base_uri": "https://localhost:8080/"
        }
      },
      "source": [
        "# 라이브러리 로딩\n",
        "from sklearn.feature_extraction.text import TfidfVectorizer\n",
        "\n",
        "#TF-IDF으로 train 데이터를 피처 벡터화 변환 수행\n",
        "\n",
        "vect = TfidfVectorizer()\n",
        "vect.fit(train['data'])\n",
        "train_x =  vect.transform(train['data'])\n",
        "\n",
        "print('train 데이터 사이즈', train_x.shape)"
      ],
      "execution_count": 4,
      "outputs": [
        {
          "output_type": "stream",
          "name": "stdout",
          "text": [
            "train 데이터 사이즈 (40000, 697226)\n"
          ]
        }
      ]
    },
    {
      "cell_type": "markdown",
      "metadata": {
        "id": "J1Is2vFL4cxY"
      },
      "source": [
        "## 실습\n",
        "---\n"
      ]
    },
    {
      "cell_type": "code",
      "metadata": {
        "id": "-ycjElp2eW3Q"
      },
      "source": [
        "# 라이브러리 로딩\n",
        "from sklearn.model_selection import train_test_split"
      ],
      "execution_count": 5,
      "outputs": []
    },
    {
      "cell_type": "code",
      "metadata": {
        "id": "RPmiHhqEfhQx"
      },
      "source": [
        "# train_test_split() 메소드를 이용해 train/validation 데이터 나누기 \n",
        "# stratify 옵션을 활용하여 데이터 셋 split\n",
        "\n",
        "x_train,x_valid, y_train, y_valid = train_test_split(train_x,train['category'],stratify = train['category'])"
      ],
      "execution_count": 6,
      "outputs": []
    },
    {
      "cell_type": "code",
      "metadata": {
        "id": "a52vZxPDDk7-",
        "outputId": "2952185e-d459-4064-d318-9a95cfb35ff1",
        "colab": {
          "base_uri": "https://localhost:8080/"
        }
      },
      "source": [
        "# LightGBM을 이용해 학습 및 검증 진행\n",
        "from lightgbm import LGBMRegressor\n",
        "\n",
        "\n",
        "model = LGBMRegressor(  )\n",
        "model.fit(x_train,y_train, eval_set = [(x_train,y_train),(x_valid,y_valid)])"
      ],
      "execution_count": 7,
      "outputs": [
        {
          "output_type": "stream",
          "name": "stdout",
          "text": [
            "[1]\ttraining's l2: 0.625919\tvalid_1's l2: 0.627309\n",
            "[2]\ttraining's l2: 0.592474\tvalid_1's l2: 0.59505\n",
            "[3]\ttraining's l2: 0.564373\tvalid_1's l2: 0.56807\n",
            "[4]\ttraining's l2: 0.540756\tvalid_1's l2: 0.545315\n",
            "[5]\ttraining's l2: 0.520725\tvalid_1's l2: 0.526383\n",
            "[6]\ttraining's l2: 0.503262\tvalid_1's l2: 0.509987\n",
            "[7]\ttraining's l2: 0.488345\tvalid_1's l2: 0.495835\n",
            "[8]\ttraining's l2: 0.47473\tvalid_1's l2: 0.482913\n",
            "[9]\ttraining's l2: 0.463098\tvalid_1's l2: 0.472357\n",
            "[10]\ttraining's l2: 0.452372\tvalid_1's l2: 0.4626\n",
            "[11]\ttraining's l2: 0.442716\tvalid_1's l2: 0.453342\n",
            "[12]\ttraining's l2: 0.434189\tvalid_1's l2: 0.44572\n",
            "[13]\ttraining's l2: 0.426239\tvalid_1's l2: 0.438621\n",
            "[14]\ttraining's l2: 0.419451\tvalid_1's l2: 0.432164\n",
            "[15]\ttraining's l2: 0.412931\tvalid_1's l2: 0.426314\n",
            "[16]\ttraining's l2: 0.406804\tvalid_1's l2: 0.420486\n",
            "[17]\ttraining's l2: 0.40147\tvalid_1's l2: 0.415843\n",
            "[18]\ttraining's l2: 0.396477\tvalid_1's l2: 0.411216\n",
            "[19]\ttraining's l2: 0.391762\tvalid_1's l2: 0.40708\n",
            "[20]\ttraining's l2: 0.387486\tvalid_1's l2: 0.40372\n",
            "[21]\ttraining's l2: 0.383512\tvalid_1's l2: 0.399861\n",
            "[22]\ttraining's l2: 0.379825\tvalid_1's l2: 0.396647\n",
            "[23]\ttraining's l2: 0.37633\tvalid_1's l2: 0.393787\n",
            "[24]\ttraining's l2: 0.372998\tvalid_1's l2: 0.390973\n",
            "[25]\ttraining's l2: 0.369971\tvalid_1's l2: 0.388575\n",
            "[26]\ttraining's l2: 0.367078\tvalid_1's l2: 0.38604\n",
            "[27]\ttraining's l2: 0.36439\tvalid_1's l2: 0.383675\n",
            "[28]\ttraining's l2: 0.361791\tvalid_1's l2: 0.381543\n",
            "[29]\ttraining's l2: 0.359427\tvalid_1's l2: 0.379246\n",
            "[30]\ttraining's l2: 0.357085\tvalid_1's l2: 0.377511\n",
            "[31]\ttraining's l2: 0.354893\tvalid_1's l2: 0.375978\n",
            "[32]\ttraining's l2: 0.35282\tvalid_1's l2: 0.37444\n",
            "[33]\ttraining's l2: 0.35083\tvalid_1's l2: 0.373016\n",
            "[34]\ttraining's l2: 0.348916\tvalid_1's l2: 0.371601\n",
            "[35]\ttraining's l2: 0.347091\tvalid_1's l2: 0.37023\n",
            "[36]\ttraining's l2: 0.345265\tvalid_1's l2: 0.368962\n",
            "[37]\ttraining's l2: 0.343527\tvalid_1's l2: 0.367777\n",
            "[38]\ttraining's l2: 0.341865\tvalid_1's l2: 0.366525\n",
            "[39]\ttraining's l2: 0.340269\tvalid_1's l2: 0.365428\n",
            "[40]\ttraining's l2: 0.338727\tvalid_1's l2: 0.364466\n",
            "[41]\ttraining's l2: 0.337239\tvalid_1's l2: 0.363379\n",
            "[42]\ttraining's l2: 0.335756\tvalid_1's l2: 0.362249\n",
            "[43]\ttraining's l2: 0.33437\tvalid_1's l2: 0.36154\n",
            "[44]\ttraining's l2: 0.332921\tvalid_1's l2: 0.360245\n",
            "[45]\ttraining's l2: 0.331624\tvalid_1's l2: 0.359495\n",
            "[46]\ttraining's l2: 0.330265\tvalid_1's l2: 0.358724\n",
            "[47]\ttraining's l2: 0.329022\tvalid_1's l2: 0.357993\n",
            "[48]\ttraining's l2: 0.327784\tvalid_1's l2: 0.357215\n",
            "[49]\ttraining's l2: 0.326577\tvalid_1's l2: 0.35648\n",
            "[50]\ttraining's l2: 0.325427\tvalid_1's l2: 0.355646\n",
            "[51]\ttraining's l2: 0.32421\tvalid_1's l2: 0.355048\n",
            "[52]\ttraining's l2: 0.32314\tvalid_1's l2: 0.354026\n",
            "[53]\ttraining's l2: 0.322043\tvalid_1's l2: 0.353488\n",
            "[54]\ttraining's l2: 0.320983\tvalid_1's l2: 0.35276\n",
            "[55]\ttraining's l2: 0.31992\tvalid_1's l2: 0.352235\n",
            "[56]\ttraining's l2: 0.318884\tvalid_1's l2: 0.351484\n",
            "[57]\ttraining's l2: 0.317833\tvalid_1's l2: 0.350856\n",
            "[58]\ttraining's l2: 0.316848\tvalid_1's l2: 0.350293\n",
            "[59]\ttraining's l2: 0.315856\tvalid_1's l2: 0.349963\n",
            "[60]\ttraining's l2: 0.314885\tvalid_1's l2: 0.34951\n",
            "[61]\ttraining's l2: 0.313972\tvalid_1's l2: 0.348921\n",
            "[62]\ttraining's l2: 0.31306\tvalid_1's l2: 0.348393\n",
            "[63]\ttraining's l2: 0.312177\tvalid_1's l2: 0.347888\n",
            "[64]\ttraining's l2: 0.311302\tvalid_1's l2: 0.347377\n",
            "[65]\ttraining's l2: 0.310424\tvalid_1's l2: 0.346946\n",
            "[66]\ttraining's l2: 0.309505\tvalid_1's l2: 0.346629\n",
            "[67]\ttraining's l2: 0.308516\tvalid_1's l2: 0.346394\n",
            "[68]\ttraining's l2: 0.30767\tvalid_1's l2: 0.345849\n",
            "[69]\ttraining's l2: 0.306856\tvalid_1's l2: 0.34547\n",
            "[70]\ttraining's l2: 0.306034\tvalid_1's l2: 0.344925\n",
            "[71]\ttraining's l2: 0.305197\tvalid_1's l2: 0.344536\n",
            "[72]\ttraining's l2: 0.304396\tvalid_1's l2: 0.344225\n",
            "[73]\ttraining's l2: 0.303604\tvalid_1's l2: 0.343916\n",
            "[74]\ttraining's l2: 0.3028\tvalid_1's l2: 0.343686\n",
            "[75]\ttraining's l2: 0.302031\tvalid_1's l2: 0.343355\n",
            "[76]\ttraining's l2: 0.301274\tvalid_1's l2: 0.342951\n",
            "[77]\ttraining's l2: 0.300523\tvalid_1's l2: 0.342694\n",
            "[78]\ttraining's l2: 0.299808\tvalid_1's l2: 0.342281\n",
            "[79]\ttraining's l2: 0.299084\tvalid_1's l2: 0.34196\n",
            "[80]\ttraining's l2: 0.298361\tvalid_1's l2: 0.341562\n",
            "[81]\ttraining's l2: 0.297645\tvalid_1's l2: 0.341418\n",
            "[82]\ttraining's l2: 0.2969\tvalid_1's l2: 0.341199\n",
            "[83]\ttraining's l2: 0.296083\tvalid_1's l2: 0.340992\n",
            "[84]\ttraining's l2: 0.295394\tvalid_1's l2: 0.340614\n",
            "[85]\ttraining's l2: 0.294715\tvalid_1's l2: 0.340381\n",
            "[86]\ttraining's l2: 0.294069\tvalid_1's l2: 0.340175\n",
            "[87]\ttraining's l2: 0.293388\tvalid_1's l2: 0.339963\n",
            "[88]\ttraining's l2: 0.292758\tvalid_1's l2: 0.339746\n",
            "[89]\ttraining's l2: 0.292099\tvalid_1's l2: 0.339427\n",
            "[90]\ttraining's l2: 0.291431\tvalid_1's l2: 0.339286\n",
            "[91]\ttraining's l2: 0.290811\tvalid_1's l2: 0.339005\n",
            "[92]\ttraining's l2: 0.2901\tvalid_1's l2: 0.33881\n",
            "[93]\ttraining's l2: 0.289501\tvalid_1's l2: 0.33865\n",
            "[94]\ttraining's l2: 0.288881\tvalid_1's l2: 0.338482\n",
            "[95]\ttraining's l2: 0.288297\tvalid_1's l2: 0.338255\n",
            "[96]\ttraining's l2: 0.287523\tvalid_1's l2: 0.337766\n",
            "[97]\ttraining's l2: 0.28687\tvalid_1's l2: 0.33763\n",
            "[98]\ttraining's l2: 0.286238\tvalid_1's l2: 0.337505\n",
            "[99]\ttraining's l2: 0.285665\tvalid_1's l2: 0.337248\n",
            "[100]\ttraining's l2: 0.285087\tvalid_1's l2: 0.337118\n"
          ]
        },
        {
          "output_type": "execute_result",
          "data": {
            "text/plain": [
              "LGBMRegressor(boosting_type='gbdt', class_weight=None, colsample_bytree=1.0,\n",
              "              importance_type='split', learning_rate=0.1, max_depth=-1,\n",
              "              min_child_samples=20, min_child_weight=0.001, min_split_gain=0.0,\n",
              "              n_estimators=100, n_jobs=-1, num_leaves=31, objective=None,\n",
              "              random_state=None, reg_alpha=0.0, reg_lambda=0.0, silent=True,\n",
              "              subsample=1.0, subsample_for_bin=200000, subsample_freq=0)"
            ]
          },
          "metadata": {},
          "execution_count": 7
        }
      ]
    },
    {
      "cell_type": "markdown",
      "metadata": {
        "id": "YLKidTge4gsx"
      },
      "source": [
        "## 정답\n",
        "---\n",
        "스스로 실습 코드를 작성 한 후 정답 코드를 확인해 보세요."
      ]
    },
    {
      "cell_type": "code",
      "metadata": {
        "id": "xmE4w_2PRqQO"
      },
      "source": [
        "#train_test_split() 메소드를 이용해 train/validation 데이터 나누기 \n",
        "# stratify 옵션을 활용하여 데이터 셋 split\n",
        "\n",
        "x_train,x_valid, y_train, y_valid = train_test_split(train_x,train['category'],stratify = train['category'])"
      ],
      "execution_count": null,
      "outputs": []
    },
    {
      "cell_type": "code",
      "metadata": {
        "id": "rnLrwYoIZUMy"
      },
      "source": [
        "# LightGBM을 이용해 학습 및 검증 진행\n",
        "from lightgbm import LGBMRegressor\n",
        "\n",
        "\n",
        "model = LGBMRegressor(  )\n",
        "model.fit(x_train,y_train,\n",
        "          eval_set = [(x_train,y_train),(x_valid,y_valid)]\n",
        "          )"
      ],
      "execution_count": null,
      "outputs": []
    },
    {
      "cell_type": "markdown",
      "metadata": {
        "id": "K8YgC54VtiB7"
      },
      "source": [
        "# [↩️ 리스트로 돌아가기](https://dacon.io/competitions/open/235698/overview/description)"
      ]
    }
  ]
}