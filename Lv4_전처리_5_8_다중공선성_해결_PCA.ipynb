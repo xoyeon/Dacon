{
  "nbformat": 4,
  "nbformat_minor": 0,
  "metadata": {
    "colab": {
      "name": "Lv4 전처리 5/8 다중공선성 해결 - PCA",
      "provenance": [],
      "collapsed_sections": [],
      "include_colab_link": true
    },
    "kernelspec": {
      "name": "python3",
      "display_name": "Python 3"
    },
    "language_info": {
      "name": "python"
    }
  },
  "cells": [
    {
      "cell_type": "markdown",
      "metadata": {
        "id": "view-in-github",
        "colab_type": "text"
      },
      "source": [
        "<a href=\"https://colab.research.google.com/github/xoyeon/Dacon-Daily-Python-Camp/blob/main/Lv4_%EC%A0%84%EC%B2%98%EB%A6%AC_5_8_%EB%8B%A4%EC%A4%91%EA%B3%B5%EC%84%A0%EC%84%B1_%ED%95%B4%EA%B2%B0_PCA.ipynb\" target=\"_parent\"><img src=\"https://colab.research.google.com/assets/colab-badge.svg\" alt=\"Open In Colab\"/></a>"
      ]
    },
    {
      "cell_type": "markdown",
      "metadata": {
        "id": "vIpjpOEXsoW0"
      },
      "source": [
        "# [↩️ 리스트로 돌아가기](https://dacon.io/competitions/open/235698/overview/description)"
      ]
    },
    {
      "cell_type": "markdown",
      "metadata": {
        "id": "cdkhATahdXka"
      },
      "source": [
        "# 셀을 실행할 때 팝업이 뜨면 `무시하고 계속하기` 를 눌러주세요\n"
      ]
    },
    {
      "cell_type": "markdown",
      "metadata": {
        "id": "Ggy1e31e_1yu"
      },
      "source": [
        "기존 내용과 상이한 부분이 있어 주석으로 문제를 제출하는 것에 한계가 있기때문에,   \n",
        "이번시간에는 게시글의 코드를 보며 필사하는 시간을 갖도록 하겠습니다."
      ]
    },
    {
      "cell_type": "markdown",
      "metadata": {
        "id": "91j6o0CC8y6w"
      },
      "source": [
        "## 데이터 로딩 "
      ]
    },
    {
      "cell_type": "code",
      "metadata": {
        "id": "GVPJmIjs82WW",
        "outputId": "2e5fc54a-e6ba-41e3-ddb8-1d134de172ed",
        "colab": {
          "base_uri": "https://localhost:8080/",
          "height": 143
        }
      },
      "source": [
        "from sklearn.datasets import load_iris\n",
        "import pandas as pd \n",
        "\n",
        "# 사이킷런 내장 데이터 셋 API 호출\n",
        "\n",
        "iris = load_iris()\n",
        "\n",
        "# DataFrame으로 변환\n",
        "df = pd.DataFrame(iris.data)\n",
        "df.columns =  ['sepal_length','sepal_width','petal_length','petal_width']\n",
        "df['target']=iris.target\n",
        "df.head(3)"
      ],
      "execution_count": 1,
      "outputs": [
        {
          "output_type": "execute_result",
          "data": {
            "text/html": [
              "<div>\n",
              "<style scoped>\n",
              "    .dataframe tbody tr th:only-of-type {\n",
              "        vertical-align: middle;\n",
              "    }\n",
              "\n",
              "    .dataframe tbody tr th {\n",
              "        vertical-align: top;\n",
              "    }\n",
              "\n",
              "    .dataframe thead th {\n",
              "        text-align: right;\n",
              "    }\n",
              "</style>\n",
              "<table border=\"1\" class=\"dataframe\">\n",
              "  <thead>\n",
              "    <tr style=\"text-align: right;\">\n",
              "      <th></th>\n",
              "      <th>sepal_length</th>\n",
              "      <th>sepal_width</th>\n",
              "      <th>petal_length</th>\n",
              "      <th>petal_width</th>\n",
              "      <th>target</th>\n",
              "    </tr>\n",
              "  </thead>\n",
              "  <tbody>\n",
              "    <tr>\n",
              "      <th>0</th>\n",
              "      <td>5.1</td>\n",
              "      <td>3.5</td>\n",
              "      <td>1.4</td>\n",
              "      <td>0.2</td>\n",
              "      <td>0</td>\n",
              "    </tr>\n",
              "    <tr>\n",
              "      <th>1</th>\n",
              "      <td>4.9</td>\n",
              "      <td>3.0</td>\n",
              "      <td>1.4</td>\n",
              "      <td>0.2</td>\n",
              "      <td>0</td>\n",
              "    </tr>\n",
              "    <tr>\n",
              "      <th>2</th>\n",
              "      <td>4.7</td>\n",
              "      <td>3.2</td>\n",
              "      <td>1.3</td>\n",
              "      <td>0.2</td>\n",
              "      <td>0</td>\n",
              "    </tr>\n",
              "  </tbody>\n",
              "</table>\n",
              "</div>"
            ],
            "text/plain": [
              "   sepal_length  sepal_width  petal_length  petal_width  target\n",
              "0           5.1          3.5           1.4          0.2       0\n",
              "1           4.9          3.0           1.4          0.2       0\n",
              "2           4.7          3.2           1.3          0.2       0"
            ]
          },
          "metadata": {},
          "execution_count": 1
        }
      ]
    },
    {
      "cell_type": "code",
      "metadata": {
        "id": "GqVbFVMCGJzT"
      },
      "source": [
        "# 라이브러리 불러오기\n",
        "import matplotlib.pyplot as plt\n",
        "%matplotlib inline\n",
        "\n",
        "# 정규화 라이브러리 호출\n",
        "from sklearn.preprocessing import MinMaxScaler\n",
        "\n",
        "# PCA 라이브러리 호출\n",
        "from sklearn.decomposition import PCA"
      ],
      "execution_count": 2,
      "outputs": []
    },
    {
      "cell_type": "markdown",
      "metadata": {
        "id": "ZksEbPou52yW"
      },
      "source": [
        "## 👋 실습\n",
        "---\n",
        "\n",
        "1. x축 : sepal length y축 : sepal width로 하여 품종 데이터 분포 시각화\n",
        "2. PCA를 이용해 차원 축소\n",
        "3. 변환된 데이터 셋을 시각화"
      ]
    },
    {
      "cell_type": "code",
      "metadata": {
        "id": "qYn-_DQIxLcK",
        "outputId": "f3d393a8-5e97-4bf0-c23b-4289adcf3f6c",
        "colab": {
          "base_uri": "https://localhost:8080/",
          "height": 282
        }
      },
      "source": [
        "#setosa는 빨간색, versicolor는 노란색, virginica는 파란색\n",
        "color=['r', 'y', 'b']\n",
        "\n",
        "# setosa의 target 값은 0, versicolor는 1, virginica는 2. \n",
        "# 각 target 별로 다른 색으로 scatter plot \n",
        "for i, c in enumerate(color):\n",
        "  x_axis_data = df[df['target']==i]['sepal_length']\n",
        "  y_axis_data = df[df['target']==i]['sepal_width']\n",
        "  plt.scatter(x_axis_data, y_axis_data,color = c,label=iris.target_names[i])\n",
        "\n",
        "plt.legend()\n",
        "plt.xlabel('sepal length')\n",
        "plt.ylabel('sepal width')\n",
        "\n",
        "plt.show()"
      ],
      "execution_count": 3,
      "outputs": [
        {
          "output_type": "display_data",
          "data": {
            "image/png": "[encoded data removed]",
            "text/plain": [
              "<Figure size 432x288 with 1 Axes>"
            ]
          },
          "metadata": {
            "needs_background": "light"
          }
        }
      ]
    },
    {
      "cell_type": "code",
      "metadata": {
        "id": "6da0jxdq7tRU"
      },
      "source": [
        "# Target 값을 제외한 모든 속성 값을 MinMaxScaler를 이용하여 변환\n",
        "# 'sepal_length','sepal_width','petal_length','petal_width'\n",
        "df_features = df[['sepal_length','sepal_width','petal_length','petal_width']]\n",
        "df_scaler = MinMaxScaler().fit_transform(df_features)"
      ],
      "execution_count": 4,
      "outputs": []
    },
    {
      "cell_type": "code",
      "metadata": {
        "id": "J64ivZbo7vpm",
        "outputId": "cfada4f3-7c17-466c-cd0b-fea49da341c6",
        "colab": {
          "base_uri": "https://localhost:8080/"
        }
      },
      "source": [
        "# PCA를 이용하여 4차원 변수를 2차원으로 변환\n",
        "\n",
        "pca = PCA(n_components=2)\n",
        "\n",
        "#fit( )과 transform( ) 을 호출하여 PCA 변환 / 데이터 반환\n",
        "pca.fit(df_scaler)\n",
        "df_pca = pca.transform(df_scaler)\n",
        "print(df_pca.shape)"
      ],
      "execution_count": 5,
      "outputs": [
        {
          "output_type": "stream",
          "text": [
            "(150, 2)\n"
          ],
          "name": "stdout"
        }
      ]
    },
    {
      "cell_type": "code",
      "metadata": {
        "id": "j9uBSzCajX2M",
        "outputId": "ebcf35a2-b51c-45e9-f247-3cad83cbf8aa",
        "colab": {
          "base_uri": "https://localhost:8080/",
          "height": 143
        }
      },
      "source": [
        "# PCA 변환된 데이터의 컬럼명을 각각 PCA_1, PCA_2로 지정\n",
        "df_pca = pd.DataFrame(df_pca)\n",
        "df_pca.columns = ['PCA_1','PCA_2']\n",
        "df_pca['target']=df.target\n",
        "\n",
        "df_pca.head(3)"
      ],
      "execution_count": 6,
      "outputs": [
        {
          "output_type": "execute_result",
          "data": {
            "text/html": [
              "<div>\n",
              "<style scoped>\n",
              "    .dataframe tbody tr th:only-of-type {\n",
              "        vertical-align: middle;\n",
              "    }\n",
              "\n",
              "    .dataframe tbody tr th {\n",
              "        vertical-align: top;\n",
              "    }\n",
              "\n",
              "    .dataframe thead th {\n",
              "        text-align: right;\n",
              "    }\n",
              "</style>\n",
              "<table border=\"1\" class=\"dataframe\">\n",
              "  <thead>\n",
              "    <tr style=\"text-align: right;\">\n",
              "      <th></th>\n",
              "      <th>PCA_1</th>\n",
              "      <th>PCA_2</th>\n",
              "      <th>target</th>\n",
              "    </tr>\n",
              "  </thead>\n",
              "  <tbody>\n",
              "    <tr>\n",
              "      <th>0</th>\n",
              "      <td>-0.630703</td>\n",
              "      <td>0.107578</td>\n",
              "      <td>0</td>\n",
              "    </tr>\n",
              "    <tr>\n",
              "      <th>1</th>\n",
              "      <td>-0.622905</td>\n",
              "      <td>-0.104260</td>\n",
              "      <td>0</td>\n",
              "    </tr>\n",
              "    <tr>\n",
              "      <th>2</th>\n",
              "      <td>-0.669520</td>\n",
              "      <td>-0.051417</td>\n",
              "      <td>0</td>\n",
              "    </tr>\n",
              "  </tbody>\n",
              "</table>\n",
              "</div>"
            ],
            "text/plain": [
              "      PCA_1     PCA_2  target\n",
              "0 -0.630703  0.107578       0\n",
              "1 -0.622905 -0.104260       0\n",
              "2 -0.669520 -0.051417       0"
            ]
          },
          "metadata": {},
          "execution_count": 6
        }
      ]
    },
    {
      "cell_type": "code",
      "metadata": {
        "id": "Cnvszqr5xMCa",
        "outputId": "de642186-1b79-409e-e2a8-30ed442f7016",
        "colab": {
          "base_uri": "https://localhost:8080/",
          "height": 280
        }
      },
      "source": [
        "#setosa는 빨간색, versicolor는 노란색, virginica는 파란색\n",
        "color=['r', 'y', 'b']\n",
        "\n",
        "# setosa의 target 값은 0, versicolor는 1, virginica는 2. \n",
        "# 각 target 별로 다른 색으로 scatter plot \n",
        "for i, c in enumerate(color):\n",
        "  x_axis_data = df_pca[df_pca['target']==i]['PCA_1']\n",
        "  y_axis_data = df_pca[df_pca['target']==i]['PCA_2']\n",
        "  plt.scatter(x_axis_data, y_axis_data, color = c,label=iris.target_names[i])\n",
        "\n",
        "plt.legend()\n",
        "plt.xlabel('PCA_1')\n",
        "plt.ylabel('PCA_2')\n",
        "\n",
        "plt.show()"
      ],
      "execution_count": 7,
      "outputs": [
        {
          "output_type": "display_data",
          "data": {
            "image/png": "[encoded data removed]",
            "text/plain": [
              "<Figure size 432x288 with 1 Axes>"
            ]
          },
          "metadata": {
            "needs_background": "light"
          }
        }
      ]
    },
    {
      "cell_type": "markdown",
      "metadata": {
        "id": "pDD4b9YJdkka"
      },
      "source": [
        "## 정답\n",
        "---\n"
      ]
    },
    {
      "cell_type": "code",
      "metadata": {
        "id": "8T5Is8BidrKD"
      },
      "source": [
        "#setosa는 빨간색, versicolor는 노란색, virginica는 파란색\n",
        "\n",
        "color=['r', 'y', 'b']\n",
        "\n",
        "\n",
        "# setosa의 target 값은 0, versicolor는 1, virginica는 2. \n",
        "\n",
        "# 각 target 별로 다른 색으로 scatter plot \n",
        "\n",
        "for i, c in enumerate(color):\n",
        "\n",
        "    x_axis_data = df[df['target']==i]['sepal_length']\n",
        "    y_axis_data = df[df['target']==i]['sepal_width']\n",
        "    plt.scatter(x_axis_data, y_axis_data,color = c,label=iris.target_names[i])\n",
        "\n",
        "\n",
        "\n",
        "plt.legend()\n",
        "\n",
        "plt.xlabel('sepal length')\n",
        "\n",
        "plt.ylabel('sepal width')\n",
        "\n",
        "plt.show()\n"
      ],
      "execution_count": null,
      "outputs": []
    },
    {
      "cell_type": "code",
      "metadata": {
        "id": "PMLHT7F7dms6"
      },
      "source": [
        "# Target 값을 제외한 모든 속성 값을 MinMaxScaler를 이용하여 변환\n",
        "\n",
        "# 'sepal_length','sepal_width','petal_length','petal_width'\n",
        "\n",
        "df_features = df[['sepal_length','sepal_width','petal_length','petal_width']]\n",
        "\n",
        "df_scaler = MinMaxScaler().fit_transform(df_features)\n",
        "\n",
        "\n",
        "\n",
        "# PCA를 이용하여 4차원 변수를 2차원으로 변환\n",
        "\n",
        "\n",
        "\n",
        "pca = PCA(n_components=2)\n",
        "\n",
        "\n",
        "\n",
        "#fit( )과 transform( ) 을 호출하여 PCA 변환 / 데이터 반환\n",
        "\n",
        "pca.fit(df_scaler)\n",
        "\n",
        "df_pca = pca.transform(df_scaler)\n",
        "\n",
        "print(df_pca.shape)"
      ],
      "execution_count": null,
      "outputs": []
    },
    {
      "cell_type": "code",
      "metadata": {
        "id": "jjE52byrdmlb"
      },
      "source": [
        "\n",
        "# PCA 변환된 데이터의 컬럼명을 각각 PCA_1, PCA_2로 지정\n",
        "\n",
        "\n",
        "\n",
        "df_pca = pd.DataFrame(df_pca)\n",
        "\n",
        "df_pca.columns = ['PCA_1','PCA_2']\n",
        "\n",
        "df_pca['target']=df.target\n",
        "\n",
        "df_pca.head(3)"
      ],
      "execution_count": null,
      "outputs": []
    },
    {
      "cell_type": "code",
      "metadata": {
        "id": "0m7Z1JV4dmXJ"
      },
      "source": [
        "#setosa는 빨간색, versicolor는 노란색, virginica는 파란색\n",
        "\n",
        "color=['r', 'y', 'b']\n",
        "\n",
        "\n",
        "\n",
        "# setosa의 target 값은 0, versicolor는 1, virginica는 2. \n",
        "\n",
        "# 각 target 별로 다른 색으로 scatter plot \n",
        "\n",
        "for i, c in enumerate(color):\n",
        "\n",
        "    x_axis_data = df_pca[df_pca['target']==i]['PCA_1']\n",
        "\n",
        "    y_axis_data = df_pca[df_pca['target']==i]['PCA_2']\n",
        "\n",
        "    plt.scatter(x_axis_data, y_axis_data, color = c,label=iris.target_names[i])\n",
        "\n",
        "\n",
        "\n",
        "plt.legend()\n",
        "\n",
        "plt.xlabel('PCA_1')\n",
        "\n",
        "plt.ylabel('PCA_2')\n",
        "\n",
        "plt.show()"
      ],
      "execution_count": null,
      "outputs": []
    },
    {
      "cell_type": "markdown",
      "metadata": {
        "id": "K8YgC54VtiB7"
      },
      "source": [
        "# [↩️ 리스트로 돌아가기](https://dacon.io/competitions/open/235698/overview/description)"
      ]
    }
  ]
}