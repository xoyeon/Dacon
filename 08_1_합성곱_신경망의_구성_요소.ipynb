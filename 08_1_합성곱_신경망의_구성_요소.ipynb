{
  "nbformat": 4,
  "nbformat_minor": 0,
  "metadata": {
    "colab": {
      "name": "08-1 | 합성곱 신경망의 구성 요소.ipynb",
      "provenance": [],
      "collapsed_sections": [],
      "authorship_tag": "ABX9TyOUTd0adHbBCGMgUPrmUta2",
      "include_colab_link": true
    },
    "kernelspec": {
      "name": "python3",
      "display_name": "Python 3"
    },
    "language_info": {
      "name": "python"
    }
  },
  "cells": [
    {
      "cell_type": "markdown",
      "metadata": {
        "id": "view-in-github",
        "colab_type": "text"
      },
      "source": [
        "<a href=\"https://colab.research.google.com/github/xoyeon/Dacon-Daily-Python-Camp/blob/main/08_1_%ED%95%A9%EC%84%B1%EA%B3%B1_%EC%8B%A0%EA%B2%BD%EB%A7%9D%EC%9D%98_%EA%B5%AC%EC%84%B1_%EC%9A%94%EC%86%8C.ipynb\" target=\"_parent\"><img src=\"https://colab.research.google.com/assets/colab-badge.svg\" alt=\"Open In Colab\"/></a>"
      ]
    },
    {
      "cell_type": "markdown",
      "metadata": {
        "id": "Wk3lcxDTjP36"
      },
      "source": [
        "# 합성곱(convolution)\n",
        "밀집층과 비슷하게 입력과 가중치를 곱하고 절편을 더하는 선형 계산. 일부만 사용하여 선형 계산 수행.   \n",
        "- **필터**는 밀집층의 *뉴런*에 해당\n",
        "- 필터의 가중치와 절편을 *커널*이라고 부름\n",
        "- **특성 맵**은 합성곱 층이나 풀링 층의 출력 배열을 의미"
      ]
    },
    {
      "cell_type": "markdown",
      "metadata": {
        "id": "CuwS7enmm2k3"
      },
      "source": [
        "# 케라스 합성곱 층\n",
        "- 패딩(padding): 입력 배열의 주위를 가상의 원소로 채우는 것\n",
        "- 세임 패딩(same padding): 입력과 특성 맵의 크기를 동일하게 만들기 위해 주위에 0으로 패딩하는 것\n",
        "- 밸리드 패딩(valid padding): 패딩 없이 순수한 입력 배열에서만 합성곱을 하여 특성 맵을 만드는 경우\n",
        "- 스트라이드(stride)의 기본은 1\n",
        "- 풀링(pooling): 합성곱 층에서 만든 특성 맵의 가로세로 크기를 줄이는 역할\n",
        "> 최대 풀링, 평균 풀링"
      ]
    },
    {
      "cell_type": "code",
      "metadata": {
        "colab": {
          "base_uri": "https://localhost:8080/"
        },
        "id": "neJHtohcdTyx",
        "outputId": "d5e5178e-2d05-4040-ba6b-b21730e677a1"
      },
      "source": [
        "import keras\n",
        "keras.layers.Conv2D(10, kernel_size=(3,3), activation='relu', padding='same', strides=1)"
      ],
      "execution_count": null,
      "outputs": [
        {
          "output_type": "execute_result",
          "data": {
            "text/plain": [
              "<keras.layers.convolutional.Conv2D at 0x7f0fa6b6f350>"
            ]
          },
          "metadata": {},
          "execution_count": 2
        }
      ]
    },
    {
      "cell_type": "markdown",
      "metadata": {
        "id": "rXd9ANEyokvf"
      },
      "source": [
        "# 합성곱 신경망의 전체 구조\n",
        "합성곱 신경망의 입력은 일반적으로 너비와 높이가 있는 이미지"
      ]
    },
    {
      "cell_type": "markdown",
      "metadata": {
        "id": "mVreKqaGPPVM"
      },
      "source": [
        "-- 유튜브 보면서 공부가 더 많이 필요함 --"
      ]
    }
  ]
}