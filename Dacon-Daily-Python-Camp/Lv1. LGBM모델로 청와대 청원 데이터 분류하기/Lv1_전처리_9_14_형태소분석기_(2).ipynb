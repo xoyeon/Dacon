{
  "nbformat": 4,
  "nbformat_minor": 0,
  "metadata": {
    "colab": {
      "name": "Lv1_전처리_9/14_형태소분석기 (2)의 사본",
      "provenance": [],
      "collapsed_sections": [],
      "include_colab_link": true
    },
    "kernelspec": {
      "name": "python3",
      "display_name": "Python 3"
    },
    "language_info": {
      "name": "python"
    }
  },
  "cells": [
    {
      "cell_type": "markdown",
      "metadata": {
        "id": "view-in-github",
        "colab_type": "text"
      },
      "source": [
        "<a href=\"https://colab.research.google.com/github/xoyeon/Dacon-Daily-Python-Camp/blob/main/Lv1_%EC%A0%84%EC%B2%98%EB%A6%AC_9_14_%ED%98%95%ED%83%9C%EC%86%8C%EB%B6%84%EC%84%9D%EA%B8%B0_(2).ipynb\" target=\"_parent\"><img src=\"https://colab.research.google.com/assets/colab-badge.svg\" alt=\"Open In Colab\"/></a>"
      ]
    },
    {
      "cell_type": "markdown",
      "metadata": {
        "id": "vIpjpOEXsoW0"
      },
      "source": [
        "# [↩️ 리스트로 돌아가기](https://dacon.io/competitions/open/235698/overview/description)"
      ]
    },
    {
      "cell_type": "markdown",
      "metadata": {
        "id": "Y8EsppNShcez"
      },
      "source": [
        "# 셀을 실행할 때 팝업이 뜨면 `무시하고 계속하기` 를 눌러주세요\n"
      ]
    },
    {
      "cell_type": "markdown",
      "metadata": {
        "id": "XlzJe6gZ7_fi"
      },
      "source": [
        "데이터에서 조사를 제거하는 이유는 조사는 큰 의미를 가지고 있지 않기 때문에 오히려 분석에 방해가 될 수 있습니다.\n",
        "\n",
        "실습 순서는 다음과 같습니다.\n",
        "\n",
        "1. 텍스트 데이터의 형태소 별로 분리\n",
        "2. 형태소가 조사인 글자를 제외 하여 새로운 텍스트 생성\n",
        "3. 기존의 텍스트 데이터를 새로운 텍스트로 변경"
      ]
    },
    {
      "cell_type": "markdown",
      "metadata": {
        "id": "FqodyLxg4RLu"
      },
      "source": [
        "## 데이터 다운로드\n",
        "--- \n",
        "아래 셀을 실행시켜 데이터를 colab에 불러옵니다.  \n",
        "셀 실행은 <br>Windows: `Ctrl` + `Enter`<br>\n",
        "Mac: `Shift` + `Enter` <br>\n",
        "를 이용해 실행 시킬 수 있습니다. "
      ]
    },
    {
      "cell_type": "code",
      "metadata": {
        "id": "by55dpRPfTwZ",
        "colab": {
          "base_uri": "https://localhost:8080/"
        },
        "outputId": "4ece383c-57f5-4b3d-9b57-66eef51a6f63"
      },
      "source": [
        "# 데이터 다운로드 링크로 데이터를 코랩에 불러옵니다.\n",
        "\n",
        "!wget 'https://bit.ly/3l6g8j3'\n",
        "\n",
        "import zipfile\n",
        "with zipfile.ZipFile('3l6g8j3', 'r') as existing_zip:\n",
        "    existing_zip.extractall('data')"
      ],
      "execution_count": null,
      "outputs": [
        {
          "output_type": "stream",
          "name": "stdout",
          "text": [
            "--2021-10-02 12:17:49--  https://bit.ly/3l6g8j3\n",
            "Resolving bit.ly (bit.ly)... 67.199.248.11, 67.199.248.10\n",
            "Connecting to bit.ly (bit.ly)|67.199.248.11|:443... connected.\n",
            "HTTP request sent, awaiting response... 301 Moved Permanently\n",
            "Location: https://docs.google.com/uc?export=download&id=1n-cTWLp385P-DmmNuMAg6zJDw8MNAPwu [following]\n",
            "--2021-10-02 12:17:49--  https://docs.google.com/uc?export=download&id=1n-cTWLp385P-DmmNuMAg6zJDw8MNAPwu\n",
            "Resolving docs.google.com (docs.google.com)... 74.125.199.101, 74.125.199.100, 74.125.199.113, ...\n",
            "Connecting to docs.google.com (docs.google.com)|74.125.199.101|:443... connected.\n",
            "HTTP request sent, awaiting response... 302 Moved Temporarily\n",
            "Location: https://doc-0g-10-docs.googleusercontent.com/docs/securesc/ha0ro937gcuc7l7deffksulhg5h7mbp1/i2v6dnm4c6f69pmovq1058v5ek4f6ed5/1633177050000/17946651057176172524/*/1n-cTWLp385P-DmmNuMAg6zJDw8MNAPwu?e=download [following]\n",
            "Warning: wildcards not supported in HTTP.\n",
            "--2021-10-02 12:17:50--  https://doc-0g-10-docs.googleusercontent.com/docs/securesc/ha0ro937gcuc7l7deffksulhg5h7mbp1/i2v6dnm4c6f69pmovq1058v5ek4f6ed5/1633177050000/17946651057176172524/*/1n-cTWLp385P-DmmNuMAg6zJDw8MNAPwu?e=download\n",
            "Resolving doc-0g-10-docs.googleusercontent.com (doc-0g-10-docs.googleusercontent.com)... 142.250.107.132, 2607:f8b0:400e:c0d::84\n",
            "Connecting to doc-0g-10-docs.googleusercontent.com (doc-0g-10-docs.googleusercontent.com)|142.250.107.132|:443... connected.\n",
            "HTTP request sent, awaiting response... 200 OK\n",
            "Length: unspecified [application/x-zip-compressed]\n",
            "Saving to: ‘3l6g8j3’\n",
            "\n",
            "3l6g8j3                 [ <=>                ]  21.28M  --.-KB/s    in 0.1s    \n",
            "\n",
            "2021-10-02 12:17:50 (160 MB/s) - ‘3l6g8j3’ saved [22312699]\n",
            "\n"
          ]
        }
      ]
    },
    {
      "cell_type": "code",
      "metadata": {
        "id": "DmDU-A_HPeEb"
      },
      "source": [
        "import pandas as pd\n",
        "\n",
        "train = pd.read_csv('data/train.csv',usecols = ['category','data'])\n",
        "test = pd.read_csv('data/test.csv',usecols = ['data'])"
      ],
      "execution_count": null,
      "outputs": []
    },
    {
      "cell_type": "code",
      "metadata": {
        "id": "8S98B75eMkTa",
        "colab": {
          "base_uri": "https://localhost:8080/"
        },
        "outputId": "7f6b4d7f-d6fd-449a-f9e0-11f106c27d8d"
      },
      "source": [
        "# 라이브러리 설치\n",
        "# Okt, Komoran, Kkma 은 모두 konlpy 라이브러리에서 불러올 수 있다.\n",
        "!pip install konlpy"
      ],
      "execution_count": null,
      "outputs": [
        {
          "output_type": "stream",
          "name": "stdout",
          "text": [
            "Collecting konlpy\n",
            "  Downloading konlpy-0.5.2-py2.py3-none-any.whl (19.4 MB)\n",
            "\u001b[K     |████████████████████████████████| 19.4 MB 1.3 MB/s \n",
            "\u001b[?25hCollecting colorama\n",
            "  Downloading colorama-0.4.4-py2.py3-none-any.whl (16 kB)\n",
            "Requirement already satisfied: numpy>=1.6 in /usr/local/lib/python3.7/dist-packages (from konlpy) (1.19.5)\n",
            "Requirement already satisfied: tweepy>=3.7.0 in /usr/local/lib/python3.7/dist-packages (from konlpy) (3.10.0)\n",
            "Collecting beautifulsoup4==4.6.0\n",
            "  Downloading beautifulsoup4-4.6.0-py3-none-any.whl (86 kB)\n",
            "\u001b[K     |████████████████████████████████| 86 kB 5.8 MB/s \n",
            "\u001b[?25hCollecting JPype1>=0.7.0\n",
            "  Downloading JPype1-1.3.0-cp37-cp37m-manylinux_2_5_x86_64.manylinux1_x86_64.whl (448 kB)\n",
            "\u001b[K     |████████████████████████████████| 448 kB 37.4 MB/s \n",
            "\u001b[?25hRequirement already satisfied: lxml>=4.1.0 in /usr/local/lib/python3.7/dist-packages (from konlpy) (4.2.6)\n",
            "Requirement already satisfied: typing-extensions in /usr/local/lib/python3.7/dist-packages (from JPype1>=0.7.0->konlpy) (3.7.4.3)\n",
            "Requirement already satisfied: requests[socks]>=2.11.1 in /usr/local/lib/python3.7/dist-packages (from tweepy>=3.7.0->konlpy) (2.23.0)\n",
            "Requirement already satisfied: six>=1.10.0 in /usr/local/lib/python3.7/dist-packages (from tweepy>=3.7.0->konlpy) (1.15.0)\n",
            "Requirement already satisfied: requests-oauthlib>=0.7.0 in /usr/local/lib/python3.7/dist-packages (from tweepy>=3.7.0->konlpy) (1.3.0)\n",
            "Requirement already satisfied: oauthlib>=3.0.0 in /usr/local/lib/python3.7/dist-packages (from requests-oauthlib>=0.7.0->tweepy>=3.7.0->konlpy) (3.1.1)\n",
            "Requirement already satisfied: certifi>=2017.4.17 in /usr/local/lib/python3.7/dist-packages (from requests[socks]>=2.11.1->tweepy>=3.7.0->konlpy) (2021.5.30)\n",
            "Requirement already satisfied: idna<3,>=2.5 in /usr/local/lib/python3.7/dist-packages (from requests[socks]>=2.11.1->tweepy>=3.7.0->konlpy) (2.10)\n",
            "Requirement already satisfied: urllib3!=1.25.0,!=1.25.1,<1.26,>=1.21.1 in /usr/local/lib/python3.7/dist-packages (from requests[socks]>=2.11.1->tweepy>=3.7.0->konlpy) (1.24.3)\n",
            "Requirement already satisfied: chardet<4,>=3.0.2 in /usr/local/lib/python3.7/dist-packages (from requests[socks]>=2.11.1->tweepy>=3.7.0->konlpy) (3.0.4)\n",
            "Requirement already satisfied: PySocks!=1.5.7,>=1.5.6 in /usr/local/lib/python3.7/dist-packages (from requests[socks]>=2.11.1->tweepy>=3.7.0->konlpy) (1.7.1)\n",
            "Installing collected packages: JPype1, colorama, beautifulsoup4, konlpy\n",
            "  Attempting uninstall: beautifulsoup4\n",
            "    Found existing installation: beautifulsoup4 4.6.3\n",
            "    Uninstalling beautifulsoup4-4.6.3:\n",
            "      Successfully uninstalled beautifulsoup4-4.6.3\n",
            "Successfully installed JPype1-1.3.0 beautifulsoup4-4.6.0 colorama-0.4.4 konlpy-0.5.2\n"
          ]
        }
      ]
    },
    {
      "cell_type": "code",
      "metadata": {
        "id": "T0oSpeHUMqLp"
      },
      "source": [
        "from konlpy.tag import Okt\n",
        "\n",
        "# 형태소 분석기 정의\n",
        "okt = Okt()\n"
      ],
      "execution_count": null,
      "outputs": []
    },
    {
      "cell_type": "code",
      "metadata": {
        "id": "tmtsrdqyngVu"
      },
      "source": [
        "# 텍스트 데이터에서 '\\\\n' 문자열 제거\n",
        "\n",
        "train['data'] = train['data'].apply(lambda x : str(x).replace('\\\\n',' ')) # 텍스트 데이터에서 '\\\\n' 문자열을 ' '로 변경\n",
        "test['data'] = test['data'].apply(lambda x : str(x).replace('\\\\n',' ')) # 텍스트 데이터에서 '\\\\n' 문자열을 ' '로 변경"
      ],
      "execution_count": null,
      "outputs": []
    },
    {
      "cell_type": "markdown",
      "metadata": {
        "id": "J1Is2vFL4cxY"
      },
      "source": [
        "## 실습\n",
        "---\n",
        "이번시간에는 조사를 제거하기 위한 함수를 정의하고 새로운 문자열로 바꾸는 실습을 진행하게 됩니다.  \n",
        " 내용이 어려울 수 있으니 전체적인 흐름만 파악하셔도 충분합니다 ! 👨‍🏫💂👩‍🏫"
      ]
    },
    {
      "cell_type": "code",
      "metadata": {
        "id": "-ycjElp2eW3Q",
        "colab": {
          "base_uri": "https://localhost:8080/",
          "height": 106
        },
        "outputId": "5118bdc3-fa1a-4fbe-e530-08bf3ebf1dac"
      },
      "source": [
        "train.data[0]"
      ],
      "execution_count": null,
      "outputs": [
        {
          "output_type": "execute_result",
          "data": {
            "application/vnd.google.colaboratory.intrinsic+json": {
              "type": "string"
            },
            "text/plain": [
              "'신혼부부위한 주택정책 보다 보육시설 늘려주세요.. 국민세금으로 일부를 위한 정책펴지 마시고 보편적으로 모든국민이 수긍할  수 있는 복지정책 펴 주시길 바랍니다. 저도 신혼부부이지만 당첨되는 사람 로또되는 이런주택정책 반대합니다. 국민세금을 일부 사람들에게 퍼주기식이 되면 안되죠.. 그 세금으로 우리아이 안전하게 맡길 수 있는 보육시설을 전국에 설치해 주세요.. 대기업들은 솔선수범해서 모든 사업장에 의무설치 할 수 있도록 하시구요.. 집 보다 애 맡길데가 없어 경력단절 되는게 더 괴롭습니다.! 집은 개인의 능력을 키워 사는게 맞습니다. 그 능력을 키울수 있도록 육아 전담에 힘을 기울이는게 맞습니다. 우리아이 부모가 키우는거 맞지만 이제는 국가가 책임지는 시대로 가는게 맞다고 봅니다. 그렇잖아도 부동산 가격 자꾸 올라가는게 정부정책이 잘못 되었다고 봅니다. 부동산은 그냥 내버려 두세요!  좀! 건들수록 역효과네요..'"
            ]
          },
          "metadata": {},
          "execution_count": 6
        }
      ]
    },
    {
      "cell_type": "code",
      "metadata": {
        "id": "TOmo60kHKZff"
      },
      "source": [
        "# 시간이 오래 걸립니다 ! \n",
        "\n",
        "# 조사를 제거하기 위함 함수 정의 \n",
        "\n",
        "def func(text):\n",
        "  # 형태소 분석기를 이용해 형태소 분석\n",
        "  okt_pos = okt.pos(str(text), norm=True, stem=True)\n",
        "  \n",
        "  # 조사를 제거한 새로운 문자열 정의 \n",
        "  new_word = ''\n",
        "\n",
        "  for word,pos in okt_pos:\n",
        "    \n",
        "    # 품사가 조사가 아니면\n",
        "    if pos!='Josa':\n",
        "      # 새로운 문자열에 추가 \n",
        "      new_word+=word\n",
        "  \n",
        "  return new_word\n",
        "  \n",
        "  \n",
        "  \n",
        "\n",
        "train['data'] = train['data'].apply(lambda x : func(x))\n",
        "test['data'] = test['data'].apply(lambda x : func(x))"
      ],
      "execution_count": null,
      "outputs": []
    },
    {
      "cell_type": "markdown",
      "metadata": {
        "id": "YLKidTge4gsx"
      },
      "source": [
        "## 정답\n",
        "---\n",
        "스스로 실습 코드를 작성 한 후 정답 코드를 확인해 보세요."
      ]
    },
    {
      "cell_type": "code",
      "metadata": {
        "id": "xmE4w_2PRqQO"
      },
      "source": [
        "# 시간이 오래 걸립니다 ! \n",
        "\n",
        "# 조사를 제거하기 위함 함수 정의 \n",
        "\n",
        "def func(text):\n",
        "  # 형태소 분석\n",
        "  okt_pos = okt.pos(str(text),norm=True, stem=True)\n",
        "  \n",
        "  # 조사를 제거한 새로운 문자열 정의 \n",
        "  new_word = ''\n",
        "\n",
        "  for word,pos in okt_pos:\n",
        "    \n",
        "    # 품사가 조사가 아니면\n",
        "    if pos != 'Josa':\n",
        "      # 새로운 문자열에 추가 \n",
        "      new_word+=word\n",
        "  \n",
        "  return new_word\n",
        "\n",
        "train['data'] = train['data'].apply(lambda x : func(x))\n",
        "test['data'] = test['data'].apply(lambda x : func(x))"
      ],
      "execution_count": null,
      "outputs": []
    },
    {
      "cell_type": "code",
      "metadata": {
        "id": "WLDyQcXTRrFl"
      },
      "source": [
        "# test 데이터 결측치 갯수 출력\n",
        "test.isnull().sum()"
      ],
      "execution_count": null,
      "outputs": []
    },
    {
      "cell_type": "markdown",
      "metadata": {
        "id": "K8YgC54VtiB7"
      },
      "source": [
        "# [↩️ 리스트로 돌아가기](https://dacon.io/competitions/open/235698/overview/description)"
      ]
    }
  ]
}