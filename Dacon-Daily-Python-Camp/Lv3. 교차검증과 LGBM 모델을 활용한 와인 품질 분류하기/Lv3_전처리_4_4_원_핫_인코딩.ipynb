{
  "nbformat": 4,
  "nbformat_minor": 0,
  "metadata": {
    "colab": {
      "name": "Lv3 전처리 4/4 원-핫 인코딩",
      "provenance": [],
      "collapsed_sections": [
        "J1Is2vFL4cxY"
      ],
      "include_colab_link": true
    },
    "kernelspec": {
      "name": "python3",
      "display_name": "Python 3"
    },
    "language_info": {
      "name": "python"
    }
  },
  "cells": [
    {
      "cell_type": "markdown",
      "metadata": {
        "id": "view-in-github",
        "colab_type": "text"
      },
      "source": [
        "<a href=\"https://colab.research.google.com/github/xoyeon/Dacon-Daily-Python-Camp_follow/blob/main/Lv3_%EC%A0%84%EC%B2%98%EB%A6%AC_4_4_%EC%9B%90_%ED%95%AB_%EC%9D%B8%EC%BD%94%EB%94%A9.ipynb\" target=\"_parent\"><img src=\"https://colab.research.google.com/assets/colab-badge.svg\" alt=\"Open In Colab\"/></a>"
      ]
    },
    {
      "cell_type": "markdown",
      "metadata": {
        "id": "vIpjpOEXsoW0"
      },
      "source": [
        "# [↩️ 리스트로 돌아가기](https://dacon.io/competitions/open/235698/overview/description)"
      ]
    },
    {
      "cell_type": "markdown",
      "metadata": {
        "id": "Y8EsppNShcez"
      },
      "source": [
        "# 셀을 실행할 때 팝업이 뜨면 `무시하고 계속하기` 를 눌러주세요\n"
      ]
    },
    {
      "cell_type": "markdown",
      "metadata": {
        "id": "Njt0HrWtCfg2"
      },
      "source": [
        "## 데이터 다운로드\n",
        "---\n",
        "아래 셀을 실행시켜 데이터를 colab 에 불러옵니다.\n",
        "셀 실행은 Ctrl + Enter 를 이용해 실행시킬 수 있습니다."
      ]
    },
    {
      "cell_type": "code",
      "metadata": {
        "id": "AEAqDnUPCtNT",
        "outputId": "74a6c318-9dd8-4b1d-c421-6596e0048861",
        "colab": {
          "base_uri": "https://localhost:8080/"
        }
      },
      "source": [
        "# 데이터 다운로드 링크로 데이터를 코랩에 불러옵니다.\n",
        "\n",
        "!wget 'https://bit.ly/3i4n1QB'\n",
        "\n",
        "import zipfile\n",
        "with zipfile.ZipFile('3i4n1QB', 'r') as existing_zip:\n",
        "    existing_zip.extractall('data')"
      ],
      "execution_count": 1,
      "outputs": [
        {
          "output_type": "stream",
          "text": [
            "--2021-08-23 04:15:59--  https://bit.ly/3i4n1QB\n",
            "Resolving bit.ly (bit.ly)... 67.199.248.10, 67.199.248.11\n",
            "Connecting to bit.ly (bit.ly)|67.199.248.10|:443... connected.\n",
            "HTTP request sent, awaiting response... 301 Moved Permanently\n",
            "Location: https://drive.google.com/uc?export=download&id=1emLrrpFWT8dCoj5BJb12-5QMG2-nruUw [following]\n",
            "--2021-08-23 04:15:59--  https://drive.google.com/uc?export=download&id=1emLrrpFWT8dCoj5BJb12-5QMG2-nruUw\n",
            "Resolving drive.google.com (drive.google.com)... 173.194.214.102, 173.194.214.113, 173.194.214.100, ...\n",
            "Connecting to drive.google.com (drive.google.com)|173.194.214.102|:443... connected.\n",
            "HTTP request sent, awaiting response... 302 Moved Temporarily\n",
            "Location: https://doc-10-10-docs.googleusercontent.com/docs/securesc/ha0ro937gcuc7l7deffksulhg5h7mbp1/n9o4tu58ivg001g09jfrc5a6k85euloe/1629692100000/17946651057176172524/*/1emLrrpFWT8dCoj5BJb12-5QMG2-nruUw?e=download [following]\n",
            "Warning: wildcards not supported in HTTP.\n",
            "--2021-08-23 04:16:00--  https://doc-10-10-docs.googleusercontent.com/docs/securesc/ha0ro937gcuc7l7deffksulhg5h7mbp1/n9o4tu58ivg001g09jfrc5a6k85euloe/1629692100000/17946651057176172524/*/1emLrrpFWT8dCoj5BJb12-5QMG2-nruUw?e=download\n",
            "Resolving doc-10-10-docs.googleusercontent.com (doc-10-10-docs.googleusercontent.com)... 74.125.31.132, 2607:f8b0:400c:c02::84\n",
            "Connecting to doc-10-10-docs.googleusercontent.com (doc-10-10-docs.googleusercontent.com)|74.125.31.132|:443... connected.\n",
            "HTTP request sent, awaiting response... 200 OK\n",
            "Length: 137694 (134K) [application/zip]\n",
            "Saving to: ‘3i4n1QB’\n",
            "\n",
            "3i4n1QB             100%[===================>] 134.47K  --.-KB/s    in 0.001s  \n",
            "\n",
            "2021-08-23 04:16:00 (115 MB/s) - ‘3i4n1QB’ saved [137694/137694]\n",
            "\n"
          ],
          "name": "stdout"
        }
      ]
    },
    {
      "cell_type": "code",
      "metadata": {
        "id": "GqVbFVMCGJzT"
      },
      "source": [
        "# 라이브러리 불러오기\n",
        "\n",
        "import pandas as pd\n",
        "import seaborn as sns\n",
        "from sklearn.preprocessing import OneHotEncoder"
      ],
      "execution_count": 2,
      "outputs": []
    },
    {
      "cell_type": "code",
      "metadata": {
        "id": "Cc10QSz6eyPa"
      },
      "source": [
        "# read_csv() 매서드로 train.csv 파일을 df class 로 불러오세요.\n",
        "train = pd.read_csv('data/train.csv')"
      ],
      "execution_count": 3,
      "outputs": []
    },
    {
      "cell_type": "markdown",
      "metadata": {
        "id": "ZksEbPou52yW"
      },
      "source": [
        "## 👋 실습\n",
        "---"
      ]
    },
    {
      "cell_type": "code",
      "metadata": {
        "id": "bjhYGb2y4nN_"
      },
      "source": [
        "# \"OneHotEncoder\"를 \"encoder\"라는 변수에 저장해보세요\n",
        "encoder = OneHotEncoder()"
      ],
      "execution_count": 4,
      "outputs": []
    },
    {
      "cell_type": "code",
      "metadata": {
        "id": "QUDr2Jlg7OEa",
        "outputId": "e02a1182-5c27-444b-e888-4d536e59aed5",
        "colab": {
          "base_uri": "https://localhost:8080/"
        }
      },
      "source": [
        "# \"encoder\"를 사용해 train의 \"type\" 피쳐를 학습시켜보세요\n",
        "encoder.fit(train[['type']])"
      ],
      "execution_count": 5,
      "outputs": [
        {
          "output_type": "execute_result",
          "data": {
            "text/plain": [
              "OneHotEncoder(categories='auto', drop=None, dtype=<class 'numpy.float64'>,\n",
              "              handle_unknown='error', sparse=True)"
            ]
          },
          "metadata": {},
          "execution_count": 5
        }
      ]
    },
    {
      "cell_type": "code",
      "metadata": {
        "id": "gPpwqWi97Olh"
      },
      "source": [
        "# \"encoder\"를 사용해 train의 \"type\"피쳐를 변환해 \"onehot\"이라는 변수에 저장해보세요\n",
        "onehot = encoder.transform(train[['type']])"
      ],
      "execution_count": 6,
      "outputs": []
    },
    {
      "cell_type": "code",
      "metadata": {
        "id": "avuqw-jg7O_0"
      },
      "source": [
        "# \"onehot\"이라는 변수를 array 형태로 변환해 보세요\n",
        "onehot = onehot.toarray()"
      ],
      "execution_count": 7,
      "outputs": []
    },
    {
      "cell_type": "code",
      "metadata": {
        "id": "otK173Cx7X2b"
      },
      "source": [
        "# \"onehot\"이라는 변수를 DataFrame 형태로 변환해 보세요\n",
        "onehot = pd.DataFrame(onehot)"
      ],
      "execution_count": 8,
      "outputs": []
    },
    {
      "cell_type": "code",
      "metadata": {
        "id": "9R6I05RI7SSh"
      },
      "source": [
        "# encoder의 \"get_feature_names()\"를 사용해 column 이름을 바꿔보세요\n",
        "onehot.columns = encoder.get_feature_names()"
      ],
      "execution_count": 9,
      "outputs": []
    },
    {
      "cell_type": "code",
      "metadata": {
        "id": "vQgMMcbH7VMg"
      },
      "source": [
        "# onehot을 원본데이터인 train에 병합시켜보세요\n",
        "onehot = pd.concat([train, onehot], axis = 1)"
      ],
      "execution_count": 10,
      "outputs": []
    },
    {
      "cell_type": "code",
      "metadata": {
        "id": "eN8F97iG7mBQ"
      },
      "source": [
        "# train의 \"type\" 변수를 제거해주세요\n",
        "train = train.drop(columns = ['type'])"
      ],
      "execution_count": 11,
      "outputs": []
    },
    {
      "cell_type": "markdown",
      "metadata": {
        "id": "J1Is2vFL4cxY"
      },
      "source": [
        "## 정답\n",
        "---"
      ]
    },
    {
      "cell_type": "code",
      "metadata": {
        "id": "lUbp3UMp5Gkj"
      },
      "source": [
        "# \"OneHotEncoder\"를 \"encoder\"라는 변수에 저장해보세요\n",
        "\n",
        "encoder = OneHotEncoder()"
      ],
      "execution_count": null,
      "outputs": []
    },
    {
      "cell_type": "code",
      "metadata": {
        "id": "372-JeK65O_w"
      },
      "source": [
        "# \"encoder\"를 사용해 train의 \"type\" 피쳐를 학습시켜보세요\n",
        "\n",
        "encoder.fit(train[['type']])"
      ],
      "execution_count": null,
      "outputs": []
    },
    {
      "cell_type": "code",
      "metadata": {
        "id": "zqMBRSzH5-eC"
      },
      "source": [
        "# \"encoder\"를 사용해 train의 \"type\"피쳐를 변환해 \"onehot\"이라는 변수에 저장해보세요\n",
        "onehot = encoder.transform(train[['type']])\n",
        "onehot"
      ],
      "execution_count": null,
      "outputs": []
    },
    {
      "cell_type": "code",
      "metadata": {
        "id": "Dh6adfM-6Fib"
      },
      "source": [
        "# \"onehot\"이라는 변수를 array 형태로 변환해 보세요\n",
        "\n",
        "onehot = onehot.toarray()\n",
        "onehot"
      ],
      "execution_count": null,
      "outputs": []
    },
    {
      "cell_type": "code",
      "metadata": {
        "id": "iZ2rOR-d6Nop"
      },
      "source": [
        "# \"onehot\"이라는 변수를 DataFrame 형태로 변환해 보세요\n",
        "\n",
        "onehot = pd.DataFrame(onehot)\n",
        "onehot.head()"
      ],
      "execution_count": null,
      "outputs": []
    },
    {
      "cell_type": "code",
      "metadata": {
        "id": "3nVMW_5L6QXe"
      },
      "source": [
        "# encoder의 \"get_feature_names()\"를 사용해 column 이름을 바꿔보세요\n",
        "onehot.columns = encoder.get_feature_names()\n",
        "onehot.head()"
      ],
      "execution_count": null,
      "outputs": []
    },
    {
      "cell_type": "code",
      "metadata": {
        "id": "aJikE1wG6fSt"
      },
      "source": [
        "# onehot을 원본데이터인 train에 병합시켜보세요\n",
        "\n",
        "onehot = pd.concat([train, onehot], axis = 1)\n",
        "onehot.head()"
      ],
      "execution_count": null,
      "outputs": []
    },
    {
      "cell_type": "code",
      "metadata": {
        "id": "cgSknlNZ6pck"
      },
      "source": [
        "# train의 \"type\" 변수를 제거해주세요\n",
        "train = train.drop(columns = ['type'])\n",
        "train.head()"
      ],
      "execution_count": null,
      "outputs": []
    },
    {
      "cell_type": "code",
      "metadata": {
        "id": "_QuWOqoG6uWL"
      },
      "source": [
        "### 코드를 더 단순화 시켜볼게요!\n",
        "train = pd.read_csv('data/train.csv')\n",
        "encoder = OneHotEncoder()\n",
        "onehot = pd.DataFrame(encoder.fit_transform(train[['type']]).toarray(), columns = encoder.get_feature_names())\n",
        "train = pd.concat([train,onehot], axis = 1).drop(columns = ['type'])\n",
        "train.head()"
      ],
      "execution_count": null,
      "outputs": []
    },
    {
      "cell_type": "markdown",
      "metadata": {
        "id": "K8YgC54VtiB7"
      },
      "source": [
        "# [↩️ 리스트로 돌아가기](https://dacon.io/competitions/open/235698/overview/description)"
      ]
    }
  ]
}