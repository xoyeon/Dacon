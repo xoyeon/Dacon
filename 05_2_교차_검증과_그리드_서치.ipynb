{
  "nbformat": 4,
  "nbformat_minor": 0,
  "metadata": {
    "colab": {
      "name": "05-2 | 교차 검증과 그리드 서치.ipynb",
      "provenance": [],
      "collapsed_sections": [],
      "authorship_tag": "ABX9TyP+10vtjqXpq6HBHiZKwgtS",
      "include_colab_link": true
    },
    "kernelspec": {
      "name": "python3",
      "display_name": "Python 3"
    },
    "language_info": {
      "name": "python"
    }
  },
  "cells": [
    {
      "cell_type": "markdown",
      "metadata": {
        "id": "view-in-github",
        "colab_type": "text"
      },
      "source": [
        "<a href=\"https://colab.research.google.com/github/xoyeon/Dacon-Daily-Python-Camp/blob/main/05_2_%EA%B5%90%EC%B0%A8_%EA%B2%80%EC%A6%9D%EA%B3%BC_%EA%B7%B8%EB%A6%AC%EB%93%9C_%EC%84%9C%EC%B9%98.ipynb\" target=\"_parent\"><img src=\"https://colab.research.google.com/assets/colab-badge.svg\" alt=\"Open In Colab\"/></a>"
      ]
    },
    {
      "cell_type": "markdown",
      "metadata": {
        "id": "CqBr0kEuxVvX"
      },
      "source": [
        "# 검증 세트\n",
        "테스트 세트로 일반화 성능을 올바르게 예측하려면 가능한 한 테스트 세트를 사용하지 말아야 한다\n",
        "> 모델을 만들고 나서 마지막에 딱 한 번만 사용할 것\n",
        "\n",
        "훈련 세트를 나누어 모델 검증하기\n",
        "> 이 데이터를 검증 세트(validation set)이라고 부름"
      ]
    },
    {
      "cell_type": "code",
      "metadata": {
        "id": "PJnVCXKQorax"
      },
      "source": [
        "# 데이터 불러오기\n",
        "import pandas as pd\n",
        "wine = pd.read_csv('https://bit.ly/wine_csv_data')"
      ],
      "execution_count": 1,
      "outputs": []
    },
    {
      "cell_type": "code",
      "metadata": {
        "id": "McEmhQddfjKj"
      },
      "source": [
        "# class 열을 타깃으로 사용, 나머지는 특성 배열에 저장\n",
        "data = wine[['alcohol','sugar','pH']].to_numpy()\n",
        "target = wine['class'].to_numpy()"
      ],
      "execution_count": 2,
      "outputs": []
    },
    {
      "cell_type": "code",
      "metadata": {
        "id": "W_MEegTzf0xd"
      },
      "source": [
        "# 훈련 세트와 데이터 세트 나누기\n",
        "from sklearn.model_selection import train_test_split\n",
        "train_input, test_input, train_target, test_target = train_test_split(data, target, test_size=0.2, random_state=42)"
      ],
      "execution_count": 3,
      "outputs": []
    },
    {
      "cell_type": "code",
      "metadata": {
        "id": "2XmwzXBYgJop"
      },
      "source": [
        "# 훈련 세트(sub)와 검증 세트(val) 만들기\n",
        "sub_input, val_input, sub_target, val_target = train_test_split(train_input, train_target, test_size=0.2, random_state=42)"
      ],
      "execution_count": 4,
      "outputs": []
    },
    {
      "cell_type": "code",
      "metadata": {
        "colab": {
          "base_uri": "https://localhost:8080/"
        },
        "id": "ywLDnz4fgiE2",
        "outputId": "8d145ad6-082a-4c9c-b570-004057714d8b"
      },
      "source": [
        "# 훈련 세트와 검증 세트의 크기 확인\n",
        "print(sub_input.shape, val_input.shape)"
      ],
      "execution_count": 5,
      "outputs": [
        {
          "output_type": "stream",
          "name": "stdout",
          "text": [
            "(4157, 3) (1040, 3)\n"
          ]
        }
      ]
    },
    {
      "cell_type": "code",
      "metadata": {
        "colab": {
          "base_uri": "https://localhost:8080/"
        },
        "id": "j8WClU4jgpyn",
        "outputId": "2036de29-ce45-442c-c8f9-020cfdf0ba99"
      },
      "source": [
        "# sub_input, sub_target과 val_input, val_target을 사용해 모델 만들고 평가\n",
        "from sklearn.tree import DecisionTreeClassifier\n",
        "dt = DecisionTreeClassifier(random_state=42)\n",
        "dt.fit(sub_input, sub_target)\n",
        "print(dt.score(sub_input, sub_target))\n",
        "print(dt.score(val_input, val_target))"
      ],
      "execution_count": 6,
      "outputs": [
        {
          "output_type": "stream",
          "name": "stdout",
          "text": [
            "0.9971133028626413\n",
            "0.864423076923077\n"
          ]
        }
      ]
    },
    {
      "cell_type": "markdown",
      "metadata": {
        "id": "-GX1UsPD6djh"
      },
      "source": [
        "# 교차 검증\n",
        "교차 검증(cross validation)을 이용하면 안정적인 검증 점수를 얻고 훈련에 더 많은 데이터를 사용할 수 있음\n",
        "- 검증 세트를 떼어 내어 평가하는 과정을 여러 번 반복\n",
        "- 이 점수를 평균하여 최종 검증 점수를 얻음"
      ]
    },
    {
      "cell_type": "code",
      "metadata": {
        "colab": {
          "base_uri": "https://localhost:8080/"
        },
        "id": "JbeX0Zko6Wxe",
        "outputId": "6ade727e-d9dd-4445-f8d6-8ada9562c987"
      },
      "source": [
        "# cross_validate()를 사용하여 교차검증\n",
        "from sklearn.model_selection import cross_validate\n",
        "scores = cross_validate(dt, train_input, train_target)\n",
        "print(scores)"
      ],
      "execution_count": 7,
      "outputs": [
        {
          "output_type": "stream",
          "name": "stdout",
          "text": [
            "{'fit_time': array([0.00744867, 0.00707889, 0.00732636, 0.00724077, 0.00723457]), 'score_time': array([0.00075698, 0.00064969, 0.00068688, 0.00130177, 0.00066066]), 'test_score': array([0.86923077, 0.84615385, 0.87680462, 0.84889317, 0.83541867])}\n"
          ]
        }
      ]
    },
    {
      "cell_type": "code",
      "metadata": {
        "colab": {
          "base_uri": "https://localhost:8080/"
        },
        "id": "hQ0Zgxva7sTZ",
        "outputId": "1e505f88-81ff-4994-994d-4c66b3ed0191"
      },
      "source": [
        "# 교차 검증의 최종 점수\n",
        "import numpy as np\n",
        "print(np.mean(scores['test_score']))"
      ],
      "execution_count": 8,
      "outputs": [
        {
          "output_type": "stream",
          "name": "stdout",
          "text": [
            "0.855300214703487\n"
          ]
        }
      ]
    },
    {
      "cell_type": "code",
      "metadata": {
        "colab": {
          "base_uri": "https://localhost:8080/"
        },
        "id": "5d7MVHBu8pxH",
        "outputId": "6a0c89bb-31d7-4fd8-cfdc-2ad40689a11d"
      },
      "source": [
        "# 분류 모델일 경우 타깃 클래스를 골고루 나누기 위해 StratifiedKFold 사용\n",
        "from sklearn.model_selection import StratifiedKFold\n",
        "scores = cross_validate(dt, train_input, train_target, cv=StratifiedKFold())\n",
        "print(np.mean(scores['test_score']))"
      ],
      "execution_count": 9,
      "outputs": [
        {
          "output_type": "stream",
          "name": "stdout",
          "text": [
            "0.855300214703487\n"
          ]
        }
      ]
    },
    {
      "cell_type": "code",
      "metadata": {
        "colab": {
          "base_uri": "https://localhost:8080/"
        },
        "id": "iQkPTtHB-Kvp",
        "outputId": "948dce63-d26b-484f-905f-238538957ba5"
      },
      "source": [
        "# 교차 검증을 할 때 훈련 세트를 섞으려면 splitter 지정. 회귀 모델일 경우 KFold 분할기 사용\n",
        "splitter = StratifiedKFold(n_splits=10, shuffle=True, random_state=42)  ## 10-폴드 교차 검증 수행\n",
        "scores = cross_validate(dt, train_input, train_target, cv = splitter)\n",
        "print(np.mean(scores['test_score']))"
      ],
      "execution_count": 10,
      "outputs": [
        {
          "output_type": "stream",
          "name": "stdout",
          "text": [
            "0.8574181117533719\n"
          ]
        }
      ]
    },
    {
      "cell_type": "markdown",
      "metadata": {
        "id": "WPqnCxgD-vp5"
      },
      "source": [
        "# 하이퍼파라미터 튜닝\n",
        "사이킷런의 GridSearchCV 클래스는 하이퍼파라미터 탐색과 교차 검증을 한 번에 수행"
      ]
    },
    {
      "cell_type": "code",
      "metadata": {
        "id": "EFV6_5Gv-sEE"
      },
      "source": [
        "# GridSearchCV 클래스를 임포트하고, 탐색할 매개변수와 리스트를 딕셔너리로 만듦\n",
        "from sklearn.model_selection import GridSearchCV\n",
        "params = {'min_impurity_decrease' : [0.0001, 0.0002, 0.0003, 0.0004, 0.0005]}"
      ],
      "execution_count": 11,
      "outputs": []
    },
    {
      "cell_type": "code",
      "metadata": {
        "id": "ZZ8oL0HU_Wfm"
      },
      "source": [
        "# GridSearchCV 클래스에 탐색 대상 모델과 params 변수를 전달하여 그리드 서치 객체 만들기\n",
        "gs = GridSearchCV(DecisionTreeClassifier(random_state=42),params, n_jobs=-1)"
      ],
      "execution_count": 12,
      "outputs": []
    },
    {
      "cell_type": "code",
      "metadata": {
        "colab": {
          "base_uri": "https://localhost:8080/"
        },
        "id": "cUgYLG4M_oay",
        "outputId": "d4aa4593-06af-406e-d401-79e5b40f215d"
      },
      "source": [
        "# gs 객체에 fit() 메서드 호출\n",
        "gs.fit(train_input, train_target)"
      ],
      "execution_count": 13,
      "outputs": [
        {
          "output_type": "execute_result",
          "data": {
            "text/plain": [
              "GridSearchCV(cv=None, error_score=nan,\n",
              "             estimator=DecisionTreeClassifier(ccp_alpha=0.0, class_weight=None,\n",
              "                                              criterion='gini', max_depth=None,\n",
              "                                              max_features=None,\n",
              "                                              max_leaf_nodes=None,\n",
              "                                              min_impurity_decrease=0.0,\n",
              "                                              min_impurity_split=None,\n",
              "                                              min_samples_leaf=1,\n",
              "                                              min_samples_split=2,\n",
              "                                              min_weight_fraction_leaf=0.0,\n",
              "                                              presort='deprecated',\n",
              "                                              random_state=42,\n",
              "                                              splitter='best'),\n",
              "             iid='deprecated', n_jobs=-1,\n",
              "             param_grid={'min_impurity_decrease': [0.0001, 0.0002, 0.0003,\n",
              "                                                   0.0004, 0.0005]},\n",
              "             pre_dispatch='2*n_jobs', refit=True, return_train_score=False,\n",
              "             scoring=None, verbose=0)"
            ]
          },
          "metadata": {},
          "execution_count": 13
        }
      ]
    },
    {
      "cell_type": "code",
      "metadata": {
        "colab": {
          "base_uri": "https://localhost:8080/"
        },
        "id": "IcRYk9uI_8B3",
        "outputId": "5dda9f44-fdfa-4d44-c694-7af80d71ca7b"
      },
      "source": [
        "# 검증 점수가 가장 높은 모델의 매개변수 조합으로 전체 훈련 세트에서 자동으로 다시 모델 훈련\n",
        "dt = gs.best_estimator_\n",
        "print(dt.score(train_input, train_target))"
      ],
      "execution_count": 14,
      "outputs": [
        {
          "output_type": "stream",
          "name": "stdout",
          "text": [
            "0.9615162593804117\n"
          ]
        }
      ]
    },
    {
      "cell_type": "code",
      "metadata": {
        "colab": {
          "base_uri": "https://localhost:8080/"
        },
        "id": "KKjfEniLAPSL",
        "outputId": "c0878204-e241-4258-ab1b-d596d0934b0e"
      },
      "source": [
        "# 그리드 서치로 찾은 최적의 매개변수 확인\n",
        "print(gs.best_params_)"
      ],
      "execution_count": 15,
      "outputs": [
        {
          "output_type": "stream",
          "name": "stdout",
          "text": [
            "{'min_impurity_decrease': 0.0001}\n"
          ]
        }
      ]
    },
    {
      "cell_type": "code",
      "metadata": {
        "colab": {
          "base_uri": "https://localhost:8080/"
        },
        "id": "GS7SXwX6AZAv",
        "outputId": "20b0002e-a32b-4a7a-927c-30e038d10e05"
      },
      "source": [
        "# 5번의 교차 검증으로 얻은 점수 출력\n",
        "print(gs.cv_results_['mean_test_score'])"
      ],
      "execution_count": 16,
      "outputs": [
        {
          "output_type": "stream",
          "name": "stdout",
          "text": [
            "[0.86819297 0.86453617 0.86492226 0.86780891 0.86761605]\n"
          ]
        }
      ]
    },
    {
      "cell_type": "code",
      "metadata": {
        "colab": {
          "base_uri": "https://localhost:8080/"
        },
        "id": "xIGjypU4AfYc",
        "outputId": "fce25591-5388-412d-9c14-4458d48d70d3"
      },
      "source": [
        "# argmax()를 사용하여 가장 큰 값의 인덱스를 추출한 후 params 키에 저장된 매개변수 출력\n",
        "best_index = np.argmax(gs.cv_results_['mean_test_score'])\n",
        "print(gs.cv_results_['params'][best_index])"
      ],
      "execution_count": 17,
      "outputs": [
        {
          "output_type": "stream",
          "name": "stdout",
          "text": [
            "{'min_impurity_decrease': 0.0001}\n"
          ]
        }
      ]
    },
    {
      "cell_type": "markdown",
      "metadata": {
        "id": "a-43hnfEJJLV"
      },
      "source": [
        "### 정리하기\n",
        "1. 먼저 탐색할 매개변수 지정\n",
        "2. 훈련 세트에서 그리드 서치 수행\n",
        "  - 최상의 평균 검증 점수가 나오는 매개변수 조합 찾기\n",
        "    - 이 조합은 그리드 서치 객체에 저장됨\n",
        "3. 그리드 서치는 최상의 매개변수에서 전체 훈련 세트를 사용해 최종 모델 훈련\n",
        "  - 교차 검증에 사용한 훈련 세트 아님\n",
        "    - 이 모델도 그리드 서치 객체에 저장됨"
      ]
    },
    {
      "cell_type": "code",
      "metadata": {
        "id": "OCNSDJPNJHd9"
      },
      "source": [
        "# 조금 더 복잡한 매개변수 조합 탐색하기\n",
        "params = {'min_impurity_decrease' : np.arange(0.0001, 0.001, 0.0001),  ## 첫 번째 매개변수 값에서 시작, 두 번째 매변수가 도달할 때까지 세 번째 매개변수를 계속 더한 배열을 만듦\n",
        "          'max_depth' : range(5, 20, 1),  ## max_depth를 5에서 20까지 1씩 증가하면서 15개의 값을 만듦\n",
        "          'min_samples_split' : range(2, 100, 10)\n",
        "          }"
      ],
      "execution_count": 23,
      "outputs": []
    },
    {
      "cell_type": "code",
      "metadata": {
        "colab": {
          "base_uri": "https://localhost:8080/"
        },
        "id": "btOsFr19Kv4h",
        "outputId": "22528969-a5b5-4a62-b6c8-166bc4577082"
      },
      "source": [
        "gs = GridSearchCV(DecisionTreeClassifier(random_state=42), params, n_jobs=-1)\n",
        "gs.fit(train_input, train_target)"
      ],
      "execution_count": 24,
      "outputs": [
        {
          "output_type": "execute_result",
          "data": {
            "text/plain": [
              "GridSearchCV(cv=None, error_score=nan,\n",
              "             estimator=DecisionTreeClassifier(ccp_alpha=0.0, class_weight=None,\n",
              "                                              criterion='gini', max_depth=None,\n",
              "                                              max_features=None,\n",
              "                                              max_leaf_nodes=None,\n",
              "                                              min_impurity_decrease=0.0,\n",
              "                                              min_impurity_split=None,\n",
              "                                              min_samples_leaf=1,\n",
              "                                              min_samples_split=2,\n",
              "                                              min_weight_fraction_leaf=0.0,\n",
              "                                              presort='deprecated',\n",
              "                                              random_state=42,\n",
              "                                              splitter='best'),\n",
              "             iid='deprecated', n_jobs=-1,\n",
              "             param_grid={'max_depth': range(5, 20),\n",
              "                         'min_impurity_decrease': array([0.0001, 0.0002, 0.0003, 0.0004, 0.0005, 0.0006, 0.0007, 0.0008,\n",
              "       0.0009]),\n",
              "                         'min_samples_split': range(2, 100, 10)},\n",
              "             pre_dispatch='2*n_jobs', refit=True, return_train_score=False,\n",
              "             scoring=None, verbose=0)"
            ]
          },
          "metadata": {},
          "execution_count": 24
        }
      ]
    },
    {
      "cell_type": "code",
      "metadata": {
        "colab": {
          "base_uri": "https://localhost:8080/"
        },
        "id": "foeJiYnYK5vp",
        "outputId": "e883151c-34a5-452d-b946-8a71f2abd627"
      },
      "source": [
        "# 최상의 매개변수 조합 확인\n",
        "print(gs.best_params_)"
      ],
      "execution_count": 25,
      "outputs": [
        {
          "output_type": "stream",
          "name": "stdout",
          "text": [
            "{'max_depth': 14, 'min_impurity_decrease': 0.0004, 'min_samples_split': 12}\n"
          ]
        }
      ]
    },
    {
      "cell_type": "code",
      "metadata": {
        "colab": {
          "base_uri": "https://localhost:8080/"
        },
        "id": "cEng5e3HLNz_",
        "outputId": "bf89153c-9f53-4a46-edbe-624b44b90dcc"
      },
      "source": [
        "# 최상의 교차 검증 점수 확인\n",
        "print(np.max(gs.cv_results_['mean_test_score']))"
      ],
      "execution_count": 26,
      "outputs": [
        {
          "output_type": "stream",
          "name": "stdout",
          "text": [
            "0.8683865773302731\n"
          ]
        }
      ]
    },
    {
      "cell_type": "markdown",
      "metadata": {
        "id": "I6iBZPicMEpH"
      },
      "source": [
        "# 랜덤 서치\n",
        "- 매개변수의 값이 수칠일 때 값의 범위나 가격을 미리 정하기 어려울 수 있음\n",
        "- 너무 많은 매개변수 조건이 있어 그리드 서치 수행 시간이 오래 걸릴 수 있음\n"
      ]
    },
    {
      "cell_type": "code",
      "metadata": {
        "id": "YW8DmYuZMBHl"
      },
      "source": [
        "# 싸이파이에서 2개의 확률 분포 클래스 임포트\n",
        "from scipy.stats import uniform, randint  ## randint 정숫값, uniform 실숫값"
      ],
      "execution_count": 27,
      "outputs": []
    },
    {
      "cell_type": "code",
      "metadata": {
        "colab": {
          "base_uri": "https://localhost:8080/"
        },
        "id": "pZMagi19Mgti",
        "outputId": "4b6ec8b4-4e3a-4a3c-eaf9-e2366c7159f8"
      },
      "source": [
        "# 0에서 10 사이의 범위를 갖는 randint 객체 만들고 10개의 숫자 샘플링\n",
        "rgen = randint(0, 10)\n",
        "rgen.rvs(10)"
      ],
      "execution_count": 28,
      "outputs": [
        {
          "output_type": "execute_result",
          "data": {
            "text/plain": [
              "array([6, 9, 0, 7, 3, 7, 9, 1, 8, 2])"
            ]
          },
          "metadata": {},
          "execution_count": 28
        }
      ]
    },
    {
      "cell_type": "code",
      "metadata": {
        "colab": {
          "base_uri": "https://localhost:8080/"
        },
        "id": "qiJwsTr0MwCd",
        "outputId": "f8eb8a49-f071-487a-f600-b18135afa58a"
      },
      "source": [
        "# 1000개를 샘플링해서 각 숫자의 개수를 세어 보기\n",
        "np.unique(rgen.rvs(1000), return_counts=True)"
      ],
      "execution_count": 29,
      "outputs": [
        {
          "output_type": "execute_result",
          "data": {
            "text/plain": [
              "(array([0, 1, 2, 3, 4, 5, 6, 7, 8, 9]),\n",
              " array([120,  87,  87,  91,  94, 101, 109, 110, 103,  98]))"
            ]
          },
          "metadata": {},
          "execution_count": 29
        }
      ]
    },
    {
      "cell_type": "code",
      "metadata": {
        "colab": {
          "base_uri": "https://localhost:8080/"
        },
        "id": "wAZZ9OHgNDsR",
        "outputId": "2d67e0ab-9eed-4518-c8c5-f9267cd8cbc5"
      },
      "source": [
        "# 0~1 사이에서 10개의 실수를 추출\n",
        "ugen = uniform(0, 1)\n",
        "ugen.rvs(10)"
      ],
      "execution_count": 30,
      "outputs": [
        {
          "output_type": "execute_result",
          "data": {
            "text/plain": [
              "array([0.76441734, 0.75238093, 0.52034686, 0.30387122, 0.12039769,\n",
              "       0.83697913, 0.74842809, 0.13468635, 0.69010707, 0.94769592])"
            ]
          },
          "metadata": {},
          "execution_count": 30
        }
      ]
    },
    {
      "cell_type": "code",
      "metadata": {
        "id": "iUgbW25ANOs-"
      },
      "source": [
        "# 탐색할 매개변수의 딕셔너리 만들기\n",
        "param = {'min_impurity_decrease' : uniform(0.0001, 0.001),\n",
        "         'max_depth' : randint(20, 50),\n",
        "         'min_samples_split' : randint(2, 25),\n",
        "         'min_samples_leaf' : randint(1, 25)\n",
        "         }"
      ],
      "execution_count": 31,
      "outputs": []
    },
    {
      "cell_type": "code",
      "metadata": {
        "colab": {
          "base_uri": "https://localhost:8080/"
        },
        "id": "CPsexJCjNuPr",
        "outputId": "7af6e13a-290f-45ac-da4a-4c2242ac51ad"
      },
      "source": [
        "from sklearn.model_selection import RandomizedSearchCV\n",
        "gs = RandomizedSearchCV(DecisionTreeClassifier(random_state=42), params,\n",
        "                        n_iter=100, n_jobs=-1, random_state=42)\n",
        "gs.fit(train_input, train_target)"
      ],
      "execution_count": 32,
      "outputs": [
        {
          "output_type": "execute_result",
          "data": {
            "text/plain": [
              "RandomizedSearchCV(cv=None, error_score=nan,\n",
              "                   estimator=DecisionTreeClassifier(ccp_alpha=0.0,\n",
              "                                                    class_weight=None,\n",
              "                                                    criterion='gini',\n",
              "                                                    max_depth=None,\n",
              "                                                    max_features=None,\n",
              "                                                    max_leaf_nodes=None,\n",
              "                                                    min_impurity_decrease=0.0,\n",
              "                                                    min_impurity_split=None,\n",
              "                                                    min_samples_leaf=1,\n",
              "                                                    min_samples_split=2,\n",
              "                                                    min_weight_fraction_leaf=0.0,\n",
              "                                                    presort='deprecated',\n",
              "                                                    random_state=42,\n",
              "                                                    splitter='best'),\n",
              "                   iid='deprecated', n_iter=100, n_jobs=-1,\n",
              "                   param_distributions={'max_depth': range(5, 20),\n",
              "                                        'min_impurity_decrease': array([0.0001, 0.0002, 0.0003, 0.0004, 0.0005, 0.0006, 0.0007, 0.0008,\n",
              "       0.0009]),\n",
              "                                        'min_samples_split': range(2, 100, 10)},\n",
              "                   pre_dispatch='2*n_jobs', random_state=42, refit=True,\n",
              "                   return_train_score=False, scoring=None, verbose=0)"
            ]
          },
          "metadata": {},
          "execution_count": 32
        }
      ]
    },
    {
      "cell_type": "code",
      "metadata": {
        "colab": {
          "base_uri": "https://localhost:8080/"
        },
        "id": "oNAOQpp4OGSf",
        "outputId": "42e9c292-13c4-40b0-ed1b-c72149b3aa79"
      },
      "source": [
        "print(gs.best_params_)"
      ],
      "execution_count": 33,
      "outputs": [
        {
          "output_type": "stream",
          "name": "stdout",
          "text": [
            "{'min_samples_split': 12, 'min_impurity_decrease': 0.0005, 'max_depth': 11}\n"
          ]
        }
      ]
    },
    {
      "cell_type": "code",
      "metadata": {
        "colab": {
          "base_uri": "https://localhost:8080/"
        },
        "id": "Qvx0lq2qOLdS",
        "outputId": "04889f25-c794-466d-9107-1f480589cd97"
      },
      "source": [
        "print(np.max(gs.cv_results_['mean_test_score']))"
      ],
      "execution_count": 34,
      "outputs": [
        {
          "output_type": "stream",
          "name": "stdout",
          "text": [
            "0.8681935292811135\n"
          ]
        }
      ]
    },
    {
      "cell_type": "code",
      "metadata": {
        "colab": {
          "base_uri": "https://localhost:8080/"
        },
        "id": "eYVtpvs1OSU3",
        "outputId": "a86687f0-dff2-4eb7-8613-f622dd580da6"
      },
      "source": [
        "dt = gs.best_estimator_\n",
        "print(dt.score(test_input, test_target))"
      ],
      "execution_count": 35,
      "outputs": [
        {
          "output_type": "stream",
          "name": "stdout",
          "text": [
            "0.8615384615384616\n"
          ]
        }
      ]
    }
  ]
}