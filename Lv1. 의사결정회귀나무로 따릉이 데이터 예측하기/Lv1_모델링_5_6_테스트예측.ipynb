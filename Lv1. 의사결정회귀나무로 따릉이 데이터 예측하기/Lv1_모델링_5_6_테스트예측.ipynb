{
  "nbformat": 4,
  "nbformat_minor": 0,
  "metadata": {
    "colab": {
      "name": "Lv1 모델링 5/6 테스트예측",
      "provenance": [],
      "collapsed_sections": [
        "AUk_fCmVhtIc"
      ],
      "include_colab_link": true
    },
    "kernelspec": {
      "name": "python3",
      "display_name": "Python 3"
    },
    "language_info": {
      "name": "python"
    }
  },
  "cells": [
    {
      "cell_type": "markdown",
      "metadata": {
        "id": "view-in-github",
        "colab_type": "text"
      },
      "source": [
        "<a href=\"https://colab.research.google.com/github/xoyeon/Dacon-Daily-Python-Camp_follow/blob/main/Lv1_%EB%AA%A8%EB%8D%B8%EB%A7%81_5_6_%ED%85%8C%EC%8A%A4%ED%8A%B8%EC%98%88%EC%B8%A1.ipynb\" target=\"_parent\"><img src=\"https://colab.research.google.com/assets/colab-badge.svg\" alt=\"Open In Colab\"/></a>"
      ]
    },
    {
      "cell_type": "markdown",
      "metadata": {
        "id": "vIpjpOEXsoW0"
      },
      "source": [
        "# [↩️ 리스트로 돌아가기](https://dacon.io/competitions/open/235698/overview/description)"
      ]
    },
    {
      "cell_type": "markdown",
      "metadata": {
        "id": "-Xk4YBNFhkPe"
      },
      "source": [
        "# 셀을 실행할 때 팝업이 뜨면 `무시하고 계속하기` 를 눌러주세요\n"
      ]
    },
    {
      "cell_type": "markdown",
      "metadata": {
        "id": "7A1_NrpnNgI0"
      },
      "source": [
        "## 데이터 다운로드\n",
        "--- \n",
        "아래 셀을 실행시켜 데이터를 colab에 불러옵니다.  \n",
        "셀 실행은 Ctrl + Enter 를 이용해 실행 시킬 수 있습니다. "
      ]
    },
    {
      "cell_type": "code",
      "metadata": {
        "id": "a3VxvpLvhnap",
        "outputId": "f2df8f0d-22b7-4051-c449-f552681e01f3",
        "colab": {
          "base_uri": "https://localhost:8080/"
        }
      },
      "source": [
        "# 데이터 다운로드 링크로 데이터를 코랩에 불러옵니다.\n",
        "\n",
        "!wget 'https://bit.ly/3gLj0Q6'\n",
        "\n",
        "import zipfile\n",
        "with zipfile.ZipFile('3gLj0Q6', 'r') as existing_zip:\n",
        "    existing_zip.extractall('data')"
      ],
      "execution_count": 1,
      "outputs": [
        {
          "output_type": "stream",
          "text": [
            "--2021-08-19 01:55:03--  https://bit.ly/3gLj0Q6\n",
            "Resolving bit.ly (bit.ly)... 67.199.248.11, 67.199.248.10\n",
            "Connecting to bit.ly (bit.ly)|67.199.248.11|:443... connected.\n",
            "HTTP request sent, awaiting response... 301 Moved Permanently\n",
            "Location: https://drive.google.com/uc?export=download&id=1or_QN1ksv81DNog6Tu_kWcZ5jJWf5W9E [following]\n",
            "--2021-08-19 01:55:03--  https://drive.google.com/uc?export=download&id=1or_QN1ksv81DNog6Tu_kWcZ5jJWf5W9E\n",
            "Resolving drive.google.com (drive.google.com)... 74.125.197.102, 74.125.197.138, 74.125.197.113, ...\n",
            "Connecting to drive.google.com (drive.google.com)|74.125.197.102|:443... connected.\n",
            "HTTP request sent, awaiting response... 302 Moved Temporarily\n",
            "Location: https://doc-0c-10-docs.googleusercontent.com/docs/securesc/ha0ro937gcuc7l7deffksulhg5h7mbp1/24aor6a8oendfce1uu5fn8uujh8q2v2f/1629338100000/17946651057176172524/*/1or_QN1ksv81DNog6Tu_kWcZ5jJWf5W9E?e=download [following]\n",
            "Warning: wildcards not supported in HTTP.\n",
            "--2021-08-19 01:55:03--  https://doc-0c-10-docs.googleusercontent.com/docs/securesc/ha0ro937gcuc7l7deffksulhg5h7mbp1/24aor6a8oendfce1uu5fn8uujh8q2v2f/1629338100000/17946651057176172524/*/1or_QN1ksv81DNog6Tu_kWcZ5jJWf5W9E?e=download\n",
            "Resolving doc-0c-10-docs.googleusercontent.com (doc-0c-10-docs.googleusercontent.com)... 74.125.195.132, 2607:f8b0:400e:c09::84\n",
            "Connecting to doc-0c-10-docs.googleusercontent.com (doc-0c-10-docs.googleusercontent.com)|74.125.195.132|:443... connected.\n",
            "HTTP request sent, awaiting response... 200 OK\n",
            "Length: 39208 (38K) [application/zip]\n",
            "Saving to: ‘3gLj0Q6’\n",
            "\n",
            "3gLj0Q6             100%[===================>]  38.29K  --.-KB/s    in 0s      \n",
            "\n",
            "2021-08-19 01:55:03 (83.5 MB/s) - ‘3gLj0Q6’ saved [39208/39208]\n",
            "\n"
          ],
          "name": "stdout"
        }
      ]
    },
    {
      "cell_type": "markdown",
      "metadata": {
        "id": "gx8XCXCxeQk8"
      },
      "source": [
        "## 라이브러리 불러오기\n",
        "---\n",
        "아래 셀을 실행시켜 pandas 와 DecisionTreeClassifier 를 불러옵니다."
      ]
    },
    {
      "cell_type": "code",
      "metadata": {
        "id": "kt_IKrkPeNwQ"
      },
      "source": [
        "import pandas as pd\n",
        "from sklearn.tree import DecisionTreeRegressor"
      ],
      "execution_count": 2,
      "outputs": []
    },
    {
      "cell_type": "markdown",
      "metadata": {
        "id": "VxC2pa2-rgat"
      },
      "source": [
        "## 데이터 불러오기\n",
        "---\n",
        "아래 셀을 실행시켜 csv 파일 데이터를 DataFrame 객체로 불러옵니다."
      ]
    },
    {
      "cell_type": "code",
      "metadata": {
        "id": "V6wTaK4sfnms"
      },
      "source": [
        "train = pd.read_csv('data/train.csv') \n",
        "test = pd.read_csv('data/test.csv')"
      ],
      "execution_count": 3,
      "outputs": []
    },
    {
      "cell_type": "markdown",
      "metadata": {
        "id": "w_PwM9kF7Pbi"
      },
      "source": [
        "## 결측치 전처리\n",
        "---\n",
        "train 의 결측치는 제거하고, test 의 결측치는 모두 0으로 대체합니다."
      ]
    },
    {
      "cell_type": "code",
      "metadata": {
        "id": "ryKlHfLWqgjY",
        "outputId": "6797037e-e1b6-4b6b-bd64-5e4a2b50a87f",
        "colab": {
          "base_uri": "https://localhost:8080/"
        }
      },
      "source": [
        "train = train.dropna()\n",
        "test = test.fillna(0)\n",
        "\n",
        "print(train.isnull().sum())\n",
        "print(test.isnull().sum())"
      ],
      "execution_count": 4,
      "outputs": [
        {
          "output_type": "stream",
          "text": [
            "id                        0\n",
            "hour                      0\n",
            "hour_bef_temperature      0\n",
            "hour_bef_precipitation    0\n",
            "hour_bef_windspeed        0\n",
            "hour_bef_humidity         0\n",
            "hour_bef_visibility       0\n",
            "hour_bef_ozone            0\n",
            "hour_bef_pm10             0\n",
            "hour_bef_pm2.5            0\n",
            "count                     0\n",
            "dtype: int64\n",
            "id                        0\n",
            "hour                      0\n",
            "hour_bef_temperature      0\n",
            "hour_bef_precipitation    0\n",
            "hour_bef_windspeed        0\n",
            "hour_bef_humidity         0\n",
            "hour_bef_visibility       0\n",
            "hour_bef_ozone            0\n",
            "hour_bef_pm10             0\n",
            "hour_bef_pm2.5            0\n",
            "dtype: int64\n"
          ],
          "name": "stdout"
        }
      ]
    },
    {
      "cell_type": "markdown",
      "metadata": {
        "id": "eHoQZSg2R3NC"
      },
      "source": [
        "## 모델 훈련\n",
        "---\n"
      ]
    },
    {
      "cell_type": "code",
      "metadata": {
        "id": "6EcxVzdNfwLR"
      },
      "source": [
        "X_train = train.drop(['count'], axis=1)\n",
        "Y_train = train['count']"
      ],
      "execution_count": 5,
      "outputs": []
    },
    {
      "cell_type": "code",
      "metadata": {
        "id": "CNOaDnbYfloy",
        "outputId": "4b06a06a-fe23-485d-d769-1d4de20feeb9",
        "colab": {
          "base_uri": "https://localhost:8080/"
        }
      },
      "source": [
        "model = DecisionTreeRegressor()\n",
        "model.fit(X_train, Y_train)"
      ],
      "execution_count": 6,
      "outputs": [
        {
          "output_type": "execute_result",
          "data": {
            "text/plain": [
              "DecisionTreeRegressor(ccp_alpha=0.0, criterion='mse', max_depth=None,\n",
              "                      max_features=None, max_leaf_nodes=None,\n",
              "                      min_impurity_decrease=0.0, min_impurity_split=None,\n",
              "                      min_samples_leaf=1, min_samples_split=2,\n",
              "                      min_weight_fraction_leaf=0.0, presort='deprecated',\n",
              "                      random_state=None, splitter='best')"
            ]
          },
          "metadata": {},
          "execution_count": 6
        }
      ]
    },
    {
      "cell_type": "markdown",
      "metadata": {
        "id": "QZAoZTYKIKDJ"
      },
      "source": [
        "👉 훈련된 모델에서 predict() 매서드에 예측하고자 하는 data 를 인자로 넣어주게 되면 해당 결과 array 를 할당할 수 있습니다."
      ]
    },
    {
      "cell_type": "markdown",
      "metadata": {
        "id": "Q453R09NhqYM"
      },
      "source": [
        "## 👋 실습\n",
        "---\n",
        "predict() 를 이용해 test data 를 훈련된 모델로 예측한 data 를 생성하고 예측결과 상위 5개를 출력하는 코드를 작성하세요.\n"
      ]
    },
    {
      "cell_type": "code",
      "metadata": {
        "id": "SFBHavgcda_y"
      },
      "source": [
        "[할당할 array] = model.predict(test)"
      ],
      "execution_count": null,
      "outputs": []
    },
    {
      "cell_type": "code",
      "metadata": {
        "id": "yq346xsoH-Yb",
        "outputId": "a3f913c9-e578-4ac1-ed2c-5eee553ded75",
        "colab": {
          "base_uri": "https://localhost:8080/"
        }
      },
      "source": [
        "pred = model.predict(test)"
      ],
      "execution_count": 7,
      "outputs": [
        {
          "output_type": "execute_result",
          "data": {
            "text/plain": [
              "array([117., 164., 121.,  49.,  64., 129.,   5., 300.,  15., 165., 252.,\n",
              "       214., 114.,  20., 193., 229.,  26., 199., 431., 133., 300., 106.,\n",
              "        18., 138., 155., 119.,  30., 127., 115., 229.,  30.,  30., 137.,\n",
              "        92., 278.,  49., 229.,   5., 324.,   6., 137., 121.,  56.,  23.,\n",
              "       331., 219.,   6., 137.,  23.,  69., 300.,  69., 222.,  93., 284.,\n",
              "        51.,  20., 284.,   2.,  19., 106.,  19., 305., 252., 137., 310.,\n",
              "        15., 173.,   5.,  20.,  95.,  50.,  56.,  18., 317., 284.,  37.,\n",
              "       127., 317.,  13., 252., 229., 103.,  89.,  86., 402., 137., 184.,\n",
              "       137., 252., 310., 133., 137.,  92.,  50.,  80.,  96.,  28., 241.,\n",
              "       137.,  19., 127., 137., 137.,  12.,  93., 109.,  15., 180., 140.,\n",
              "       187., 317., 153., 119., 137., 108., 252.,  50., 152.,  19.,  95.,\n",
              "       124., 199., 339.,  52., 129., 137.,  23., 123., 137., 121., 123.,\n",
              "        23., 229., 271., 115.,  45., 181., 310., 425., 241.,  34.,  49.,\n",
              "       137.,  76., 129.,  75., 129., 167., 237., 181., 317., 431., 126.,\n",
              "         5.,   3., 129.,   3.,  80., 181., 133.,  17., 249., 172., 141.,\n",
              "        15., 305., 133., 252.,  16., 124., 108.,  94., 104.,  92.,  89.,\n",
              "       252., 199., 291.,  92., 221.,  56., 167., 263., 115., 137., 137.,\n",
              "       317., 133.,  45.,  40., 126., 137., 113., 181., 317., 431., 133.,\n",
              "       113., 119.,  18., 305.,  18., 425., 138.,  49., 138., 252., 191.,\n",
              "       137., 310., 222., 130., 315., 199.,  92., 278., 124., 184., 107.,\n",
              "       106.,  15.,  92., 137., 137.,  40., 190., 250.,  49., 191., 252.,\n",
              "       143.,  18.,  26., 158.,  95., 425., 310., 131., 158.,  19., 284.,\n",
              "        32.,  97., 140.,  89.,   5., 315., 106.,  18., 103., 148., 241.,\n",
              "       222., 161., 241.,  34., 375.,  91.,  19., 127.,  26., 228.,  32.,\n",
              "       222., 315.,  23., 176.,  94., 214., 120., 127., 137., 331.,  17.,\n",
              "       278.,  94., 193., 241.,  40., 252.,  92.,  18., 222., 222., 124.,\n",
              "       252., 115., 137., 121.,  92., 252., 222., 181., 138.,  49., 133.,\n",
              "        40., 252.,  20.,  66., 247., 214., 258., 380., 152., 111., 137.,\n",
              "       167.,  78., 252., 278., 213.,  49., 227., 150.,   5.,  45.,  34.,\n",
              "        19., 199.,  45., 138., 102., 103., 425., 252.,  95.,  66., 165.,\n",
              "        15., 103., 134., 233., 112.,  19., 274., 252., 120., 431.,  17.,\n",
              "        16., 335., 284., 111.,  15.,  19.,  92., 104., 293., 193., 257.,\n",
              "        37., 137., 213., 137.,  19.,  16.,  92., 109., 137., 237., 193.,\n",
              "       241.,  92.,  15.,  15.,  92.,  23., 123., 104., 100., 274., 310.,\n",
              "       221.,  19.,  40., 115., 106.,  19.,  45.,  94., 271., 252., 113.,\n",
              "        26., 120., 152., 137., 158.,  45.,   5., 252., 137., 132.,  94.,\n",
              "       252.,  34.,  30., 229.,  14.,  68.,  15., 227.,  71.,  79., 193.,\n",
              "       222.,  94., 135., 226., 271., 111., 105.,  45.,  92., 257., 111.,\n",
              "       137., 137.,  19.,  29.,  19.,  46.,  92., 132.,  92., 126., 132.,\n",
              "       398., 120., 150., 252., 111., 132., 193., 293.,  30., 108., 398.,\n",
              "       244., 138.,  40.,  90., 221., 106., 119.,  42., 310., 252., 278.,\n",
              "        91., 152., 158., 120., 102., 158.,  74., 137., 111., 193., 221.,\n",
              "       137., 108.,  80., 107., 252.,  74., 188., 309., 274., 137., 277.,\n",
              "        91., 215., 221.,   2.,   5., 199., 252.,  95., 106.,  34.,  17.,\n",
              "       248., 143., 402., 252.,  78., 138., 123., 150., 137.,  37.,  22.,\n",
              "       241.,  83., 229., 324., 148.,  17., 284., 137.,  91.,  31., 173.,\n",
              "       309.,  30., 138.,  96., 305., 193., 198., 193., 431.,  74.,   5.,\n",
              "       158., 181., 193.,  30., 221.,  27., 137.,  17.,  82.,  30., 193.,\n",
              "       188., 173.,   5.,  17.,  33., 252.,  95.,  37.,  92.,  17.,  33.,\n",
              "        33., 252.,  15., 152., 227., 335., 158.,  92.,  56.,  92., 103.,\n",
              "       198.,  33.,  24., 165.,  24., 222., 165.,  31., 109., 188., 291.,\n",
              "       342.,  46.,  95.,  33.,  37.,  74., 117.,  35., 120.,  86., 316.,\n",
              "       199., 398., 152., 252., 199., 252.,  17.,  31.,  21.,  28., 100.,\n",
              "        17.,   2.,  91.,  17., 252., 274., 173., 100.,  68.,  35., 134.,\n",
              "        87., 132., 187.,  17., 205., 134.,  23., 300.,  95.,  70., 117.,\n",
              "       222.,  86., 431., 271., 205., 158., 127.,  24.,  94.,  75.,  24.,\n",
              "        56., 226., 102., 241., 137., 189.,  87., 199., 132., 335., 137.,\n",
              "        14.,   8., 309., 205.,  86.,  22.,  46.,  95., 102., 258., 151.,\n",
              "        69.,   5., 135.,  92., 137.,  79., 331., 173., 252., 339., 252.,\n",
              "       193.,  17.,  79.,  90.,  73., 304., 252., 119.,  94.,  92.,  24.,\n",
              "       124., 252.,  32.,  71.,  94.,  79., 189., 173., 402., 100.,  66.,\n",
              "        91., 293., 113., 189., 135.,   7., 267.,  15.,  23.,  23., 158.,\n",
              "        92., 199., 252., 132.,  91.,  32., 191.,  15., 135.,  15.,   5.,\n",
              "        95., 137., 126.,   5., 111., 127.,  31., 335., 248.,  17., 431.,\n",
              "       134., 213.,  43.,  75.,  30., 305., 137., 137., 135., 213., 241.])"
            ]
          },
          "metadata": {},
          "execution_count": 7
        }
      ]
    },
    {
      "cell_type": "code",
      "metadata": {
        "id": "pIWrtdmcI0uJ",
        "outputId": "e8daeccf-b19c-4f72-f5dc-3dab0b4e43dc",
        "colab": {
          "base_uri": "https://localhost:8080/"
        }
      },
      "source": [
        " pred[:5]"
      ],
      "execution_count": 8,
      "outputs": [
        {
          "output_type": "execute_result",
          "data": {
            "text/plain": [
              "array([117., 164., 121.,  49.,  64.])"
            ]
          },
          "metadata": {},
          "execution_count": 8
        }
      ]
    },
    {
      "cell_type": "markdown",
      "metadata": {
        "id": "AUk_fCmVhtIc"
      },
      "source": [
        "## 정답 (`숨겨진 셀 n개` 를 누르세요.)\n",
        "---\n",
        "질문사항을 얼마든지 [게시글](https://dacon.io/competitions/open/235698/talkboard/403540?page=1&dtype=recent)에 남겨주세요 😉 <br>\n",
        "궁금한 것, 이해가 안 되는 것, 원리, 확장개념, 참고 등등 모든 범위에서 얼마든지 질문을 달아주세요 🙋"
      ]
    },
    {
      "cell_type": "code",
      "metadata": {
        "id": "7xn5MlJ2Y971"
      },
      "source": [
        "pred = model.predict(test)\n",
        "pred[:5]"
      ],
      "execution_count": null,
      "outputs": []
    },
    {
      "cell_type": "markdown",
      "metadata": {
        "id": "dEDnCj4_s7mJ"
      },
      "source": [
        "# [↩️ 리스트로 돌아가기](https://dacon.io/competitions/open/235698/overview/description)"
      ]
    }
  ]
}