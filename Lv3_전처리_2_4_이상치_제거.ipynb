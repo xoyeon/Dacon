{
  "nbformat": 4,
  "nbformat_minor": 0,
  "metadata": {
    "colab": {
      "name": "Lv3 전처리 2/4 이상치 제거",
      "provenance": [],
      "collapsed_sections": [
        "J1Is2vFL4cxY"
      ],
      "include_colab_link": true
    },
    "kernelspec": {
      "name": "python3",
      "display_name": "Python 3"
    },
    "language_info": {
      "name": "python"
    }
  },
  "cells": [
    {
      "cell_type": "markdown",
      "metadata": {
        "id": "view-in-github",
        "colab_type": "text"
      },
      "source": [
        "<a href=\"https://colab.research.google.com/github/xoyeon/Dacon-Daily-Python-Camp_follow/blob/main/Lv3_%EC%A0%84%EC%B2%98%EB%A6%AC_2_4_%EC%9D%B4%EC%83%81%EC%B9%98_%EC%A0%9C%EA%B1%B0.ipynb\" target=\"_parent\"><img src=\"https://colab.research.google.com/assets/colab-badge.svg\" alt=\"Open In Colab\"/></a>"
      ]
    },
    {
      "cell_type": "markdown",
      "metadata": {
        "id": "vIpjpOEXsoW0"
      },
      "source": [
        "# [↩️ 리스트로 돌아가기](https://dacon.io/competitions/open/235698/overview/description)"
      ]
    },
    {
      "cell_type": "markdown",
      "metadata": {
        "id": "Y8EsppNShcez"
      },
      "source": [
        "# 셀을 실행할 때 팝업이 뜨면 `무시하고 계속하기` 를 눌러주세요\n"
      ]
    },
    {
      "cell_type": "markdown",
      "metadata": {
        "id": "Njt0HrWtCfg2"
      },
      "source": [
        "## 데이터 다운로드\n",
        "---\n",
        "아래 셀을 실행시켜 데이터를 colab 에 불러옵니다.\n",
        "셀 실행은 Ctrl + Enter 를 이용해 실행시킬 수 있습니다."
      ]
    },
    {
      "cell_type": "code",
      "metadata": {
        "id": "AEAqDnUPCtNT",
        "outputId": "69e2a434-011a-4bba-e0aa-5dd731fbd180",
        "colab": {
          "base_uri": "https://localhost:8080/"
        }
      },
      "source": [
        "# 데이터 다운로드 링크로 데이터를 코랩에 불러옵니다.\n",
        "\n",
        "!wget 'https://bit.ly/3i4n1QB'\n",
        "\n",
        "import zipfile\n",
        "with zipfile.ZipFile('3i4n1QB', 'r') as existing_zip:\n",
        "    existing_zip.extractall('data')"
      ],
      "execution_count": 3,
      "outputs": [
        {
          "output_type": "stream",
          "text": [
            "--2021-08-23 03:48:59--  https://bit.ly/3i4n1QB\n",
            "Resolving bit.ly (bit.ly)... 67.199.248.11, 67.199.248.10\n",
            "Connecting to bit.ly (bit.ly)|67.199.248.11|:443... connected.\n",
            "HTTP request sent, awaiting response... 301 Moved Permanently\n",
            "Location: https://drive.google.com/uc?export=download&id=1emLrrpFWT8dCoj5BJb12-5QMG2-nruUw [following]\n",
            "--2021-08-23 03:49:00--  https://drive.google.com/uc?export=download&id=1emLrrpFWT8dCoj5BJb12-5QMG2-nruUw\n",
            "Resolving drive.google.com (drive.google.com)... 74.125.204.139, 74.125.204.138, 74.125.204.101, ...\n",
            "Connecting to drive.google.com (drive.google.com)|74.125.204.139|:443... connected.\n",
            "HTTP request sent, awaiting response... 302 Moved Temporarily\n",
            "Location: https://doc-10-10-docs.googleusercontent.com/docs/securesc/ha0ro937gcuc7l7deffksulhg5h7mbp1/53u3qkilt0447fbmkjs7d1oqm2t5d47o/1629690525000/17946651057176172524/*/1emLrrpFWT8dCoj5BJb12-5QMG2-nruUw?e=download [following]\n",
            "Warning: wildcards not supported in HTTP.\n",
            "--2021-08-23 03:49:01--  https://doc-10-10-docs.googleusercontent.com/docs/securesc/ha0ro937gcuc7l7deffksulhg5h7mbp1/53u3qkilt0447fbmkjs7d1oqm2t5d47o/1629690525000/17946651057176172524/*/1emLrrpFWT8dCoj5BJb12-5QMG2-nruUw?e=download\n",
            "Resolving doc-10-10-docs.googleusercontent.com (doc-10-10-docs.googleusercontent.com)... 108.177.125.132, 2404:6800:4008:c01::84\n",
            "Connecting to doc-10-10-docs.googleusercontent.com (doc-10-10-docs.googleusercontent.com)|108.177.125.132|:443... connected.\n",
            "HTTP request sent, awaiting response... 200 OK\n",
            "Length: 137694 (134K) [application/zip]\n",
            "Saving to: ‘3i4n1QB’\n",
            "\n",
            "3i4n1QB             100%[===================>] 134.47K  --.-KB/s    in 0.001s  \n",
            "\n",
            "2021-08-23 03:49:01 (115 MB/s) - ‘3i4n1QB’ saved [137694/137694]\n",
            "\n"
          ],
          "name": "stdout"
        }
      ]
    },
    {
      "cell_type": "code",
      "metadata": {
        "id": "GqVbFVMCGJzT"
      },
      "source": [
        "# 라이브러리 불러오기\n",
        "\n",
        "import pandas as pd\n",
        "import numpy as np"
      ],
      "execution_count": 4,
      "outputs": []
    },
    {
      "cell_type": "code",
      "metadata": {
        "id": "Cc10QSz6eyPa",
        "outputId": "0e8efea9-78eb-4e5a-9e9c-3b6f3eabd91c",
        "colab": {
          "base_uri": "https://localhost:8080/"
        }
      },
      "source": [
        "# read_csv() 매서드로 train.csv 파일을 df class 로 불러오세요.\n",
        "train = pd.read_csv('data/train.csv')\n",
        "\n",
        "# train에는 현재 몇개의 행이 있는지 알 수 있습니다.\n",
        "train.shape"
      ],
      "execution_count": 5,
      "outputs": [
        {
          "output_type": "execute_result",
          "data": {
            "text/plain": [
              "(5497, 14)"
            ]
          },
          "metadata": {},
          "execution_count": 5
        }
      ]
    },
    {
      "cell_type": "markdown",
      "metadata": {
        "id": "ZksEbPou52yW"
      },
      "source": [
        "## 👋 실습\n",
        "---"
      ]
    },
    {
      "cell_type": "code",
      "metadata": {
        "id": "vzfBte-Rdq18",
        "outputId": "eede3c6f-8d79-4d71-a436-1c322fdb01fe",
        "colab": {
          "base_uri": "https://localhost:8080/"
        }
      },
      "source": [
        "# \"fixed acidity\"가 25%인 값을 \"quantile_25\" 라는 변수에 만들어 주세요\n",
        "quantile_25 = np.quantile(train['fixed acidity'], 0.25)\n",
        "quantile_25"
      ],
      "execution_count": 14,
      "outputs": [
        {
          "output_type": "execute_result",
          "data": {
            "text/plain": [
              "6.4"
            ]
          },
          "metadata": {},
          "execution_count": 14
        }
      ]
    },
    {
      "cell_type": "code",
      "metadata": {
        "id": "0Xv-TkZzkjV0",
        "outputId": "65e38015-ed5c-4598-eef2-44e7313d0cea",
        "colab": {
          "base_uri": "https://localhost:8080/"
        }
      },
      "source": [
        "# \"fixed acidity\"가 75%인 값을 \"quantile_75\" 라는 변수에 만들어 주세요\n",
        "quantile_75 = np.quantile(train['fixed acidity'],0.75)\n",
        "quantile_75"
      ],
      "execution_count": 15,
      "outputs": [
        {
          "output_type": "execute_result",
          "data": {
            "text/plain": [
              "7.7"
            ]
          },
          "metadata": {},
          "execution_count": 15
        }
      ]
    },
    {
      "cell_type": "code",
      "metadata": {
        "id": "a7vMbt9anJ64",
        "outputId": "b6e1330d-64ae-4b60-8412-0fb39857a361",
        "colab": {
          "base_uri": "https://localhost:8080/"
        }
      },
      "source": [
        "# quantile_75와 quantile_25의 차이를 \"IQR\"이라는 변수에 만들어 주세요\n",
        "IQR = quantile_75 - quantile_25\n",
        "IQR"
      ],
      "execution_count": 16,
      "outputs": [
        {
          "output_type": "execute_result",
          "data": {
            "text/plain": [
              "1.2999999999999998"
            ]
          },
          "metadata": {},
          "execution_count": 16
        }
      ]
    },
    {
      "cell_type": "code",
      "metadata": {
        "id": "FfRgdcqynR6n",
        "outputId": "0ec628df-d9b6-4615-9587-3e69836b64c4",
        "colab": {
          "base_uri": "https://localhost:8080/"
        }
      },
      "source": [
        "# quantile_25보다 1.5 * IQR 작은 값을 \"minimum\"이라는 변수에 만들어 주세요\n",
        "minimum = quantile_25 - 1.5 * IQR\n",
        "minimum"
      ],
      "execution_count": 17,
      "outputs": [
        {
          "output_type": "execute_result",
          "data": {
            "text/plain": [
              "4.450000000000001"
            ]
          },
          "metadata": {},
          "execution_count": 17
        }
      ]
    },
    {
      "cell_type": "code",
      "metadata": {
        "id": "YrdAhNyHnXi3",
        "outputId": "fddd0e1a-ff75-4971-8ba8-cce76829170a",
        "colab": {
          "base_uri": "https://localhost:8080/"
        }
      },
      "source": [
        "# quantile_75보다 1.5 * IQR 큰 값을 \"maximum\"이라는 변수에 만들어 주세요\n",
        "maximum = quantile_75 + 1.5 * IQR\n",
        "maximum"
      ],
      "execution_count": 18,
      "outputs": [
        {
          "output_type": "execute_result",
          "data": {
            "text/plain": [
              "9.65"
            ]
          },
          "metadata": {},
          "execution_count": 18
        }
      ]
    },
    {
      "cell_type": "code",
      "metadata": {
        "id": "r1dIMeWqncrv"
      },
      "source": [
        "# \"fixed acidity\"가 minimum보다 크고, maximum보다 작은 값들만 \"train2\"에 저장해 주세요\n",
        "train2 = train[(minimum <= train['fixed acidity']) & (train['fixed acidity'] <= maximum)]"
      ],
      "execution_count": 19,
      "outputs": []
    },
    {
      "cell_type": "code",
      "metadata": {
        "id": "UwDqO52orRQg",
        "outputId": "f949c361-42c2-4f6b-bc17-101cc0011b9d",
        "colab": {
          "base_uri": "https://localhost:8080/"
        }
      },
      "source": [
        "# train2.shape를 통해서, 총 몇개의 행이 되었는지 확인해보세요.\n",
        "train2.shape"
      ],
      "execution_count": 12,
      "outputs": [
        {
          "output_type": "execute_result",
          "data": {
            "text/plain": [
              "(5203, 14)"
            ]
          },
          "metadata": {},
          "execution_count": 12
        }
      ]
    },
    {
      "cell_type": "code",
      "metadata": {
        "id": "A_Vf21WIrZGB",
        "outputId": "63c3de87-4591-4acd-c9b3-2dbcb4615a28",
        "colab": {
          "base_uri": "https://localhost:8080/"
        }
      },
      "source": [
        "# 몇개의 이상치가 있는지도 계산해보세요.\n",
        "train.shape[0] - train2.shape[0]"
      ],
      "execution_count": 20,
      "outputs": [
        {
          "output_type": "execute_result",
          "data": {
            "text/plain": [
              "294"
            ]
          },
          "metadata": {},
          "execution_count": 20
        }
      ]
    },
    {
      "cell_type": "markdown",
      "metadata": {
        "id": "J1Is2vFL4cxY"
      },
      "source": [
        "## 정답\n",
        "---"
      ]
    },
    {
      "cell_type": "code",
      "metadata": {
        "id": "i5yfuqaAqlWH"
      },
      "source": [
        "# \"fixed acidity\"가 25%인 값을 \"quantile_25\" 라는 변수에 만들어 주세요\n",
        "\n",
        "quantile_25 = np.quantile(train['fixed acidity'], 0.25)"
      ],
      "execution_count": null,
      "outputs": []
    },
    {
      "cell_type": "code",
      "metadata": {
        "id": "jkwhwOR0qK6R"
      },
      "source": [
        "# \"fixed acidity\"가 75%인 값을 \"quantile_75\" 라는 변수에 만들어 주세요\n",
        "\n",
        "quantile_75 = np.quantile(train['fixed acidity'],0.75)"
      ],
      "execution_count": null,
      "outputs": []
    },
    {
      "cell_type": "code",
      "metadata": {
        "id": "XhIYdqr0qK4o"
      },
      "source": [
        "# quantile_75와 quantile_25의 차이를 \"IQR\"이라는 변수에 만들어 주세요\n",
        "\n",
        "IQR = quantile_75 - quantile_25"
      ],
      "execution_count": null,
      "outputs": []
    },
    {
      "cell_type": "code",
      "metadata": {
        "id": "L0RBOc_bqKpg"
      },
      "source": [
        "# quantile_25보다 1.5 * IQR 작은 값을 \"minimum\"이라는 변수에 만들어 주세요\n",
        "\n",
        "minimum = quantile_25 - 1.5 * IQR"
      ],
      "execution_count": null,
      "outputs": []
    },
    {
      "cell_type": "code",
      "metadata": {
        "id": "06WjPWJ9qNhA"
      },
      "source": [
        "# quantile_75보다 1.5 * IQR 큰 값을 \"maximum\"이라는 변수에 만들어 주세요\n",
        "\n",
        "maximum = quantile_75 + 1.5 * IQR"
      ],
      "execution_count": null,
      "outputs": []
    },
    {
      "cell_type": "code",
      "metadata": {
        "id": "PMw1uUkjqOmg"
      },
      "source": [
        "# \"fixed acidity\"가 minimum보다 크고, maximum보다 작은 값들만 \"train2\"에 저장해 주세요\n",
        "\n",
        "train2 = train[(minimum <= train['fixed acidity']) & (train['fixed acidity'] <= maximum)]"
      ],
      "execution_count": null,
      "outputs": []
    },
    {
      "cell_type": "code",
      "metadata": {
        "id": "2ptwtVCTraxQ"
      },
      "source": [
        "# train2.shape를 통해서, 총 몇개의 행이 되었는지 확인해보세요.\n",
        "\n",
        "train2.shape"
      ],
      "execution_count": null,
      "outputs": []
    },
    {
      "cell_type": "code",
      "metadata": {
        "id": "8otQadwErciw"
      },
      "source": [
        "# 몇개의 이상치가 있는지도 계산해보세요.\n",
        "# 294개의 이상치를 발견해 제거했습니다.\n",
        "\n",
        "train.shape[0] - train2.shape[0]"
      ],
      "execution_count": null,
      "outputs": []
    },
    {
      "cell_type": "markdown",
      "metadata": {
        "id": "K8YgC54VtiB7"
      },
      "source": [
        "# [↩️ 리스트로 돌아가기](https://dacon.io/competitions/open/235698/overview/description)"
      ]
    }
  ]
}