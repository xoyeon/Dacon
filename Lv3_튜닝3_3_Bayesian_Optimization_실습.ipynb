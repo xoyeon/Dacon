{
  "nbformat": 4,
  "nbformat_minor": 0,
  "metadata": {
    "colab": {
      "name": "Lv3 튜닝3/3 Bayesian Optimization 실습",
      "provenance": [],
      "collapsed_sections": [],
      "include_colab_link": true
    },
    "kernelspec": {
      "name": "python3",
      "display_name": "Python 3"
    },
    "language_info": {
      "name": "python"
    }
  },
  "cells": [
    {
      "cell_type": "markdown",
      "metadata": {
        "id": "view-in-github",
        "colab_type": "text"
      },
      "source": [
        "<a href=\"https://colab.research.google.com/github/xoyeon/Dacon-Daily-Python-Camp_follow/blob/main/Lv3_%ED%8A%9C%EB%8B%9D3_3_Bayesian_Optimization_%EC%8B%A4%EC%8A%B5.ipynb\" target=\"_parent\"><img src=\"https://colab.research.google.com/assets/colab-badge.svg\" alt=\"Open In Colab\"/></a>"
      ]
    },
    {
      "cell_type": "markdown",
      "metadata": {
        "id": "vIpjpOEXsoW0"
      },
      "source": [
        "# [↩️ 리스트로 돌아가기](https://dacon.io/competitions/open/235698/overview/description)"
      ]
    },
    {
      "cell_type": "markdown",
      "metadata": {
        "id": "cdkhATahdXka"
      },
      "source": [
        "# 셀을 실행할 때 팝업이 뜨면 `무시하고 계속하기` 를 눌러주세요\n"
      ]
    },
    {
      "cell_type": "markdown",
      "metadata": {
        "id": "Njt0HrWtCfg2"
      },
      "source": [
        "## 데이터 다운로드\n",
        "---\n",
        "아래 셀을 실행시켜 데이터를 colab 에 불러옵니다.\n",
        "셀 실행은 Ctrl + Enter 를 이용해 실행시킬 수 있습니다."
      ]
    },
    {
      "cell_type": "code",
      "metadata": {
        "id": "3VJ5JOrHYbTv",
        "outputId": "fcb2142e-aad6-456b-a83a-c8a63da977ef",
        "colab": {
          "base_uri": "https://localhost:8080/"
        }
      },
      "source": [
        "# 데이터 다운로드 링크로 데이터를 코랩에 불러옵니다.\n",
        "\n",
        "!wget 'https://bit.ly/3i4n1QB'\n",
        "\n",
        "import zipfile\n",
        "with zipfile.ZipFile('3i4n1QB', 'r') as existing_zip:\n",
        "    existing_zip.extractall('data')"
      ],
      "execution_count": 1,
      "outputs": [
        {
          "output_type": "stream",
          "text": [
            "--2021-08-24 01:15:34--  https://bit.ly/3i4n1QB\n",
            "Resolving bit.ly (bit.ly)... 67.199.248.10, 67.199.248.11\n",
            "Connecting to bit.ly (bit.ly)|67.199.248.10|:443... connected.\n",
            "HTTP request sent, awaiting response... 301 Moved Permanently\n",
            "Location: https://drive.google.com/uc?export=download&id=1emLrrpFWT8dCoj5BJb12-5QMG2-nruUw [following]\n",
            "--2021-08-24 01:15:34--  https://drive.google.com/uc?export=download&id=1emLrrpFWT8dCoj5BJb12-5QMG2-nruUw\n",
            "Resolving drive.google.com (drive.google.com)... 142.250.65.78, 2607:f8b0:4004:832::200e\n",
            "Connecting to drive.google.com (drive.google.com)|142.250.65.78|:443... connected.\n",
            "HTTP request sent, awaiting response... 302 Moved Temporarily\n",
            "Location: https://doc-10-10-docs.googleusercontent.com/docs/securesc/ha0ro937gcuc7l7deffksulhg5h7mbp1/ud96a1e2qjjfomgsf8732v7i4evbmp7m/1629767700000/17946651057176172524/*/1emLrrpFWT8dCoj5BJb12-5QMG2-nruUw?e=download [following]\n",
            "Warning: wildcards not supported in HTTP.\n",
            "--2021-08-24 01:15:35--  https://doc-10-10-docs.googleusercontent.com/docs/securesc/ha0ro937gcuc7l7deffksulhg5h7mbp1/ud96a1e2qjjfomgsf8732v7i4evbmp7m/1629767700000/17946651057176172524/*/1emLrrpFWT8dCoj5BJb12-5QMG2-nruUw?e=download\n",
            "Resolving doc-10-10-docs.googleusercontent.com (doc-10-10-docs.googleusercontent.com)... 142.251.33.193, 2607:f8b0:4004:837::2001\n",
            "Connecting to doc-10-10-docs.googleusercontent.com (doc-10-10-docs.googleusercontent.com)|142.251.33.193|:443... connected.\n",
            "HTTP request sent, awaiting response... 200 OK\n",
            "Length: 137694 (134K) [application/zip]\n",
            "Saving to: ‘3i4n1QB’\n",
            "\n",
            "3i4n1QB             100%[===================>] 134.47K  --.-KB/s    in 0.02s   \n",
            "\n",
            "2021-08-24 01:15:35 (5.66 MB/s) - ‘3i4n1QB’ saved [137694/137694]\n",
            "\n"
          ],
          "name": "stdout"
        }
      ]
    },
    {
      "cell_type": "code",
      "metadata": {
        "id": "Jq0dehQVYhPN"
      },
      "source": [
        "# 라이브러리 불러오기\n",
        "\n",
        "import pandas as pd\n",
        "from sklearn.preprocessing import MinMaxScaler, OneHotEncoder\n",
        "from sklearn.ensemble import RandomForestClassifier\n",
        "\n",
        "from sklearn.model_selection import KFold, train_test_split\n",
        "from sklearn.metrics import accuracy_score\n",
        "import numpy as np"
      ],
      "execution_count": 2,
      "outputs": []
    },
    {
      "cell_type": "code",
      "metadata": {
        "id": "ZD-bpp0JYipI",
        "outputId": "0f78f9c0-0ea5-4eff-a81e-a4f31dda9051",
        "colab": {
          "base_uri": "https://localhost:8080/",
          "height": 223
        }
      },
      "source": [
        "# 데이터를 불러와 학습시킬 준비하기\n",
        "\n",
        "train = pd.read_csv('data/train.csv')\n",
        "test = pd.read_csv('data/test.csv')\n",
        "\n",
        "# Scailing\n",
        "scaler = MinMaxScaler()\n",
        "scaler.fit(train[['fixed acidity']])\n",
        "train['Scaled fixed acidity'] = scaler.transform(train[['fixed acidity']])\n",
        "test['Scaled fixed acidity'] = scaler.transform(test[['fixed acidity']])\n",
        "\n",
        "# Encoding\n",
        "encoder = OneHotEncoder()\n",
        "encoder.fit(train[['type']])\n",
        "onehot = encoder.transform(train[['type']])\n",
        "onehot = onehot.toarray()\n",
        "onehot = pd.DataFrame(onehot)\n",
        "onehot.columns = encoder.get_feature_names()\n",
        "train = pd.concat([train, onehot], axis = 1)\n",
        "train = train.drop(columns = ['type'])\n",
        "\n",
        "onehot = encoder.transform(test[['type']])\n",
        "onehot = onehot.toarray()\n",
        "onehot = pd.DataFrame(onehot)\n",
        "onehot.columns = encoder.get_feature_names()\n",
        "test = pd.concat([test, onehot], axis = 1)\n",
        "test = test.drop(columns = ['type'])\n",
        "\n",
        "test.head()"
      ],
      "execution_count": 3,
      "outputs": [
        {
          "output_type": "execute_result",
          "data": {
            "text/html": [
              "<div>\n",
              "<style scoped>\n",
              "    .dataframe tbody tr th:only-of-type {\n",
              "        vertical-align: middle;\n",
              "    }\n",
              "\n",
              "    .dataframe tbody tr th {\n",
              "        vertical-align: top;\n",
              "    }\n",
              "\n",
              "    .dataframe thead th {\n",
              "        text-align: right;\n",
              "    }\n",
              "</style>\n",
              "<table border=\"1\" class=\"dataframe\">\n",
              "  <thead>\n",
              "    <tr style=\"text-align: right;\">\n",
              "      <th></th>\n",
              "      <th>index</th>\n",
              "      <th>fixed acidity</th>\n",
              "      <th>volatile acidity</th>\n",
              "      <th>citric acid</th>\n",
              "      <th>residual sugar</th>\n",
              "      <th>chlorides</th>\n",
              "      <th>free sulfur dioxide</th>\n",
              "      <th>total sulfur dioxide</th>\n",
              "      <th>density</th>\n",
              "      <th>pH</th>\n",
              "      <th>sulphates</th>\n",
              "      <th>alcohol</th>\n",
              "      <th>Scaled fixed acidity</th>\n",
              "      <th>x0_red</th>\n",
              "      <th>x0_white</th>\n",
              "    </tr>\n",
              "  </thead>\n",
              "  <tbody>\n",
              "    <tr>\n",
              "      <th>0</th>\n",
              "      <td>0</td>\n",
              "      <td>9.0</td>\n",
              "      <td>0.31</td>\n",
              "      <td>0.48</td>\n",
              "      <td>6.6</td>\n",
              "      <td>0.043</td>\n",
              "      <td>11.0</td>\n",
              "      <td>73.0</td>\n",
              "      <td>0.99380</td>\n",
              "      <td>2.90</td>\n",
              "      <td>0.38</td>\n",
              "      <td>11.6</td>\n",
              "      <td>0.429752</td>\n",
              "      <td>0.0</td>\n",
              "      <td>1.0</td>\n",
              "    </tr>\n",
              "    <tr>\n",
              "      <th>1</th>\n",
              "      <td>1</td>\n",
              "      <td>13.3</td>\n",
              "      <td>0.43</td>\n",
              "      <td>0.58</td>\n",
              "      <td>1.9</td>\n",
              "      <td>0.070</td>\n",
              "      <td>15.0</td>\n",
              "      <td>40.0</td>\n",
              "      <td>1.00040</td>\n",
              "      <td>3.06</td>\n",
              "      <td>0.49</td>\n",
              "      <td>9.0</td>\n",
              "      <td>0.785124</td>\n",
              "      <td>1.0</td>\n",
              "      <td>0.0</td>\n",
              "    </tr>\n",
              "    <tr>\n",
              "      <th>2</th>\n",
              "      <td>2</td>\n",
              "      <td>6.5</td>\n",
              "      <td>0.28</td>\n",
              "      <td>0.27</td>\n",
              "      <td>5.2</td>\n",
              "      <td>0.040</td>\n",
              "      <td>44.0</td>\n",
              "      <td>179.0</td>\n",
              "      <td>0.99480</td>\n",
              "      <td>3.19</td>\n",
              "      <td>0.69</td>\n",
              "      <td>9.4</td>\n",
              "      <td>0.223140</td>\n",
              "      <td>0.0</td>\n",
              "      <td>1.0</td>\n",
              "    </tr>\n",
              "    <tr>\n",
              "      <th>3</th>\n",
              "      <td>3</td>\n",
              "      <td>7.2</td>\n",
              "      <td>0.15</td>\n",
              "      <td>0.39</td>\n",
              "      <td>1.8</td>\n",
              "      <td>0.043</td>\n",
              "      <td>21.0</td>\n",
              "      <td>159.0</td>\n",
              "      <td>0.99480</td>\n",
              "      <td>3.52</td>\n",
              "      <td>0.47</td>\n",
              "      <td>10.0</td>\n",
              "      <td>0.280992</td>\n",
              "      <td>0.0</td>\n",
              "      <td>1.0</td>\n",
              "    </tr>\n",
              "    <tr>\n",
              "      <th>4</th>\n",
              "      <td>4</td>\n",
              "      <td>6.8</td>\n",
              "      <td>0.26</td>\n",
              "      <td>0.26</td>\n",
              "      <td>2.0</td>\n",
              "      <td>0.019</td>\n",
              "      <td>23.5</td>\n",
              "      <td>72.0</td>\n",
              "      <td>0.99041</td>\n",
              "      <td>3.16</td>\n",
              "      <td>0.47</td>\n",
              "      <td>11.8</td>\n",
              "      <td>0.247934</td>\n",
              "      <td>0.0</td>\n",
              "      <td>1.0</td>\n",
              "    </tr>\n",
              "  </tbody>\n",
              "</table>\n",
              "</div>"
            ],
            "text/plain": [
              "   index  fixed acidity  ...  x0_red  x0_white\n",
              "0      0            9.0  ...     0.0       1.0\n",
              "1      1           13.3  ...     1.0       0.0\n",
              "2      2            6.5  ...     0.0       1.0\n",
              "3      3            7.2  ...     0.0       1.0\n",
              "4      4            6.8  ...     0.0       1.0\n",
              "\n",
              "[5 rows x 15 columns]"
            ]
          },
          "metadata": {},
          "execution_count": 3
        }
      ]
    },
    {
      "cell_type": "code",
      "metadata": {
        "id": "Q-Zob-z6YkE6",
        "outputId": "8ae75dcf-2435-44ca-9750-9b9c77f282c8",
        "colab": {
          "base_uri": "https://localhost:8080/"
        }
      },
      "source": [
        "pip install bayesian-optimization"
      ],
      "execution_count": 4,
      "outputs": [
        {
          "output_type": "stream",
          "text": [
            "Collecting bayesian-optimization\n",
            "  Downloading bayesian-optimization-1.2.0.tar.gz (14 kB)\n",
            "Requirement already satisfied: numpy>=1.9.0 in /usr/local/lib/python3.7/dist-packages (from bayesian-optimization) (1.19.5)\n",
            "Requirement already satisfied: scipy>=0.14.0 in /usr/local/lib/python3.7/dist-packages (from bayesian-optimization) (1.4.1)\n",
            "Requirement already satisfied: scikit-learn>=0.18.0 in /usr/local/lib/python3.7/dist-packages (from bayesian-optimization) (0.22.2.post1)\n",
            "Requirement already satisfied: joblib>=0.11 in /usr/local/lib/python3.7/dist-packages (from scikit-learn>=0.18.0->bayesian-optimization) (1.0.1)\n",
            "Building wheels for collected packages: bayesian-optimization\n",
            "  Building wheel for bayesian-optimization (setup.py) ... \u001b[?25l\u001b[?25hdone\n",
            "  Created wheel for bayesian-optimization: filename=bayesian_optimization-1.2.0-py3-none-any.whl size=11685 sha256=5015e15bcce6b1c20be9ae5402474164b26c3f725d47a615afa4725c6f141d20\n",
            "  Stored in directory: /root/.cache/pip/wheels/fd/9b/71/f127d694e02eb40bcf18c7ae9613b88a6be4470f57a8528c5b\n",
            "Successfully built bayesian-optimization\n",
            "Installing collected packages: bayesian-optimization\n",
            "Successfully installed bayesian-optimization-1.2.0\n"
          ],
          "name": "stdout"
        }
      ]
    },
    {
      "cell_type": "code",
      "metadata": {
        "id": "u_JXV_44YmR0"
      },
      "source": [
        "# Bayesian Optimization 불러오기\n",
        "from bayes_opt import BayesianOptimization"
      ],
      "execution_count": 5,
      "outputs": []
    },
    {
      "cell_type": "markdown",
      "metadata": {
        "id": "ZksEbPou52yW"
      },
      "source": [
        "## 👋 실습\n",
        "---"
      ]
    },
    {
      "cell_type": "code",
      "metadata": {
        "id": "qCZXTz5vLCWt"
      },
      "source": [
        "# X에 학습할 데이터를, y에 목표 변수를 저장해주세요\n",
        "X = train.drop(columns = ['index', 'quality'])\n",
        "y = train['quality']"
      ],
      "execution_count": 6,
      "outputs": []
    },
    {
      "cell_type": "code",
      "metadata": {
        "id": "6aDX-gb1LE2y"
      },
      "source": [
        "# 랜덤포레스트의 하이퍼 파라미터의 범위를 dictionary 형태로 지정해주세요\n",
        "## Key는 랜덤포레스트의 hyperparameter이름이고, value는 탐색할 범위 입니다.\n",
        "rf_parameter_bounds = {'max_depth' : (1,3), # 나무의 깊이\n",
        "                      'n_estimators' : (30,100)\n",
        "                      }"
      ],
      "execution_count": 7,
      "outputs": []
    },
    {
      "cell_type": "code",
      "metadata": {
        "id": "TTL8tHnabJfE"
      },
      "source": [
        "# 함수를 만들어주겠습니다.\n",
        "# 함수의 구성은 다음과 같습니다.\n",
        "# 1. 함수에 들어가는 인자 = 위에서 만든 함수의 key값들\n",
        "# 2. 함수 속 인자를 통해 받아와 새롭게 하이퍼파라미터 딕셔너리 생성\n",
        "# 3. 그 딕셔너리를 바탕으로 모델 생성\n",
        "# 4. train_test_split을 통해 데이터 train-valid 나누기\n",
        "# 5 .모델 학습\n",
        "# 6. 모델 성능 측정\n",
        "# 7. 모델의 점수 반환"
      ],
      "execution_count": 8,
      "outputs": []
    },
    {
      "cell_type": "code",
      "metadata": {
        "id": "1o6dDRDGtxQY"
      },
      "source": [
        "def rf_bo(max_depth, n_estimators):\n",
        "  rf_params = {\n",
        "              'max_depth' : int(round(max_depth)),\n",
        "               'n_estimators' : int(round(n_estimators)),      \n",
        "              }\n",
        "  rf = RandomForestClassifier(**rf_params)\n",
        "\n",
        "  X_train, X_valid, y_train, y_valid = train_test_split(X,y,test_size = 0.2, )\n",
        "\n",
        "  rf.fit(X_train,y_train)\n",
        "  score = accuracy_score(y_valid, rf.predict(X_valid))\n",
        "  return score"
      ],
      "execution_count": 9,
      "outputs": []
    },
    {
      "cell_type": "code",
      "metadata": {
        "id": "ZvDUnISScfBE"
      },
      "source": [
        "# 이제 Bayesian Optimization을 사용할 준비가 끝났습니다.\n",
        "# \"BO_rf\"라는 변수에 Bayesian Optmization을 저장해보세요\n",
        "BO_rf = BayesianOptimization(f = rf_bo, pbounds = rf_parameter_bounds,random_state = 0)"
      ],
      "execution_count": 10,
      "outputs": []
    },
    {
      "cell_type": "code",
      "metadata": {
        "id": "0Z3yRw1adNbi",
        "outputId": "9c136ddf-a315-40fb-c3a2-465e6a7ce1ec",
        "colab": {
          "base_uri": "https://localhost:8080/"
        }
      },
      "source": [
        "# Bayesian Optimization을 실행해보세요\n",
        "BO_rf.maximize(init_points = 5, n_iter = 5)"
      ],
      "execution_count": 11,
      "outputs": [
        {
          "output_type": "stream",
          "text": [
            "|   iter    |  target   | max_depth | n_esti... |\n",
            "-------------------------------------------------\n",
            "| \u001b[0m 1       \u001b[0m | \u001b[0m 0.5336  \u001b[0m | \u001b[0m 2.098   \u001b[0m | \u001b[0m 80.06   \u001b[0m |\n",
            "| \u001b[0m 2       \u001b[0m | \u001b[0m 0.4936  \u001b[0m | \u001b[0m 2.206   \u001b[0m | \u001b[0m 68.14   \u001b[0m |\n",
            "| \u001b[0m 3       \u001b[0m | \u001b[0m 0.5236  \u001b[0m | \u001b[0m 1.847   \u001b[0m | \u001b[0m 75.21   \u001b[0m |\n",
            "| \u001b[95m 4       \u001b[0m | \u001b[95m 0.5391  \u001b[0m | \u001b[95m 1.875   \u001b[0m | \u001b[95m 92.42   \u001b[0m |\n",
            "| \u001b[95m 5       \u001b[0m | \u001b[95m 0.5436  \u001b[0m | \u001b[95m 2.927   \u001b[0m | \u001b[95m 56.84   \u001b[0m |\n",
            "| \u001b[0m 6       \u001b[0m | \u001b[0m 0.4418  \u001b[0m | \u001b[0m 1.0     \u001b[0m | \u001b[0m 30.0    \u001b[0m |\n",
            "| \u001b[0m 7       \u001b[0m | \u001b[0m 0.4818  \u001b[0m | \u001b[0m 1.344   \u001b[0m | \u001b[0m 53.74   \u001b[0m |\n",
            "| \u001b[0m 8       \u001b[0m | \u001b[0m 0.5182  \u001b[0m | \u001b[0m 3.0     \u001b[0m | \u001b[0m 100.0   \u001b[0m |\n",
            "| \u001b[0m 9       \u001b[0m | \u001b[0m 0.5327  \u001b[0m | \u001b[0m 3.0     \u001b[0m | \u001b[0m 41.14   \u001b[0m |\n",
            "| \u001b[0m 10      \u001b[0m | \u001b[0m 0.4836  \u001b[0m | \u001b[0m 1.087   \u001b[0m | \u001b[0m 99.95   \u001b[0m |\n",
            "=================================================\n"
          ],
          "name": "stdout"
        }
      ]
    },
    {
      "cell_type": "code",
      "metadata": {
        "id": "r8CCKoM-de18",
        "outputId": "4b30cc5d-e608-4182-bf29-d8232dee16cb",
        "colab": {
          "base_uri": "https://localhost:8080/"
        }
      },
      "source": [
        "# 하이퍼파라미터의 결과값을 불러와 \"max_params\"라는 변수에 저장해보세요\n",
        "max_params = BO_rf.max['params']\n",
        "max_params['max_depth'] = int(max_params['max_depth'])\n",
        "max_params['n_estimators'] = int(max_params['n_estimators'])\n",
        "print(max_params)"
      ],
      "execution_count": 12,
      "outputs": [
        {
          "output_type": "stream",
          "text": [
            "{'max_depth': 2, 'n_estimators': 56}\n"
          ],
          "name": "stdout"
        }
      ]
    },
    {
      "cell_type": "code",
      "metadata": {
        "id": "nGStijtadwga"
      },
      "source": [
        "# Bayesian Optimization의 결과를 \"BO_tuend_rf\"라는 변수에 저장해보세요\n",
        "BO_tuend_rf = RandomForestClassifier(**max_params)"
      ],
      "execution_count": 13,
      "outputs": []
    },
    {
      "cell_type": "markdown",
      "metadata": {
        "id": "J1Is2vFL4cxY"
      },
      "source": [
        "## 정답\n",
        "---"
      ]
    },
    {
      "cell_type": "code",
      "metadata": {
        "id": "JgFQAEcwfPgh"
      },
      "source": [
        "# X에 학습할 데이터를, y에 목표 변수를 저장해주세요\n",
        "X = train.drop(columns = ['index', 'quality'])\n",
        "y = train['quality']"
      ],
      "execution_count": null,
      "outputs": []
    },
    {
      "cell_type": "code",
      "metadata": {
        "id": "6pgXlkfhfPg-"
      },
      "source": [
        "# 랜덤포레스트의 하이퍼 파라미터의 범위를 dictionary 형태로 지정해주세요\n",
        "## Key는 랜덤포레스트의 hyperparameter이름이고, value는 탐색할 범위 입니다.\n",
        "rf_parameter_bounds = {\n",
        "                      'max_depth' : (1,3), # 나무의 깊이\n",
        "                      'n_estimators' : (30,100),\n",
        "                      }"
      ],
      "execution_count": null,
      "outputs": []
    },
    {
      "cell_type": "code",
      "metadata": {
        "id": "71F1yUPOfPg-"
      },
      "source": [
        "# 함수를 만들어주겠습니다.\n",
        "# 함수의 구성은 다음과 같습니다.\n",
        "# 1. 함수에 들어가는 인자 = 위에서 만든 함수의 key값들\n",
        "# 2. 함수 속 인자를 통해 받아와 새롭게 하이퍼파라미터 딕셔너리 생성\n",
        "# 3. 그 딕셔너리를 바탕으로 모델 생성\n",
        "# 4. train_test_split을 통해 데이터 train-valid 나누기\n",
        "# 5 .모델 학습\n",
        "# 6. 모델 성능 측정\n",
        "# 7. 모델의 점수 반환\n",
        "\n",
        "def rf_bo(max_depth, n_estimators):\n",
        "  rf_params = {\n",
        "              'max_depth' : int(round(max_depth)),\n",
        "               'n_estimators' : int(round(n_estimators)),      \n",
        "              }\n",
        "  rf = RandomForestClassifier(**rf_params)\n",
        "\n",
        "  X_train, X_valid, y_train, y_valid = train_test_split(X,y,test_size = 0.2, )\n",
        "\n",
        "  rf.fit(X_train,y_train)\n",
        "  score = accuracy_score(y_valid, rf.predict(X_valid))\n",
        "  return score"
      ],
      "execution_count": null,
      "outputs": []
    },
    {
      "cell_type": "code",
      "metadata": {
        "id": "uH7JRlQ7fPg_"
      },
      "source": [
        "# 이제 Bayesian Optimization을 사용할 준비가 끝났습니다.\n",
        "# \"BO_rf\"라는 변수에 Bayesian Optmization을 저장해보세요\n",
        "BO_rf = BayesianOptimization(f = rf_bo, pbounds = rf_parameter_bounds,random_state = 0)"
      ],
      "execution_count": null,
      "outputs": []
    },
    {
      "cell_type": "code",
      "metadata": {
        "id": "5E0nc4ZhfPg_"
      },
      "source": [
        "# Bayesian Optimization을 실행해보세요\n",
        "BO_rf.maximize(init_points = 5, n_iter = 5)"
      ],
      "execution_count": null,
      "outputs": []
    },
    {
      "cell_type": "code",
      "metadata": {
        "id": "ILT73HuEfPhB"
      },
      "source": [
        "# 하이퍼파라미터의 결과값을 불러와 \"max_params\"라는 변수에 저장해보세요\n",
        "max_params = BO_rf.max['params']\n",
        "\n",
        "max_params['max_depth'] = int(max_params['max_depth'])\n",
        "max_params['n_estimators'] = int(max_params['n_estimators'])\n",
        "print(max_params)"
      ],
      "execution_count": null,
      "outputs": []
    },
    {
      "cell_type": "code",
      "metadata": {
        "id": "4yqZy4j3fPhC"
      },
      "source": [
        "# Bayesian Optimization의 결과를 \"BO_tuend_rf\"라는 변수에 저장해보세요\n",
        "BO_tuend_rf = RandomForestClassifier(**max_params)"
      ],
      "execution_count": null,
      "outputs": []
    },
    {
      "cell_type": "markdown",
      "metadata": {
        "id": "K8YgC54VtiB7"
      },
      "source": [
        "# [↩️ 리스트로 돌아가기](https://dacon.io/competitions/open/235698/overview/description)"
      ]
    }
  ]
}