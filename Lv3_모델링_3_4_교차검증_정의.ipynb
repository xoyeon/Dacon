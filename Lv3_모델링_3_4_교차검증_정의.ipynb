{
  "nbformat": 4,
  "nbformat_minor": 0,
  "metadata": {
    "colab": {
      "name": "Lv3 모델링 3/4 교차검증 정의",
      "provenance": [],
      "collapsed_sections": [
        "J1Is2vFL4cxY"
      ],
      "include_colab_link": true
    },
    "kernelspec": {
      "name": "python3",
      "display_name": "Python 3"
    },
    "language_info": {
      "name": "python"
    }
  },
  "cells": [
    {
      "cell_type": "markdown",
      "metadata": {
        "id": "view-in-github",
        "colab_type": "text"
      },
      "source": [
        "<a href=\"https://colab.research.google.com/github/xoyeon/Dacon-Daily-Python-Camp_follow/blob/main/Lv3_%EB%AA%A8%EB%8D%B8%EB%A7%81_3_4_%EA%B5%90%EC%B0%A8%EA%B2%80%EC%A6%9D_%EC%A0%95%EC%9D%98.ipynb\" target=\"_parent\"><img src=\"https://colab.research.google.com/assets/colab-badge.svg\" alt=\"Open In Colab\"/></a>"
      ]
    },
    {
      "cell_type": "markdown",
      "metadata": {
        "id": "vIpjpOEXsoW0"
      },
      "source": [
        "# [↩️ 리스트로 돌아가기](https://dacon.io/competitions/open/235698/overview/description)"
      ]
    },
    {
      "cell_type": "markdown",
      "metadata": {
        "id": "cdkhATahdXka"
      },
      "source": [
        "# 셀을 실행할 때 팝업이 뜨면 `무시하고 계속하기` 를 눌러주세요\n"
      ]
    },
    {
      "cell_type": "markdown",
      "metadata": {
        "id": "Njt0HrWtCfg2"
      },
      "source": [
        "## 데이터 다운로드\n",
        "---\n",
        "아래 셀을 실행시켜 데이터를 colab 에 불러옵니다.\n",
        "셀 실행은 Ctrl + Enter 를 이용해 실행시킬 수 있습니다."
      ]
    },
    {
      "cell_type": "code",
      "metadata": {
        "id": "AEAqDnUPCtNT",
        "colab": {
          "base_uri": "https://localhost:8080/"
        },
        "outputId": "6c8c9371-9ed8-4b07-f008-c7610329166a"
      },
      "source": [
        "# 데이터 다운로드 링크로 데이터를 코랩에 불러옵니다.\n",
        "\n",
        "!wget 'https://bit.ly/3i4n1QB'\n",
        "\n",
        "import zipfile\n",
        "with zipfile.ZipFile('3i4n1QB', 'r') as existing_zip:\n",
        "    existing_zip.extractall('data')"
      ],
      "execution_count": 1,
      "outputs": [
        {
          "output_type": "stream",
          "text": [
            "--2021-08-24 00:24:02--  https://bit.ly/3i4n1QB\n",
            "Resolving bit.ly (bit.ly)... 67.199.248.10, 67.199.248.11\n",
            "Connecting to bit.ly (bit.ly)|67.199.248.10|:443... connected.\n",
            "HTTP request sent, awaiting response... 301 Moved Permanently\n",
            "Location: https://drive.google.com/uc?export=download&id=1emLrrpFWT8dCoj5BJb12-5QMG2-nruUw [following]\n",
            "--2021-08-24 00:24:03--  https://drive.google.com/uc?export=download&id=1emLrrpFWT8dCoj5BJb12-5QMG2-nruUw\n",
            "Resolving drive.google.com (drive.google.com)... 172.217.1.206, 2607:f8b0:4004:808::200e\n",
            "Connecting to drive.google.com (drive.google.com)|172.217.1.206|:443... connected.\n",
            "HTTP request sent, awaiting response... 302 Moved Temporarily\n",
            "Location: https://doc-10-10-docs.googleusercontent.com/docs/securesc/ha0ro937gcuc7l7deffksulhg5h7mbp1/4vn72t85ttj3punat5gqvg6nd7ab2q0c/1629764625000/17946651057176172524/*/1emLrrpFWT8dCoj5BJb12-5QMG2-nruUw?e=download [following]\n",
            "Warning: wildcards not supported in HTTP.\n",
            "--2021-08-24 00:24:04--  https://doc-10-10-docs.googleusercontent.com/docs/securesc/ha0ro937gcuc7l7deffksulhg5h7mbp1/4vn72t85ttj3punat5gqvg6nd7ab2q0c/1629764625000/17946651057176172524/*/1emLrrpFWT8dCoj5BJb12-5QMG2-nruUw?e=download\n",
            "Resolving doc-10-10-docs.googleusercontent.com (doc-10-10-docs.googleusercontent.com)... 172.217.2.97, 2607:f8b0:4004:80a::2001\n",
            "Connecting to doc-10-10-docs.googleusercontent.com (doc-10-10-docs.googleusercontent.com)|172.217.2.97|:443... connected.\n",
            "HTTP request sent, awaiting response... 200 OK\n",
            "Length: 137694 (134K) [application/zip]\n",
            "Saving to: ‘3i4n1QB’\n",
            "\n",
            "3i4n1QB             100%[===================>] 134.47K  --.-KB/s    in 0.02s   \n",
            "\n",
            "2021-08-24 00:24:04 (5.68 MB/s) - ‘3i4n1QB’ saved [137694/137694]\n",
            "\n"
          ],
          "name": "stdout"
        }
      ]
    },
    {
      "cell_type": "code",
      "metadata": {
        "id": "GqVbFVMCGJzT"
      },
      "source": [
        "# 라이브러리 불러오기\n",
        "\n",
        "import pandas as pd\n",
        "from sklearn.preprocessing import MinMaxScaler, OneHotEncoder\n",
        "from sklearn.ensemble import RandomForestClassifier"
      ],
      "execution_count": 2,
      "outputs": []
    },
    {
      "cell_type": "code",
      "metadata": {
        "id": "Cc10QSz6eyPa",
        "colab": {
          "base_uri": "https://localhost:8080/",
          "height": 223
        },
        "outputId": "6f76212e-cf2a-4807-83d0-fb2efc91c558"
      },
      "source": [
        "train = pd.read_csv('data/train.csv')\n",
        "\n",
        "# Scailing\n",
        "scaler = MinMaxScaler()\n",
        "scaler.fit(train[['fixed acidity']])\n",
        "train['Scaled fixed acidity'] = scaler.transform(train[['fixed acidity']])\n",
        "\n",
        "# Encoding\n",
        "encoder = OneHotEncoder()\n",
        "encoder.fit(train[['type']])\n",
        "onehot = encoder.transform(train[['type']])\n",
        "onehot = onehot.toarray()\n",
        "onehot = pd.DataFrame(onehot)\n",
        "onehot.columns = encoder.get_feature_names()\n",
        "train = pd.concat([train, onehot], axis = 1)\n",
        "train = train.drop(columns = ['type'])\n",
        "train.head()"
      ],
      "execution_count": 3,
      "outputs": [
        {
          "output_type": "execute_result",
          "data": {
            "text/html": [
              "<div>\n",
              "<style scoped>\n",
              "    .dataframe tbody tr th:only-of-type {\n",
              "        vertical-align: middle;\n",
              "    }\n",
              "\n",
              "    .dataframe tbody tr th {\n",
              "        vertical-align: top;\n",
              "    }\n",
              "\n",
              "    .dataframe thead th {\n",
              "        text-align: right;\n",
              "    }\n",
              "</style>\n",
              "<table border=\"1\" class=\"dataframe\">\n",
              "  <thead>\n",
              "    <tr style=\"text-align: right;\">\n",
              "      <th></th>\n",
              "      <th>index</th>\n",
              "      <th>quality</th>\n",
              "      <th>fixed acidity</th>\n",
              "      <th>volatile acidity</th>\n",
              "      <th>citric acid</th>\n",
              "      <th>residual sugar</th>\n",
              "      <th>chlorides</th>\n",
              "      <th>free sulfur dioxide</th>\n",
              "      <th>total sulfur dioxide</th>\n",
              "      <th>density</th>\n",
              "      <th>pH</th>\n",
              "      <th>sulphates</th>\n",
              "      <th>alcohol</th>\n",
              "      <th>Scaled fixed acidity</th>\n",
              "      <th>x0_red</th>\n",
              "      <th>x0_white</th>\n",
              "    </tr>\n",
              "  </thead>\n",
              "  <tbody>\n",
              "    <tr>\n",
              "      <th>0</th>\n",
              "      <td>0</td>\n",
              "      <td>5</td>\n",
              "      <td>5.6</td>\n",
              "      <td>0.695</td>\n",
              "      <td>0.06</td>\n",
              "      <td>6.8</td>\n",
              "      <td>0.042</td>\n",
              "      <td>9.0</td>\n",
              "      <td>84.0</td>\n",
              "      <td>0.99432</td>\n",
              "      <td>3.44</td>\n",
              "      <td>0.44</td>\n",
              "      <td>10.2</td>\n",
              "      <td>0.148760</td>\n",
              "      <td>0.0</td>\n",
              "      <td>1.0</td>\n",
              "    </tr>\n",
              "    <tr>\n",
              "      <th>1</th>\n",
              "      <td>1</td>\n",
              "      <td>5</td>\n",
              "      <td>8.8</td>\n",
              "      <td>0.610</td>\n",
              "      <td>0.14</td>\n",
              "      <td>2.4</td>\n",
              "      <td>0.067</td>\n",
              "      <td>10.0</td>\n",
              "      <td>42.0</td>\n",
              "      <td>0.99690</td>\n",
              "      <td>3.19</td>\n",
              "      <td>0.59</td>\n",
              "      <td>9.5</td>\n",
              "      <td>0.413223</td>\n",
              "      <td>1.0</td>\n",
              "      <td>0.0</td>\n",
              "    </tr>\n",
              "    <tr>\n",
              "      <th>2</th>\n",
              "      <td>2</td>\n",
              "      <td>5</td>\n",
              "      <td>7.9</td>\n",
              "      <td>0.210</td>\n",
              "      <td>0.39</td>\n",
              "      <td>2.0</td>\n",
              "      <td>0.057</td>\n",
              "      <td>21.0</td>\n",
              "      <td>138.0</td>\n",
              "      <td>0.99176</td>\n",
              "      <td>3.05</td>\n",
              "      <td>0.52</td>\n",
              "      <td>10.9</td>\n",
              "      <td>0.338843</td>\n",
              "      <td>0.0</td>\n",
              "      <td>1.0</td>\n",
              "    </tr>\n",
              "    <tr>\n",
              "      <th>3</th>\n",
              "      <td>3</td>\n",
              "      <td>6</td>\n",
              "      <td>7.0</td>\n",
              "      <td>0.210</td>\n",
              "      <td>0.31</td>\n",
              "      <td>6.0</td>\n",
              "      <td>0.046</td>\n",
              "      <td>29.0</td>\n",
              "      <td>108.0</td>\n",
              "      <td>0.99390</td>\n",
              "      <td>3.26</td>\n",
              "      <td>0.50</td>\n",
              "      <td>10.8</td>\n",
              "      <td>0.264463</td>\n",
              "      <td>0.0</td>\n",
              "      <td>1.0</td>\n",
              "    </tr>\n",
              "    <tr>\n",
              "      <th>4</th>\n",
              "      <td>4</td>\n",
              "      <td>6</td>\n",
              "      <td>7.8</td>\n",
              "      <td>0.400</td>\n",
              "      <td>0.26</td>\n",
              "      <td>9.5</td>\n",
              "      <td>0.059</td>\n",
              "      <td>32.0</td>\n",
              "      <td>178.0</td>\n",
              "      <td>0.99550</td>\n",
              "      <td>3.04</td>\n",
              "      <td>0.43</td>\n",
              "      <td>10.9</td>\n",
              "      <td>0.330579</td>\n",
              "      <td>0.0</td>\n",
              "      <td>1.0</td>\n",
              "    </tr>\n",
              "  </tbody>\n",
              "</table>\n",
              "</div>"
            ],
            "text/plain": [
              "   index  quality  fixed acidity  ...  Scaled fixed acidity  x0_red  x0_white\n",
              "0      0        5            5.6  ...              0.148760     0.0       1.0\n",
              "1      1        5            8.8  ...              0.413223     1.0       0.0\n",
              "2      2        5            7.9  ...              0.338843     0.0       1.0\n",
              "3      3        6            7.0  ...              0.264463     0.0       1.0\n",
              "4      4        6            7.8  ...              0.330579     0.0       1.0\n",
              "\n",
              "[5 rows x 16 columns]"
            ]
          },
          "metadata": {},
          "execution_count": 3
        }
      ]
    },
    {
      "cell_type": "markdown",
      "metadata": {
        "id": "ZksEbPou52yW"
      },
      "source": [
        "## 👋 실습\n",
        "---"
      ]
    },
    {
      "cell_type": "code",
      "metadata": {
        "id": "f5qUB2Kggvfr"
      },
      "source": [
        "# sklearn에 model_selection 부분 속 KFold를 불러와보세요\n",
        "from sklearn.model_selection import KFold"
      ],
      "execution_count": 4,
      "outputs": []
    },
    {
      "cell_type": "code",
      "metadata": {
        "id": "lMapQ35MgwYi"
      },
      "source": [
        "# KFold에 n_splits = 5, shuffle = True, random_state = 0이라는 인자를 추가해 \"kf\"라는 변수에 저장해보세요\n",
        "kf = KFold(n_splits = 5, shuffle = True, random_state = 0)"
      ],
      "execution_count": 5,
      "outputs": []
    },
    {
      "cell_type": "code",
      "metadata": {
        "id": "qzJT4uFm3mbf"
      },
      "source": [
        "# 반복문을 통해서 1번부터 5번까지의 데이터에 접근해보세요\n",
        "for train_idx, valid_idx in kf.split(train):\n",
        "  \n",
        "  train_data = train.iloc[train_idx]\n",
        "  valid_data = train.iloc[valid_idx]"
      ],
      "execution_count": 6,
      "outputs": []
    },
    {
      "cell_type": "markdown",
      "metadata": {
        "id": "J1Is2vFL4cxY"
      },
      "source": [
        "## 정답\n",
        "---"
      ]
    },
    {
      "cell_type": "code",
      "metadata": {
        "id": "VgxlZT6rg7e4"
      },
      "source": [
        "# sklearn에 model_selection 부분 속 KFold를 불러와보세요\n",
        "from sklearn.model_selection import KFold"
      ],
      "execution_count": null,
      "outputs": []
    },
    {
      "cell_type": "code",
      "metadata": {
        "id": "-tPr7UQWgw5p"
      },
      "source": [
        "# KFold에 n_splits = 5, shuffle = True, random_state = 0이라는 인자를 추가해 \"kf\"라는 변수에 저장해보세요\n",
        "kf = KFold(n_splits = 5, shuffle = True, random_state = 0)"
      ],
      "execution_count": null,
      "outputs": []
    },
    {
      "cell_type": "code",
      "metadata": {
        "id": "pei4NWmC1Jqc"
      },
      "source": [
        "# 반복문을 통해서 1번부터 5번까지의 데이터에 접근해보세요\n",
        "\n",
        "for train_idx, valid_idx in kf.split(train) :\n",
        "  train_data = train.iloc[train_idx]\n",
        "  valid_data = train.iloc[valid_idx]"
      ],
      "execution_count": null,
      "outputs": []
    },
    {
      "cell_type": "code",
      "metadata": {
        "id": "iYLIvPZo1ezT",
        "colab": {
          "base_uri": "https://localhost:8080/",
          "height": 320
        },
        "outputId": "3d3a6889-5abc-4798-9c4f-5887dbb18bd0"
      },
      "source": [
        "# 이 코드는 순서대로 이해하려 해보세요 :)\n",
        "\n",
        "import matplotlib.pyplot as plt\n",
        "\n",
        "\n",
        "kf = KFold(n_splits = 5, shuffle = False, random_state = 0)\n",
        "train_idx_store = []\n",
        "valid_idx_store = []\n",
        "\n",
        "i = 1\n",
        "for train_idx, valid_idx in kf.split(train) :\n",
        "  plt.scatter(valid_idx, [i for x in range(len(valid_idx))], alpha = 0.1)\n",
        "  i += 1\n",
        "plt.show()\n",
        "\n",
        "\n",
        "## 아래의 이미지는 shuffle = False로 했을 때, 데이터가 겹치지 않게 순서대로 쪼개지는 것을 볼 수 있습니다."
      ],
      "execution_count": 7,
      "outputs": [
        {
          "output_type": "stream",
          "text": [
            "/usr/local/lib/python3.7/dist-packages/sklearn/model_selection/_split.py:296: FutureWarning: Setting a random_state has no effect since shuffle is False. This will raise an error in 0.24. You should leave random_state to its default (None), or set shuffle=True.\n",
            "  FutureWarning\n"
          ],
          "name": "stderr"
        },
        {
          "output_type": "display_data",
          "data": {
            "image/png": "[encoded data removed]",
            "text/plain": [
              "<Figure size 432x288 with 1 Axes>"
            ]
          },
          "metadata": {
            "needs_background": "light"
          }
        }
      ]
    },
    {
      "cell_type": "markdown",
      "metadata": {
        "id": "K8YgC54VtiB7"
      },
      "source": [
        "# [↩️ 리스트로 돌아가기](https://dacon.io/competitions/open/235698/overview/description)"
      ]
    }
  ]
}