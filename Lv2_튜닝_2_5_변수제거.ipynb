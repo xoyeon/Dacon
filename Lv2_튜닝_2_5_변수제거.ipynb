{
  "nbformat": 4,
  "nbformat_minor": 0,
  "metadata": {
    "colab": {
      "name": "Lv2 튜닝 2/5 변수제거",
      "provenance": [],
      "collapsed_sections": [
        "J1Is2vFL4cxY"
      ],
      "include_colab_link": true
    },
    "kernelspec": {
      "name": "python3",
      "display_name": "Python 3"
    },
    "language_info": {
      "name": "python"
    }
  },
  "cells": [
    {
      "cell_type": "markdown",
      "metadata": {
        "id": "view-in-github",
        "colab_type": "text"
      },
      "source": [
        "<a href=\"https://colab.research.google.com/github/xoyeon/Dacon-Daily-Python-Camp_follow/blob/main/Lv2_%ED%8A%9C%EB%8B%9D_2_5_%EB%B3%80%EC%88%98%EC%A0%9C%EA%B1%B0.ipynb\" target=\"_parent\"><img src=\"https://colab.research.google.com/assets/colab-badge.svg\" alt=\"Open In Colab\"/></a>"
      ]
    },
    {
      "cell_type": "markdown",
      "metadata": {
        "id": "vIpjpOEXsoW0"
      },
      "source": [
        "# [↩️ 리스트로 돌아가기](https://dacon.io/competitions/open/235698/overview/description)"
      ]
    },
    {
      "cell_type": "markdown",
      "metadata": {
        "id": "Y8EsppNShcez"
      },
      "source": [
        "# 셀을 실행할 때 팝업이 뜨면 `무시하고 계속하기` 를 눌러주세요\n"
      ]
    },
    {
      "cell_type": "markdown",
      "metadata": {
        "id": "7A1_NrpnNgI0"
      },
      "source": [
        "## 데이터 다운로드\n",
        "--- \n",
        "아래 셀을 실행시켜 데이터를 colab에 불러옵니다.  \n",
        "셀 실행은 Ctrl + Enter 를 이용해 실행 시킬 수 있습니다. "
      ]
    },
    {
      "cell_type": "code",
      "metadata": {
        "id": "a3VxvpLvhnap",
        "outputId": "b5d513f5-0758-4ea9-832f-5ec548bf26c8",
        "colab": {
          "base_uri": "https://localhost:8080/"
        }
      },
      "source": [
        "# 데이터 다운로드 링크로 데이터를 코랩에 불러옵니다.\n",
        "\n",
        "!wget 'https://bit.ly/3gLj0Q6'\n",
        "\n",
        "import zipfile\n",
        "with zipfile.ZipFile('3gLj0Q6', 'r') as existing_zip:\n",
        "    existing_zip.extractall('data')"
      ],
      "execution_count": 1,
      "outputs": [
        {
          "output_type": "stream",
          "text": [
            "--2021-08-20 02:53:10--  https://bit.ly/3gLj0Q6\n",
            "Resolving bit.ly (bit.ly)... 67.199.248.11, 67.199.248.10\n",
            "Connecting to bit.ly (bit.ly)|67.199.248.11|:443... connected.\n",
            "HTTP request sent, awaiting response... 301 Moved Permanently\n",
            "Location: https://drive.google.com/uc?export=download&id=1or_QN1ksv81DNog6Tu_kWcZ5jJWf5W9E [following]\n",
            "--2021-08-20 02:53:10--  https://drive.google.com/uc?export=download&id=1or_QN1ksv81DNog6Tu_kWcZ5jJWf5W9E\n",
            "Resolving drive.google.com (drive.google.com)... 74.125.20.101, 74.125.20.138, 74.125.20.100, ...\n",
            "Connecting to drive.google.com (drive.google.com)|74.125.20.101|:443... connected.\n",
            "HTTP request sent, awaiting response... 302 Moved Temporarily\n",
            "Location: https://doc-0c-10-docs.googleusercontent.com/docs/securesc/ha0ro937gcuc7l7deffksulhg5h7mbp1/sd44ph1hm1bh1vq5l13cfqpvjgkd51iu/1629427950000/17946651057176172524/*/1or_QN1ksv81DNog6Tu_kWcZ5jJWf5W9E?e=download [following]\n",
            "Warning: wildcards not supported in HTTP.\n",
            "--2021-08-20 02:53:11--  https://doc-0c-10-docs.googleusercontent.com/docs/securesc/ha0ro937gcuc7l7deffksulhg5h7mbp1/sd44ph1hm1bh1vq5l13cfqpvjgkd51iu/1629427950000/17946651057176172524/*/1or_QN1ksv81DNog6Tu_kWcZ5jJWf5W9E?e=download\n",
            "Resolving doc-0c-10-docs.googleusercontent.com (doc-0c-10-docs.googleusercontent.com)... 74.125.195.132, 2607:f8b0:400e:c09::84\n",
            "Connecting to doc-0c-10-docs.googleusercontent.com (doc-0c-10-docs.googleusercontent.com)|74.125.195.132|:443... connected.\n",
            "HTTP request sent, awaiting response... 200 OK\n",
            "Length: 39208 (38K) [application/zip]\n",
            "Saving to: ‘3gLj0Q6’\n",
            "\n",
            "3gLj0Q6             100%[===================>]  38.29K  --.-KB/s    in 0s      \n",
            "\n",
            "2021-08-20 02:53:13 (105 MB/s) - ‘3gLj0Q6’ saved [39208/39208]\n",
            "\n"
          ],
          "name": "stdout"
        }
      ]
    },
    {
      "cell_type": "markdown",
      "metadata": {
        "id": "gx8XCXCxeQk8"
      },
      "source": [
        "## 라이브러리 불러오기\n",
        "---\n",
        "아래 셀을 실행시켜 pandas 와 DecisionTreeClassifier 를 불러옵니다."
      ]
    },
    {
      "cell_type": "code",
      "metadata": {
        "id": "kt_IKrkPeNwQ"
      },
      "source": [
        "import pandas as pd\n",
        "from sklearn.ensemble import RandomForestRegressor"
      ],
      "execution_count": 2,
      "outputs": []
    },
    {
      "cell_type": "markdown",
      "metadata": {
        "id": "VxC2pa2-rgat"
      },
      "source": [
        "## 데이터 불러오기\n",
        "---\n",
        "아래 셀을 실행시켜 csv 파일 데이터를 DataFrame 객체로 불러옵니다."
      ]
    },
    {
      "cell_type": "code",
      "metadata": {
        "id": "V6wTaK4sfnms"
      },
      "source": [
        "train = pd.read_csv('data/train.csv') \n",
        "test = pd.read_csv('data/test.csv')"
      ],
      "execution_count": 4,
      "outputs": []
    },
    {
      "cell_type": "markdown",
      "metadata": {
        "id": "w_PwM9kF7Pbi"
      },
      "source": [
        "## 결측치 전처리\n",
        "---\n",
        "train 은 interpolate() 를 이용해 결측치를 DataFrame 값에 선형으로 비례하여 보간합니다.\n",
        "test 의 결측치는 0으로 채워줍니다."
      ]
    },
    {
      "cell_type": "code",
      "metadata": {
        "id": "H2K-UbwAkuJ6"
      },
      "source": [
        "train.interpolate(inplace=True)\n",
        "test.fillna(0, inplace=True)"
      ],
      "execution_count": 5,
      "outputs": []
    },
    {
      "cell_type": "markdown",
      "metadata": {
        "id": "xgP6p_GO86fg"
      },
      "source": [
        "## 모델 훈련\n",
        "---"
      ]
    },
    {
      "cell_type": "code",
      "metadata": {
        "id": "Cc10QSz6eyPa"
      },
      "source": [
        "X_train = train.drop(['count'], axis=1)\n",
        "Y_train = train['count']"
      ],
      "execution_count": 6,
      "outputs": []
    },
    {
      "cell_type": "code",
      "metadata": {
        "id": "L7_OxhLblCZ_",
        "outputId": "23ce14dc-d568-4c4e-eb48-eba0dd4992cb",
        "colab": {
          "base_uri": "https://localhost:8080/"
        }
      },
      "source": [
        "model = RandomForestRegressor(criterion = 'mse')\n",
        "model.fit(X_train, Y_train)"
      ],
      "execution_count": 7,
      "outputs": [
        {
          "output_type": "execute_result",
          "data": {
            "text/plain": [
              "RandomForestRegressor(bootstrap=True, ccp_alpha=0.0, criterion='mse',\n",
              "                      max_depth=None, max_features='auto', max_leaf_nodes=None,\n",
              "                      max_samples=None, min_impurity_decrease=0.0,\n",
              "                      min_impurity_split=None, min_samples_leaf=1,\n",
              "                      min_samples_split=2, min_weight_fraction_leaf=0.0,\n",
              "                      n_estimators=100, n_jobs=None, oob_score=False,\n",
              "                      random_state=None, verbose=0, warm_start=False)"
            ]
          },
          "metadata": {},
          "execution_count": 7
        }
      ]
    },
    {
      "cell_type": "code",
      "metadata": {
        "id": "jaI0teRl7kGK",
        "outputId": "d5da32e2-0cf4-4fe5-a2e8-03f5a72f5c8c",
        "colab": {
          "base_uri": "https://localhost:8080/"
        }
      },
      "source": [
        "model.feature_importances_"
      ],
      "execution_count": 8,
      "outputs": [
        {
          "output_type": "execute_result",
          "data": {
            "text/plain": [
              "array([0.02614406, 0.59127352, 0.18272619, 0.01977855, 0.02539702,\n",
              "       0.03446154, 0.0331589 , 0.03469987, 0.03129716, 0.0210632 ])"
            ]
          },
          "metadata": {},
          "execution_count": 8
        }
      ]
    },
    {
      "cell_type": "markdown",
      "metadata": {
        "id": "ZksEbPou52yW"
      },
      "source": [
        "## 👋 실습\n",
        "---"
      ]
    },
    {
      "cell_type": "code",
      "metadata": {
        "id": "_krUfCooekRM"
      },
      "source": [
        "# X_train 에서 drop 할 피쳐의 경우의 수 대로 3개의 X_train 을 생성하세요.\n",
        "X_train_1 = train.drop(['drop 할 피쳐'], axis=1)\n",
        "\n",
        "# 각 train 에 따라 동일하게 피쳐를 drop 한 test 셋들을 생성하세요.\n",
        "test_1 = test.drop(['drop 할 피쳐'], axis = 1)\n",
        "\n",
        "# 각 X_train 에 대해 모델 훈련을 해주세요.\n",
        "model_input_var1 = RandomForestRegressor(criterion = 'mse')\n",
        "model_input_var1.fit(X_train_1, Y_train)\n",
        "\n",
        "# 각 모델로 test 셋들을 예측해주세요.\n",
        "y_pred_1 = model_input_var1.predict(test_1)\n",
        "\n",
        "# 각 결과들을 submission 파일로 저장해주세요.\n",
        "submission_1 = pd.read_csv('data/submission.csv')\n",
        "submission_1['count'] = y_pred_1\n",
        "submission_1.to_csv('sub_1.csv', index = False)"
      ],
      "execution_count": null,
      "outputs": []
    },
    {
      "cell_type": "markdown",
      "metadata": {
        "id": "90MYIn_GeoW4"
      },
      "source": [
        "우선 id 피쳐는 예측에 의미가 없는 피쳐입니다. id 와 count 를 drop 한 X_train_1 훈련 df 을 새로 생성합니다. 예측을 할 때 test 는 훈련 셋과 동일한 피쳐를 가져야 합니다. 따라서 동일하게 피쳐를 drop 한 test_1 df 를 생성해줍니다.\n",
        "\n",
        "hour_bef_windspeed 와 hour_bef_pm2.5 피쳐에 관하여도 추가로 drop 을 수행하면서 위의 과정을 반복해보세요. 그럼 총 3 쌍의 X_train 셋과 test 셋이 생성됩니다.\n",
        "\n"
      ]
    },
    {
      "cell_type": "code",
      "metadata": {
        "id": "86ldFLXsk2GZ"
      },
      "source": [
        "# X_train 에서 drop 할 피쳐의 경우에 수 대로 3개의 X_train 을 생성하세요.\n",
        "X_train1 = train.drop(['id','count'],axis=1)\n",
        "X_train2 = train.drop(['id','count','hour_bef_windspeed'],axis=1)\n",
        "X_train3 = train.drop(['id','count','hour_bef_pm2.5'],axis=1)"
      ],
      "execution_count": 9,
      "outputs": []
    },
    {
      "cell_type": "code",
      "metadata": {
        "id": "mYzRYGllf21z"
      },
      "source": [
        "# 각 train 에 따라 동일하게 피쳐를 drop 한 test 셋들을 생성하세요.\n",
        "test_1 = test.drop(['id'],axis=1)\n",
        "test_2 = test.drop(['id','hour_bef_windspeed'],axis=1)\n",
        "test_3 = test.drop(['id','hour_bef_pm2.5'],axis=1)"
      ],
      "execution_count": 12,
      "outputs": []
    },
    {
      "cell_type": "code",
      "metadata": {
        "id": "Dx1Bnx_c2nJy",
        "outputId": "1d4fb2d3-ee42-40cb-cb71-e74c5684dab5",
        "colab": {
          "base_uri": "https://localhost:8080/"
        }
      },
      "source": [
        "# 각 X_train에 대해 모델 훈련을 해주세요.\n",
        "model_input_var1 = RandomForestRegressor(criterion = 'mse')\n",
        "model_input_var1.fit(X_train1, Y_train)\n",
        "\n",
        "model_input_var2 = RandomForestRegressor(criterion = 'mse')\n",
        "model_input_var2.fit(X_train2, Y_train)\n",
        "\n",
        "model_input_var3 = RandomForestRegressor(criterion = 'mse')\n",
        "model_input_var3.fit(X_train3, Y_train)"
      ],
      "execution_count": 13,
      "outputs": [
        {
          "output_type": "execute_result",
          "data": {
            "text/plain": [
              "RandomForestRegressor(bootstrap=True, ccp_alpha=0.0, criterion='mse',\n",
              "                      max_depth=None, max_features='auto', max_leaf_nodes=None,\n",
              "                      max_samples=None, min_impurity_decrease=0.0,\n",
              "                      min_impurity_split=None, min_samples_leaf=1,\n",
              "                      min_samples_split=2, min_weight_fraction_leaf=0.0,\n",
              "                      n_estimators=100, n_jobs=None, oob_score=False,\n",
              "                      random_state=None, verbose=0, warm_start=False)"
            ]
          },
          "metadata": {},
          "execution_count": 13
        }
      ]
    },
    {
      "cell_type": "code",
      "metadata": {
        "id": "zRXoXsF13pK7"
      },
      "source": [
        "# 각 모델로 test 셋들을 예측해주세요.\n",
        "y_pred_1 = model_input_var1.predict(test_1)\n",
        "y_pred_2 = model_input_var2.predict(test_2)\n",
        "y_pred_3 = model_input_var3.predict(test_3)"
      ],
      "execution_count": 14,
      "outputs": []
    },
    {
      "cell_type": "code",
      "metadata": {
        "id": "dYyBlm3d3vNw"
      },
      "source": [
        "# 각 결과들을 submission 파일로 저장해주세요.\n",
        "submission_1 = pd.read_csv('data/submission.csv')\n",
        "submission_1['count'] = y_pred_1\n",
        "submission_1.to_csv('sub_1.csv', index = False)\n",
        "\n",
        "submission_2 = pd.read_csv('data/submission.csv')\n",
        "submission_2['count'] = y_pred_2\n",
        "submission_2.to_csv('sub_2.csv', index = False)\n",
        "\n",
        "submission_3 = pd.read_csv('data/submission.csv')\n",
        "submission_3['count'] = y_pred_3\n",
        "submission_3.to_csv('sub_3.csv', index = False)"
      ],
      "execution_count": 15,
      "outputs": []
    },
    {
      "cell_type": "markdown",
      "metadata": {
        "id": "J1Is2vFL4cxY"
      },
      "source": [
        "## 정답\n",
        "---"
      ]
    },
    {
      "cell_type": "code",
      "metadata": {
        "id": "ZOHdV_UjJ-Y9"
      },
      "source": [
        "# X_train 에서 drop 할 피쳐의 경우에 수 대로 3개의 X_train 을 생성하세요.\n",
        "\n",
        "X_train_1 = train.drop(['count','id'], axis=1)\n",
        "X_train_2 = train.drop(['count', 'id', 'hour_bef_windspeed'], axis=1)\n",
        "X_train_3 = train.drop(['count', 'id', 'hour_bef_windspeed', 'hour_bef_pm2.5'], axis=1)\n",
        "\n",
        "# 각 train 에 따라 동일하게 피쳐를 drop 한 test 셋들을 생성하세요.\n",
        "\n",
        "test_1 = test.drop(['id'], axis=1)\n",
        "test_2 = test.drop(['id', 'hour_bef_windspeed'], axis=1)\n",
        "test_3 = test.drop(['id', 'hour_bef_windspeed', 'hour_bef_pm2.5'], axis=1)"
      ],
      "execution_count": null,
      "outputs": []
    },
    {
      "cell_type": "code",
      "metadata": {
        "id": "rGbL9SKEPrnk"
      },
      "source": [
        "# 각 X_train에 대해 모델 훈련을 해주세요.\n",
        "\n",
        "model_input_var1 = RandomForestRegressor(criterion = 'mse')\n",
        "model_input_var1.fit(X_train_1, Y_train)\n",
        "\n",
        "model_input_var2 = RandomForestRegressor(criterion = 'mse')\n",
        "model_input_var2.fit(X_train_2, Y_train)\n",
        "\n",
        "model_input_var3 = RandomForestRegressor(criterion = 'mse')\n",
        "model_input_var3.fit(X_train_3, Y_train)"
      ],
      "execution_count": null,
      "outputs": []
    },
    {
      "cell_type": "code",
      "metadata": {
        "id": "XQZhCUCap4mD"
      },
      "source": [
        "# 각 모델로 test 셋들을 예측해주세요.\n",
        "\n",
        "y_pred_1 = model_input_var1.predict(test_1)\n",
        "y_pred_2 = model_input_var2.predict(test_2)\n",
        "y_pred_3 = model_input_var3.predict(test_3)"
      ],
      "execution_count": null,
      "outputs": []
    },
    {
      "cell_type": "code",
      "metadata": {
        "id": "oFlh7313va1X"
      },
      "source": [
        "# 각 결과들을 submission 파일로 저장해주세요.\n",
        "\n",
        "submission_1 = pd.read_csv('data/submission.csv')\n",
        "submission_2 = pd.read_csv('data/submission.csv')\n",
        "submission_3 = pd.read_csv('data/submission.csv')\n",
        "\n",
        "submission_1['count'] = y_pred_1\n",
        "submission_2['count'] = y_pred_2\n",
        "submission_3['count'] = y_pred_3\n",
        "\n",
        "submission_1.to_csv('sub_1.csv',index=False)\n",
        "submission_2.to_csv('sub_2.csv',index=False)\n",
        "submission_3.to_csv('sub_3.csv',index=False)"
      ],
      "execution_count": null,
      "outputs": []
    },
    {
      "cell_type": "markdown",
      "metadata": {
        "id": "K8YgC54VtiB7"
      },
      "source": [
        "# [↩️ 리스트로 돌아가기](https://dacon.io/competitions/open/235698/overview/description)"
      ]
    }
  ]
}